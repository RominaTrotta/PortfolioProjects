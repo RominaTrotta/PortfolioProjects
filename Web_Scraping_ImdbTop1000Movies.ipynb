{
 "cells": [
  {
   "cell_type": "markdown",
   "metadata": {},
   "source": [
    "# IMDb-top-1000-movies-scraping-project\n",
    "\n"
   ]
  },
  {
   "cell_type": "markdown",
   "metadata": {},
   "source": [
    "Project Outline\n",
    "\n",
    "- We're going to scrape https://www.imdb.com/search/title/?groups=top_1000&count=250&start=000&ref_=adv_nxt\n",
    "\n",
    "\n",
    "- We'll get a list of top 1000 movies. For each of them, we'll get:\n",
    "    movie title,\n",
    "    movie duration,\n",
    "    release year,\n",
    "    genre,\n",
    "    rating,\n",
    "    movie page URL.\n",
    "    \n",
    "    \n",
    "- We'll create a CSV file in the following format:\n",
    "\n",
    "    `Movie Title, Release Year, Duration, Genre, Rating, Url\n",
    "    Top Gun: Maverick,2022, 130 min, Action, Drama,8.6, /title/tt1745960/?ref_=adv_li_tt  `  "
   ]
  },
  {
   "cell_type": "markdown",
   "metadata": {},
   "source": [
    "## Install and import necessary modules and libraries"
   ]
  },
  {
   "cell_type": "code",
   "execution_count": 1,
   "metadata": {},
   "outputs": [],
   "source": [
    "import requests \n",
    "from bs4 import BeautifulSoup\n",
    "import pandas as pd"
   ]
  },
  {
   "cell_type": "markdown",
   "metadata": {},
   "source": [
    "## Scrape list of top 1000 movies\n",
    "\n",
    "- use requests to download the page\n",
    "- use BS4 to parse and extract information\n",
    "- convert to a Pandas dataframe"
   ]
  },
  {
   "cell_type": "markdown",
   "metadata": {},
   "source": [
    "1. Download page"
   ]
  },
  {
   "cell_type": "code",
   "execution_count": 2,
   "metadata": {
    "code_folding": []
   },
   "outputs": [],
   "source": [
    "def get_movies_page(url):    \n",
    "    \"\"\"Function to download page.\n",
    "    If it fails to do so, raises an exception.\n",
    "    When successful, returns the html documentation.\"\"\"    \n",
    "        \n",
    "    response = requests.get(url)\n",
    "    \n",
    "    if response.status_code != 200:\n",
    "        raise Exception('Failed to load page {}'.format(url))\n",
    "    \n",
    "    doc = BeautifulSoup(response.text, 'html.parser')\n",
    "    return doc"
   ]
  },
  {
   "cell_type": "code",
   "execution_count": 3,
   "metadata": {},
   "outputs": [],
   "source": [
    "url = 'https://www.imdb.com/search/title/?groups=top_1000&sort=user_rating,desc&count=250&start=000&ref_=adv_nxt'\n",
    "doc = get_movies_page(url)"
   ]
  },
  {
   "cell_type": "markdown",
   "metadata": {},
   "source": [
    "2. Parse info from downloaded page\n",
    "\n",
    "Find specific tags"
   ]
  },
  {
   "cell_type": "markdown",
   "metadata": {},
   "source": [
    "<img src='https://i.imgur.com/3dUYQys.png' width = 2000 height = 100>"
   ]
  },
  {
   "cell_type": "code",
   "execution_count": 4,
   "metadata": {
    "scrolled": true
   },
   "outputs": [
    {
     "data": {
      "text/plain": [
       "<title>IMDb \"Top 1000\"\n",
       "(Sorted by IMDb Rating Descending) - IMDb</title>"
      ]
     },
     "execution_count": 4,
     "metadata": {},
     "output_type": "execute_result"
    }
   ],
   "source": [
    "doc.find('title')"
   ]
  },
  {
   "cell_type": "code",
   "execution_count": 5,
   "metadata": {
    "scrolled": true
   },
   "outputs": [
    {
     "data": {
      "text/plain": [
       "<h3 class=\"lister-item-header\">\n",
       "<span class=\"lister-item-index unbold text-primary\">1.</span>\n",
       "<a href=\"/title/tt0111161/\">The Shawshank Redemption</a>\n",
       "<span class=\"lister-item-year text-muted unbold\">(1994)</span>\n",
       "</h3>"
      ]
     },
     "execution_count": 5,
     "metadata": {},
     "output_type": "execute_result"
    }
   ],
   "source": [
    "doc.find('h3')"
   ]
  },
  {
   "cell_type": "markdown",
   "metadata": {},
   "source": [
    "## Title"
   ]
  },
  {
   "cell_type": "code",
   "execution_count": 6,
   "metadata": {},
   "outputs": [
    {
     "data": {
      "text/plain": [
       "250"
      ]
     },
     "execution_count": 6,
     "metadata": {},
     "output_type": "execute_result"
    }
   ],
   "source": [
    "title_selector = 'lister-item-header'\n",
    "title_tags = doc.find_all('h3',{'class' : title_selector})\n",
    "len(title_tags)"
   ]
  },
  {
   "cell_type": "code",
   "execution_count": 7,
   "metadata": {
    "scrolled": false
   },
   "outputs": [
    {
     "data": {
      "text/plain": [
       "[<a href=\"/title/tt0111161/\">The Shawshank Redemption</a>]"
      ]
     },
     "execution_count": 7,
     "metadata": {},
     "output_type": "execute_result"
    }
   ],
   "source": [
    "title_tags[0].find_all('a')"
   ]
  },
  {
   "cell_type": "code",
   "execution_count": 8,
   "metadata": {
    "code_folding": []
   },
   "outputs": [
    {
     "data": {
      "text/plain": [
       "['The Shawshank Redemption',\n",
       " 'The Godfather',\n",
       " 'Rocketry: The Nambi Effect',\n",
       " 'The Dark Knight']"
      ]
     },
     "execution_count": 8,
     "metadata": {},
     "output_type": "execute_result"
    }
   ],
   "source": [
    "movie_titles = []\n",
    "\n",
    "for tag in title_tags:\n",
    "    title = tag.find('a').text\n",
    "    # print (title)\n",
    "    movie_titles.append(title)\n",
    "#len(movie_titles)\n",
    "movie_titles[:4]"
   ]
  },
  {
   "cell_type": "code",
   "execution_count": 9,
   "metadata": {},
   "outputs": [],
   "source": [
    "def get_movie_titles(doc):\n",
    "    title_selector = 'lister-item-header'\n",
    "    title_tags = doc.find_all('h3',{'class': title_selector})\n",
    "    \n",
    "    movie_titles = []\n",
    "    for tag in title_tags:\n",
    "        title = tag.find('a').text       \n",
    "        movie_titles.append(title)\n",
    "    return movie_titles"
   ]
  },
  {
   "cell_type": "code",
   "execution_count": 10,
   "metadata": {},
   "outputs": [
    {
     "data": {
      "text/plain": [
       "['The Shawshank Redemption',\n",
       " 'The Godfather',\n",
       " 'Rocketry: The Nambi Effect',\n",
       " 'The Dark Knight']"
      ]
     },
     "execution_count": 10,
     "metadata": {},
     "output_type": "execute_result"
    }
   ],
   "source": [
    "get_movie_titles(doc)[:4]"
   ]
  },
  {
   "cell_type": "markdown",
   "metadata": {},
   "source": [
    "## Duration tag"
   ]
  },
  {
   "cell_type": "code",
   "execution_count": 11,
   "metadata": {},
   "outputs": [],
   "source": [
    "dur_selector = 'runtime'\n",
    "duration_tags =  doc.find_all('span',{'class' : dur_selector})"
   ]
  },
  {
   "cell_type": "code",
   "execution_count": 12,
   "metadata": {},
   "outputs": [
    {
     "data": {
      "text/plain": [
       "250"
      ]
     },
     "execution_count": 12,
     "metadata": {},
     "output_type": "execute_result"
    }
   ],
   "source": [
    "len(duration_tags)"
   ]
  },
  {
   "cell_type": "code",
   "execution_count": 13,
   "metadata": {
    "scrolled": true
   },
   "outputs": [
    {
     "data": {
      "text/plain": [
       "[<span class=\"runtime\">142 min</span>,\n",
       " <span class=\"runtime\">175 min</span>,\n",
       " <span class=\"runtime\">157 min</span>,\n",
       " <span class=\"runtime\">152 min</span>]"
      ]
     },
     "execution_count": 13,
     "metadata": {},
     "output_type": "execute_result"
    }
   ],
   "source": [
    "duration_tags[:4]"
   ]
  },
  {
   "cell_type": "code",
   "execution_count": 14,
   "metadata": {},
   "outputs": [
    {
     "data": {
      "text/plain": [
       "['142', '175', '157', '152']"
      ]
     },
     "execution_count": 14,
     "metadata": {},
     "output_type": "execute_result"
    }
   ],
   "source": [
    "movie_duration = []\n",
    "for time in duration_tags:\n",
    "    runtime = time.text[:-4]\n",
    "    movie_duration.append(runtime)\n",
    "movie_duration[:4]"
   ]
  },
  {
   "cell_type": "code",
   "execution_count": 15,
   "metadata": {},
   "outputs": [],
   "source": [
    "def get_runtime(doc):\n",
    "    \n",
    "    dur_selector = 'runtime'\n",
    "    duration_tags =  doc.find_all('span',{'class' : dur_selector})\n",
    "    \n",
    "    movie_duration = []\n",
    "    for time in duration_tags:\n",
    "        runtime = time.text[:-4]\n",
    "        movie_duration.append(runtime)\n",
    "    return movie_duration\n",
    "    "
   ]
  },
  {
   "cell_type": "code",
   "execution_count": 16,
   "metadata": {
    "scrolled": true
   },
   "outputs": [
    {
     "data": {
      "text/plain": [
       "['142', '175', '157', '152']"
      ]
     },
     "execution_count": 16,
     "metadata": {},
     "output_type": "execute_result"
    }
   ],
   "source": [
    "get_runtime(doc)[:4]"
   ]
  },
  {
   "cell_type": "markdown",
   "metadata": {},
   "source": [
    "## Genre tag"
   ]
  },
  {
   "cell_type": "code",
   "execution_count": 17,
   "metadata": {
    "scrolled": true
   },
   "outputs": [
    {
     "data": {
      "text/plain": [
       "[<span class=\"genre\">\n",
       " Drama            </span>,\n",
       " <span class=\"genre\">\n",
       " Crime, Drama            </span>,\n",
       " <span class=\"genre\">\n",
       " Biography, Drama            </span>,\n",
       " <span class=\"genre\">\n",
       " Action, Crime, Drama            </span>]"
      ]
     },
     "execution_count": 17,
     "metadata": {},
     "output_type": "execute_result"
    }
   ],
   "source": [
    "genre_selector = 'genre'\n",
    "genre_tags = doc.find_all('span',{'class':genre_selector})\n",
    "genre_tags[:4]"
   ]
  },
  {
   "cell_type": "code",
   "execution_count": 18,
   "metadata": {},
   "outputs": [],
   "source": [
    "def get_genre(doc):\n",
    "    genre_selector = 'genre'\n",
    "    genre_tags = doc.find_all('span',{'class':genre_selector})\n",
    "    \n",
    "    movie_genre = []\n",
    "    for genre in genre_tags:   \n",
    "        movie_genre.append(genre.text.strip())\n",
    "    return movie_genre"
   ]
  },
  {
   "cell_type": "code",
   "execution_count": 19,
   "metadata": {},
   "outputs": [
    {
     "data": {
      "text/plain": [
       "['Drama', 'Crime, Drama', 'Biography, Drama', 'Action, Crime, Drama']"
      ]
     },
     "execution_count": 19,
     "metadata": {},
     "output_type": "execute_result"
    }
   ],
   "source": [
    "get_genre(doc)[:4]"
   ]
  },
  {
   "cell_type": "markdown",
   "metadata": {},
   "source": [
    "## Rating "
   ]
  },
  {
   "cell_type": "code",
   "execution_count": 20,
   "metadata": {},
   "outputs": [
    {
     "data": {
      "text/plain": [
       "[<div class=\"inline-block ratings-imdb-rating\" data-value=\"9.3\" name=\"ir\">\n",
       " <span class=\"global-sprite rating-star imdb-rating\"></span>\n",
       " <strong>9.3</strong>\n",
       " </div>,\n",
       " <div class=\"inline-block ratings-imdb-rating\" data-value=\"9.2\" name=\"ir\">\n",
       " <span class=\"global-sprite rating-star imdb-rating\"></span>\n",
       " <strong>9.2</strong>\n",
       " </div>,\n",
       " <div class=\"inline-block ratings-imdb-rating\" data-value=\"9.1\" name=\"ir\">\n",
       " <span class=\"global-sprite rating-star imdb-rating\"></span>\n",
       " <strong>9.1</strong>\n",
       " </div>,\n",
       " <div class=\"inline-block ratings-imdb-rating\" data-value=\"9\" name=\"ir\">\n",
       " <span class=\"global-sprite rating-star imdb-rating\"></span>\n",
       " <strong>9.0</strong>\n",
       " </div>]"
      ]
     },
     "execution_count": 20,
     "metadata": {},
     "output_type": "execute_result"
    }
   ],
   "source": [
    "rate_sel = 'inline-block ratings-imdb-rating'\n",
    "rate_tags = doc.find_all('div',{'class':rate_sel})\n",
    "rate_tags[:4]    "
   ]
  },
  {
   "cell_type": "code",
   "execution_count": 21,
   "metadata": {},
   "outputs": [
    {
     "data": {
      "text/plain": [
       "['9.3', '9.2', '9.1', '9.0']"
      ]
     },
     "execution_count": 21,
     "metadata": {},
     "output_type": "execute_result"
    }
   ],
   "source": [
    "rates = []\n",
    "for rate in rate_tags:\n",
    "    rates.append(rate.text.strip())\n",
    "rates[:4]"
   ]
  },
  {
   "cell_type": "code",
   "execution_count": 22,
   "metadata": {},
   "outputs": [],
   "source": [
    "def get_rating(doc):\n",
    "    rate_sel = 'inline-block ratings-imdb-rating'\n",
    "    rate_tags = doc.find_all('div',{'class':rate_sel})\n",
    "    \n",
    "    rates = []\n",
    "    for rate in rate_tags:\n",
    "        rates.append(rate.text.strip())\n",
    "    return rates"
   ]
  },
  {
   "cell_type": "code",
   "execution_count": 23,
   "metadata": {},
   "outputs": [
    {
     "data": {
      "text/plain": [
       "['9.3', '9.2', '9.1', '9.0']"
      ]
     },
     "execution_count": 23,
     "metadata": {},
     "output_type": "execute_result"
    }
   ],
   "source": [
    "get_rating(doc)[:4]"
   ]
  },
  {
   "cell_type": "markdown",
   "metadata": {},
   "source": [
    "## Url tag\n",
    "\n",
    "    "
   ]
  },
  {
   "cell_type": "code",
   "execution_count": 24,
   "metadata": {
    "scrolled": true
   },
   "outputs": [
    {
     "data": {
      "text/plain": [
       "<h3 class=\"lister-item-header\">\n",
       "<span class=\"lister-item-index unbold text-primary\">1.</span>\n",
       "<a href=\"/title/tt0111161/\">The Shawshank Redemption</a>\n",
       "<span class=\"lister-item-year text-muted unbold\">(1994)</span>\n",
       "</h3>"
      ]
     },
     "execution_count": 24,
     "metadata": {},
     "output_type": "execute_result"
    }
   ],
   "source": [
    "url_selec = 'lister-item-header'\n",
    "url_tags = doc.find_all('h3', {'class': url_selec})\n",
    "url_tags[0]"
   ]
  },
  {
   "cell_type": "code",
   "execution_count": 25,
   "metadata": {},
   "outputs": [
    {
     "data": {
      "text/plain": [
       "['https://www.imdb.com/title/tt0111161/',\n",
       " 'https://www.imdb.com/title/tt0068646/']"
      ]
     },
     "execution_count": 25,
     "metadata": {},
     "output_type": "execute_result"
    }
   ],
   "source": [
    "website = 'https://www.imdb.com'\n",
    "urls = []\n",
    "for tag in url_tags:\n",
    "    url = tag.find('a')['href']\n",
    "    urls.append(website + url)\n",
    "urls[:2]"
   ]
  },
  {
   "cell_type": "code",
   "execution_count": 26,
   "metadata": {},
   "outputs": [],
   "source": [
    "def get_url(doc):    \n",
    "    url_selec = 'lister-item-header'\n",
    "    url_tags = doc.find_all('h3', {'class': url_selec})    \n",
    "\n",
    "    website = 'https://www.imdb.com'\n",
    "    urls = []\n",
    "    for tag in url_tags:\n",
    "        url = tag.find('a')['href']\n",
    "        urls.append(website + url)\n",
    "    return urls"
   ]
  },
  {
   "cell_type": "code",
   "execution_count": 27,
   "metadata": {},
   "outputs": [
    {
     "data": {
      "text/plain": [
       "['https://www.imdb.com/title/tt0111161/',\n",
       " 'https://www.imdb.com/title/tt0068646/',\n",
       " 'https://www.imdb.com/title/tt9263550/',\n",
       " 'https://www.imdb.com/title/tt0468569/']"
      ]
     },
     "execution_count": 27,
     "metadata": {},
     "output_type": "execute_result"
    }
   ],
   "source": [
    "get_url(doc)[:4]"
   ]
  },
  {
   "cell_type": "markdown",
   "metadata": {},
   "source": [
    "## Year tag"
   ]
  },
  {
   "cell_type": "code",
   "execution_count": 28,
   "metadata": {
    "scrolled": true
   },
   "outputs": [
    {
     "data": {
      "text/plain": [
       "250"
      ]
     },
     "execution_count": 28,
     "metadata": {},
     "output_type": "execute_result"
    }
   ],
   "source": [
    "year_selector = 'lister-item-year text-muted unbold'\n",
    "year_tags = doc.find_all('span',{'class' : year_selector})\n",
    "len(year_tags)"
   ]
  },
  {
   "cell_type": "code",
   "execution_count": 29,
   "metadata": {
    "code_folding": []
   },
   "outputs": [],
   "source": [
    "def get_year(doc):\n",
    "    year_selector = 'lister-item-year text-muted unbold'\n",
    "    year_tags = doc.find_all('span',{'class' : year_selector})\n",
    "    \n",
    "    years = []\n",
    "    for tag in year_tags:\n",
    "        years.append(tag.text.strip()[-5:-1])\n",
    "    return years"
   ]
  },
  {
   "cell_type": "code",
   "execution_count": 30,
   "metadata": {
    "scrolled": true
   },
   "outputs": [
    {
     "data": {
      "text/plain": [
       "['1994', '1972', '2022', '2008']"
      ]
     },
     "execution_count": 30,
     "metadata": {},
     "output_type": "execute_result"
    }
   ],
   "source": [
    "get_year(doc)[:4]"
   ]
  },
  {
   "cell_type": "markdown",
   "metadata": {},
   "source": [
    "## Go to next pages"
   ]
  },
  {
   "cell_type": "code",
   "execution_count": 31,
   "metadata": {},
   "outputs": [],
   "source": [
    "def visualize_250movies_per_page():\n",
    "    urls=[]\n",
    "    for num in range(1,1000,250):\n",
    "        urls.append('https://www.imdb.com/search/title/?groups=top_1000&sort=user_rating,desc&count=250&start='+ str(num)+ '&ref_=adv_nxt')\n",
    "    return urls"
   ]
  },
  {
   "cell_type": "code",
   "execution_count": 32,
   "metadata": {},
   "outputs": [
    {
     "data": {
      "text/plain": [
       "['https://www.imdb.com/search/title/?groups=top_1000&sort=user_rating,desc&count=250&start=1&ref_=adv_nxt',\n",
       " 'https://www.imdb.com/search/title/?groups=top_1000&sort=user_rating,desc&count=250&start=251&ref_=adv_nxt',\n",
       " 'https://www.imdb.com/search/title/?groups=top_1000&sort=user_rating,desc&count=250&start=501&ref_=adv_nxt',\n",
       " 'https://www.imdb.com/search/title/?groups=top_1000&sort=user_rating,desc&count=250&start=751&ref_=adv_nxt']"
      ]
     },
     "execution_count": 32,
     "metadata": {},
     "output_type": "execute_result"
    }
   ],
   "source": [
    "visualize_250movies_per_page()"
   ]
  },
  {
   "cell_type": "code",
   "execution_count": 33,
   "metadata": {
    "scrolled": true
   },
   "outputs": [
    {
     "data": {
      "text/plain": [
       "4"
      ]
     },
     "execution_count": 33,
     "metadata": {},
     "output_type": "execute_result"
    }
   ],
   "source": [
    "url_250 = visualize_250movies_per_page()\n",
    "len(url_250)"
   ]
  },
  {
   "cell_type": "code",
   "execution_count": 34,
   "metadata": {
    "scrolled": true
   },
   "outputs": [
    {
     "name": "stdout",
     "output_type": "stream",
     "text": [
      "0\n",
      "https://www.imdb.com/search/title/?groups=top_1000&sort=user_rating,desc&count=250&start=1&ref_=adv_nxt\n",
      "1\n",
      "https://www.imdb.com/search/title/?groups=top_1000&sort=user_rating,desc&count=250&start=251&ref_=adv_nxt\n",
      "2\n",
      "https://www.imdb.com/search/title/?groups=top_1000&sort=user_rating,desc&count=250&start=501&ref_=adv_nxt\n",
      "3\n",
      "https://www.imdb.com/search/title/?groups=top_1000&sort=user_rating,desc&count=250&start=751&ref_=adv_nxt\n"
     ]
    }
   ],
   "source": [
    "for i in range(len(url_250)):\n",
    "    print(i)\n",
    "    print(url_250[i])"
   ]
  },
  {
   "cell_type": "markdown",
   "metadata": {},
   "source": [
    "## Create dataframe"
   ]
  },
  {
   "cell_type": "code",
   "execution_count": 35,
   "metadata": {},
   "outputs": [],
   "source": [
    "req = requests.get('https://www.imdb.com/search/title/?groups=top_1000&sort=user_rating,desc&count=250&start=1&ref_=adv_nxt')\n",
    "doc = BeautifulSoup(req.text, 'html.parser')"
   ]
  },
  {
   "cell_type": "code",
   "execution_count": 36,
   "metadata": {},
   "outputs": [
    {
     "data": {
      "text/plain": [
       "<h3 class=\"lister-item-header\">\n",
       "<span class=\"lister-item-index unbold text-primary\">1.</span>\n",
       "<a href=\"/title/tt0111161/\">The Shawshank Redemption</a>\n",
       "<span class=\"lister-item-year text-muted unbold\">(1994)</span>\n",
       "</h3>"
      ]
     },
     "execution_count": 36,
     "metadata": {},
     "output_type": "execute_result"
    }
   ],
   "source": [
    "doc.find('h3')"
   ]
  },
  {
   "cell_type": "code",
   "execution_count": 47,
   "metadata": {
    "code_folding": []
   },
   "outputs": [],
   "source": [
    "def movie_to_df():\n",
    "    # create empty dict for all movies data storage\n",
    "    movies_dict = {   \n",
    "    'title': [], \n",
    "    'duration': [], \n",
    "    'release_year':[], \n",
    "    'genre': [], \n",
    "    'rating': [],\n",
    "    'url':[] \n",
    "    }\n",
    "      \n",
    "    for index, value in enumerate(url_250):    \n",
    "        req = requests.get(value)\n",
    "        doc = BeautifulSoup(req.text, 'html.parser')\n",
    "\n",
    "        movies_dict['title']+=(get_movie_titles(doc))\n",
    "        movies_dict['duration']+=(get_runtime(doc))\n",
    "        movies_dict['release_year']+=(get_year(doc))\n",
    "        movies_dict['genre']+=(get_genre(doc))\n",
    "        movies_dict['rating']+=(get_rating(doc))\n",
    "        movies_dict['url']+=(get_url(doc))\n",
    "\n",
    "        movies_df = pd.DataFrame(movies_dict)\n",
    "\n",
    "    return movies_df"
   ]
  },
  {
   "cell_type": "code",
   "execution_count": 48,
   "metadata": {
    "scrolled": false
   },
   "outputs": [
    {
     "data": {
      "text/html": [
       "<div>\n",
       "<style scoped>\n",
       "    .dataframe tbody tr th:only-of-type {\n",
       "        vertical-align: middle;\n",
       "    }\n",
       "\n",
       "    .dataframe tbody tr th {\n",
       "        vertical-align: top;\n",
       "    }\n",
       "\n",
       "    .dataframe thead th {\n",
       "        text-align: right;\n",
       "    }\n",
       "</style>\n",
       "<table border=\"1\" class=\"dataframe\">\n",
       "  <thead>\n",
       "    <tr style=\"text-align: right;\">\n",
       "      <th></th>\n",
       "      <th>title</th>\n",
       "      <th>duration</th>\n",
       "      <th>release_year</th>\n",
       "      <th>genre</th>\n",
       "      <th>rating</th>\n",
       "      <th>url</th>\n",
       "    </tr>\n",
       "  </thead>\n",
       "  <tbody>\n",
       "    <tr>\n",
       "      <th>996</th>\n",
       "      <td>From Here to Eternity</td>\n",
       "      <td>118</td>\n",
       "      <td>1953</td>\n",
       "      <td>Drama, Romance, War</td>\n",
       "      <td>7.6</td>\n",
       "      <td>https://www.imdb.com/title/tt0045793/</td>\n",
       "    </tr>\n",
       "    <tr>\n",
       "      <th>997</th>\n",
       "      <td>Snow White and the Seven Dwarfs</td>\n",
       "      <td>83</td>\n",
       "      <td>1937</td>\n",
       "      <td>Animation, Adventure, Family</td>\n",
       "      <td>7.6</td>\n",
       "      <td>https://www.imdb.com/title/tt0029583/</td>\n",
       "    </tr>\n",
       "    <tr>\n",
       "      <th>998</th>\n",
       "      <td>The 39 Steps</td>\n",
       "      <td>86</td>\n",
       "      <td>1935</td>\n",
       "      <td>Crime, Mystery, Thriller</td>\n",
       "      <td>7.6</td>\n",
       "      <td>https://www.imdb.com/title/tt0026029/</td>\n",
       "    </tr>\n",
       "    <tr>\n",
       "      <th>999</th>\n",
       "      <td>The Invisible Man</td>\n",
       "      <td>71</td>\n",
       "      <td>1933</td>\n",
       "      <td>Horror, Sci-Fi</td>\n",
       "      <td>7.6</td>\n",
       "      <td>https://www.imdb.com/title/tt0024184/</td>\n",
       "    </tr>\n",
       "  </tbody>\n",
       "</table>\n",
       "</div>"
      ],
      "text/plain": [
       "                               title duration release_year  \\\n",
       "996            From Here to Eternity      118         1953   \n",
       "997  Snow White and the Seven Dwarfs       83         1937   \n",
       "998                     The 39 Steps       86         1935   \n",
       "999                The Invisible Man       71         1933   \n",
       "\n",
       "                            genre rating  \\\n",
       "996           Drama, Romance, War    7.6   \n",
       "997  Animation, Adventure, Family    7.6   \n",
       "998      Crime, Mystery, Thriller    7.6   \n",
       "999                Horror, Sci-Fi    7.6   \n",
       "\n",
       "                                       url  \n",
       "996  https://www.imdb.com/title/tt0045793/  \n",
       "997  https://www.imdb.com/title/tt0029583/  \n",
       "998  https://www.imdb.com/title/tt0026029/  \n",
       "999  https://www.imdb.com/title/tt0024184/  "
      ]
     },
     "execution_count": 48,
     "metadata": {},
     "output_type": "execute_result"
    }
   ],
   "source": [
    "movie_to_df().tail(4)"
   ]
  },
  {
   "cell_type": "markdown",
   "metadata": {},
   "source": [
    "## Create csv"
   ]
  },
  {
   "cell_type": "code",
   "execution_count": 49,
   "metadata": {
    "scrolled": true
   },
   "outputs": [
    {
     "data": {
      "text/html": [
       "<div>\n",
       "<style scoped>\n",
       "    .dataframe tbody tr th:only-of-type {\n",
       "        vertical-align: middle;\n",
       "    }\n",
       "\n",
       "    .dataframe tbody tr th {\n",
       "        vertical-align: top;\n",
       "    }\n",
       "\n",
       "    .dataframe thead th {\n",
       "        text-align: right;\n",
       "    }\n",
       "</style>\n",
       "<table border=\"1\" class=\"dataframe\">\n",
       "  <thead>\n",
       "    <tr style=\"text-align: right;\">\n",
       "      <th></th>\n",
       "      <th>title</th>\n",
       "      <th>duration</th>\n",
       "      <th>release_year</th>\n",
       "      <th>genre</th>\n",
       "      <th>rating</th>\n",
       "      <th>url</th>\n",
       "    </tr>\n",
       "  </thead>\n",
       "  <tbody>\n",
       "    <tr>\n",
       "      <th>0</th>\n",
       "      <td>The Shawshank Redemption</td>\n",
       "      <td>142</td>\n",
       "      <td>1994</td>\n",
       "      <td>Drama</td>\n",
       "      <td>9.3</td>\n",
       "      <td>https://www.imdb.com/title/tt0111161/</td>\n",
       "    </tr>\n",
       "    <tr>\n",
       "      <th>1</th>\n",
       "      <td>The Godfather</td>\n",
       "      <td>175</td>\n",
       "      <td>1972</td>\n",
       "      <td>Crime, Drama</td>\n",
       "      <td>9.2</td>\n",
       "      <td>https://www.imdb.com/title/tt0068646/</td>\n",
       "    </tr>\n",
       "    <tr>\n",
       "      <th>2</th>\n",
       "      <td>Rocketry: The Nambi Effect</td>\n",
       "      <td>157</td>\n",
       "      <td>2022</td>\n",
       "      <td>Biography, Drama</td>\n",
       "      <td>9.1</td>\n",
       "      <td>https://www.imdb.com/title/tt9263550/</td>\n",
       "    </tr>\n",
       "    <tr>\n",
       "      <th>3</th>\n",
       "      <td>The Dark Knight</td>\n",
       "      <td>152</td>\n",
       "      <td>2008</td>\n",
       "      <td>Action, Crime, Drama</td>\n",
       "      <td>9.0</td>\n",
       "      <td>https://www.imdb.com/title/tt0468569/</td>\n",
       "    </tr>\n",
       "  </tbody>\n",
       "</table>\n",
       "</div>"
      ],
      "text/plain": [
       "                        title  duration  release_year                 genre  \\\n",
       "0    The Shawshank Redemption       142          1994                 Drama   \n",
       "1               The Godfather       175          1972          Crime, Drama   \n",
       "2  Rocketry: The Nambi Effect       157          2022      Biography, Drama   \n",
       "3             The Dark Knight       152          2008  Action, Crime, Drama   \n",
       "\n",
       "   rating                                    url  \n",
       "0     9.3  https://www.imdb.com/title/tt0111161/  \n",
       "1     9.2  https://www.imdb.com/title/tt0068646/  \n",
       "2     9.1  https://www.imdb.com/title/tt9263550/  \n",
       "3     9.0  https://www.imdb.com/title/tt0468569/  "
      ]
     },
     "execution_count": 49,
     "metadata": {},
     "output_type": "execute_result"
    }
   ],
   "source": [
    "movies = movie_to_df()\n",
    "movies.to_csv('movies.csv', index = None)\n",
    "\n",
    "movies_df = pd.read_csv('movies.csv')\n",
    "movies_df.head(4)"
   ]
  },
  {
   "cell_type": "markdown",
   "metadata": {},
   "source": [
    "## Quick data analysis of the scraped data"
   ]
  },
  {
   "cell_type": "code",
   "execution_count": 50,
   "metadata": {},
   "outputs": [
    {
     "data": {
      "text/plain": [
       "'/home/jovyan'"
      ]
     },
     "execution_count": 50,
     "metadata": {},
     "output_type": "execute_result"
    }
   ],
   "source": [
    "import pandas as pd\n",
    "import os\n",
    "import seaborn as sns\n",
    "import matplotlib.pyplot as plt\n",
    "import numpy as np\n",
    "\n",
    "os.getcwd()"
   ]
  },
  {
   "cell_type": "code",
   "execution_count": 51,
   "metadata": {},
   "outputs": [
    {
     "data": {
      "text/html": [
       "<div>\n",
       "<style scoped>\n",
       "    .dataframe tbody tr th:only-of-type {\n",
       "        vertical-align: middle;\n",
       "    }\n",
       "\n",
       "    .dataframe tbody tr th {\n",
       "        vertical-align: top;\n",
       "    }\n",
       "\n",
       "    .dataframe thead th {\n",
       "        text-align: right;\n",
       "    }\n",
       "</style>\n",
       "<table border=\"1\" class=\"dataframe\">\n",
       "  <thead>\n",
       "    <tr style=\"text-align: right;\">\n",
       "      <th></th>\n",
       "      <th>duration</th>\n",
       "      <th>release_year</th>\n",
       "      <th>rating</th>\n",
       "    </tr>\n",
       "  </thead>\n",
       "  <tbody>\n",
       "    <tr>\n",
       "      <th>count</th>\n",
       "      <td>1000.00000</td>\n",
       "      <td>1000.000000</td>\n",
       "      <td>1000.000000</td>\n",
       "    </tr>\n",
       "    <tr>\n",
       "      <th>mean</th>\n",
       "      <td>123.65700</td>\n",
       "      <td>1991.274000</td>\n",
       "      <td>7.964600</td>\n",
       "    </tr>\n",
       "    <tr>\n",
       "      <th>std</th>\n",
       "      <td>28.52506</td>\n",
       "      <td>23.955308</td>\n",
       "      <td>0.278504</td>\n",
       "    </tr>\n",
       "    <tr>\n",
       "      <th>min</th>\n",
       "      <td>45.00000</td>\n",
       "      <td>1920.000000</td>\n",
       "      <td>7.600000</td>\n",
       "    </tr>\n",
       "    <tr>\n",
       "      <th>25%</th>\n",
       "      <td>103.00000</td>\n",
       "      <td>1975.000000</td>\n",
       "      <td>7.700000</td>\n",
       "    </tr>\n",
       "    <tr>\n",
       "      <th>50%</th>\n",
       "      <td>120.00000</td>\n",
       "      <td>1999.000000</td>\n",
       "      <td>7.900000</td>\n",
       "    </tr>\n",
       "    <tr>\n",
       "      <th>75%</th>\n",
       "      <td>138.00000</td>\n",
       "      <td>2010.000000</td>\n",
       "      <td>8.100000</td>\n",
       "    </tr>\n",
       "    <tr>\n",
       "      <th>max</th>\n",
       "      <td>321.00000</td>\n",
       "      <td>2022.000000</td>\n",
       "      <td>9.300000</td>\n",
       "    </tr>\n",
       "  </tbody>\n",
       "</table>\n",
       "</div>"
      ],
      "text/plain": [
       "         duration  release_year       rating\n",
       "count  1000.00000   1000.000000  1000.000000\n",
       "mean    123.65700   1991.274000     7.964600\n",
       "std      28.52506     23.955308     0.278504\n",
       "min      45.00000   1920.000000     7.600000\n",
       "25%     103.00000   1975.000000     7.700000\n",
       "50%     120.00000   1999.000000     7.900000\n",
       "75%     138.00000   2010.000000     8.100000\n",
       "max     321.00000   2022.000000     9.300000"
      ]
     },
     "execution_count": 51,
     "metadata": {},
     "output_type": "execute_result"
    }
   ],
   "source": [
    "movie_df = pd.read_csv('movies.csv')\n",
    "movie_df.describe()"
   ]
  },
  {
   "cell_type": "code",
   "execution_count": 52,
   "metadata": {},
   "outputs": [
    {
     "name": "stdout",
     "output_type": "stream",
     "text": [
      "<class 'pandas.core.frame.DataFrame'>\n",
      "RangeIndex: 1000 entries, 0 to 999\n",
      "Data columns (total 6 columns):\n",
      " #   Column        Non-Null Count  Dtype  \n",
      "---  ------        --------------  -----  \n",
      " 0   title         1000 non-null   object \n",
      " 1   duration      1000 non-null   int64  \n",
      " 2   release_year  1000 non-null   int64  \n",
      " 3   genre         1000 non-null   object \n",
      " 4   rating        1000 non-null   float64\n",
      " 5   url           1000 non-null   object \n",
      "dtypes: float64(1), int64(2), object(3)\n",
      "memory usage: 47.0+ KB\n"
     ]
    }
   ],
   "source": [
    "movie_df.info()"
   ]
  },
  {
   "cell_type": "markdown",
   "metadata": {},
   "source": [
    "### Did movie ratings increase over the years?"
   ]
  },
  {
   "cell_type": "code",
   "execution_count": 69,
   "metadata": {
    "scrolled": true
   },
   "outputs": [
    {
     "data": {
      "application/vnd.plotly.v1+json": {
       "config": {
        "plotlyServerURL": "https://plot.ly"
       },
       "data": [
        {
         "alignmentgroup": "True",
         "bingroup": "x",
         "hovertemplate": "release_year=%{x}<br>count=%{y}<extra></extra>",
         "legendgroup": "",
         "marker": {
          "color": "#636efa",
          "pattern": {
           "shape": ""
          }
         },
         "name": "",
         "offsetgroup": "",
         "orientation": "v",
         "showlegend": false,
         "type": "histogram",
         "x": [
          1994,
          1972,
          2022,
          2008,
          2003,
          1993,
          1974,
          1957,
          2021,
          1994,
          2010,
          2002,
          1999,
          2001,
          1994,
          1966,
          2020,
          1999,
          1990,
          1980,
          1975,
          2022,
          2014,
          2002,
          2001,
          1998,
          1999,
          1997,
          1995,
          1991,
          1991,
          1977,
          1962,
          1954,
          1946,
          2019,
          2019,
          2022,
          2018,
          2019,
          2014,
          2011,
          2021,
          2006,
          2006,
          2002,
          2000,
          1998,
          1995,
          1994,
          1994,
          1988,
          1988,
          1985,
          1979,
          1979,
          1968,
          1960,
          1954,
          1942,
          1936,
          1931,
          2018,
          2019,
          2016,
          2018,
          2019,
          2018,
          2017,
          2012,
          2012,
          2021,
          2009,
          2022,
          2021,
          2008,
          2006,
          2003,
          2000,
          1999,
          1997,
          1995,
          1985,
          1986,
          1984,
          1981,
          1981,
          1980,
          1963,
          1964,
          1957,
          1957,
          1950,
          1940,
          2020,
          2018,
          2017,
          2016,
          2013,
          2012,
          2011,
          2010,
          2021,
          2009,
          2007,
          2010,
          2009,
          2004,
          2001,
          2000,
          2000,
          1997,
          1995,
          1995,
          1992,
          1987,
          1984,
          1983,
          1983,
          1973,
          1971,
          1968,
          1962,
          1962,
          1961,
          1960,
          1959,
          1958,
          1955,
          1952,
          1952,
          1948,
          1944,
          1941,
          1931,
          1927,
          1921,
          2019,
          2019,
          2019,
          2018,
          2018,
          2018,
          2018,
          2022,
          2017,
          2017,
          2015,
          2013,
          2015,
          2012,
          2012,
          2009,
          2011,
          2010,
          2020,
          2019,
          2019,
          2020,
          2013,
          2007,
          2005,
          2007,
          2006,
          2006,
          2005,
          2004,
          2004,
          2001,
          2003,
          2003,
          1999,
          1998,
          1998,
          1997,
          1997,
          1995,
          1993,
          1992,
          1989,
          1988,
          1985,
          1982,
          1980,
          1980,
          1976,
          1975,
          1975,
          1974,
          1969,
          1965,
          1963,
          1961,
          1959,
          1957,
          1954,
          1953,
          1953,
          1952,
          1950,
          1950,
          1948,
          1942,
          1939,
          1928,
          1926,
          1925,
          1924,
          2019,
          2016,
          2016,
          2017,
          2015,
          2019,
          2015,
          2016,
          2015,
          2014,
          2013,
          2017,
          2015,
          2014,
          2013,
          2014,
          2012,
          2014,
          2014,
          2012,
          2016,
          2012,
          2013,
          2013,
          2019,
          2015,
          2012,
          2010,
          2011,
          2011,
          2013,
          2015,
          2008,
          2008,
          2011,
          2009,
          2009,
          2010,
          2007,
          2007,
          2006,
          2004,
          2004,
          2007,
          2004,
          2005,
          2003,
          2004,
          2003,
          2003,
          2001,
          2002,
          1998,
          2000,
          2000,
          1999,
          2001,
          2001,
          1998,
          1999,
          1998,
          2000,
          1996,
          1996,
          1996,
          1995,
          1995,
          1995,
          1994,
          1993,
          1993,
          1993,
          1991,
          1988,
          1989,
          1988,
          1986,
          1986,
          1986,
          1984,
          1984,
          1982,
          1982,
          1982,
          1979,
          1978,
          1978,
          1976,
          1976,
          1976,
          1975,
          1975,
          1975,
          1973,
          1973,
          1971,
          1967,
          1966,
          1965,
          1966,
          1962,
          1960,
          1960,
          1959,
          1959,
          1958,
          1957,
          1957,
          1957,
          1957,
          1955,
          1954,
          1955,
          1951,
          1949,
          1949,
          1948,
          1946,
          1940,
          1940,
          1940,
          1939,
          1939,
          1937,
          1934,
          1930,
          1928,
          1927,
          2020,
          2022,
          2018,
          2020,
          2016,
          2016,
          2016,
          2015,
          2014,
          2020,
          2016,
          2014,
          2015,
          2013,
          2013,
          2014,
          2014,
          2014,
          2017,
          2013,
          2015,
          2012,
          2010,
          2010,
          2016,
          2021,
          2008,
          2021,
          2008,
          2021,
          2008,
          2010,
          2007,
          2012,
          2007,
          2006,
          2006,
          2006,
          2007,
          2004,
          2005,
          2007,
          2004,
          2004,
          2006,
          2004,
          2003,
          2004,
          2005,
          2002,
          2003,
          2004,
          2001,
          2003,
          2001,
          2001,
          1999,
          1997,
          1999,
          1997,
          1998,
          1998,
          1998,
          1996,
          1996,
          1995,
          1995,
          1994,
          1994,
          1992,
          1992,
          1991,
          1991,
          1990,
          1988,
          1988,
          1987,
          1987,
          1987,
          1986,
          1984,
          1983,
          1982,
          1982,
          1979,
          1979,
          1977,
          1975,
          1975,
          1974,
          1973,
          1972,
          1972,
          1972,
          1971,
          1971,
          1969,
          1968,
          1968,
          1967,
          1967,
          1966,
          1966,
          1963,
          1963,
          1962,
          1962,
          1962,
          1962,
          1961,
          1960,
          1959,
          1959,
          1958,
          1957,
          1956,
          1955,
          1954,
          1953,
          1953,
          1952,
          1949,
          1947,
          1945,
          1945,
          1945,
          1941,
          1925,
          1920,
          2019,
          2018,
          2019,
          2019,
          2018,
          2019,
          2016,
          2016,
          2015,
          2016,
          2017,
          2019,
          2017,
          2016,
          2019,
          2013,
          2014,
          2013,
          2014,
          2022,
          2018,
          2014,
          2011,
          2014,
          2012,
          2009,
          2009,
          2010,
          2009,
          2008,
          2009,
          2008,
          2007,
          2014,
          2007,
          2009,
          2013,
          2008,
          2007,
          2006,
          2012,
          2009,
          2004,
          2005,
          2003,
          2008,
          2004,
          2003,
          2004,
          2003,
          2004,
          2002,
          2002,
          2001,
          2002,
          2000,
          2006,
          2000,
          2000,
          2000,
          2001,
          2001,
          1999,
          1997,
          1997,
          1997,
          1995,
          1995,
          1994,
          1993,
          1993,
          1993,
          1993,
          1993,
          1990,
          1989,
          1989,
          1987,
          1986,
          1986,
          1985,
          1984,
          1983,
          1982,
          1980,
          1980,
          1979,
          1976,
          1973,
          1971,
          1970,
          1970,
          1970,
          1969,
          1968,
          1967,
          1967,
          1965,
          1964,
          1963,
          1962,
          1962,
          1960,
          1959,
          1958,
          1958,
          1956,
          1956,
          1953,
          1951,
          1951,
          1950,
          1950,
          1948,
          1947,
          1946,
          1946,
          1946,
          1945,
          1944,
          1944,
          1941,
          1940,
          1939,
          1938,
          1934,
          1933,
          1932,
          1922,
          2019,
          2018,
          2017,
          2017,
          2016,
          2018,
          2017,
          2016,
          2016,
          2017,
          2016,
          2015,
          2016,
          2022,
          2016,
          2016,
          2015,
          2019,
          2017,
          2014,
          2014,
          2015,
          2013,
          2012,
          2014,
          2013,
          2012,
          2013,
          2014,
          2011,
          2012,
          2014,
          2015,
          2010,
          2011,
          2013,
          2015,
          2019,
          2010,
          2009,
          2009,
          2008,
          2009,
          2013,
          2009,
          2009,
          2012,
          2021,
          2010,
          2008,
          2007,
          2012,
          2008,
          2007,
          2011,
          2007,
          2009,
          2009,
          2006,
          2006,
          2006,
          2007,
          2008,
          2004,
          2005,
          2005,
          2003,
          2005,
          2004,
          2004,
          2005,
          2004,
          2003,
          2004,
          2002,
          2001,
          2001,
          2000,
          2000,
          1999,
          2000,
          1999,
          1999,
          1999,
          1997,
          1996,
          1996,
          1994,
          1993,
          1993,
          1993,
          1993,
          1993,
          1993,
          1993,
          1991,
          1990,
          1990,
          1989,
          1989,
          1989,
          1989,
          1989,
          1988,
          1987,
          1986,
          1985,
          1984,
          1984,
          1983,
          1982,
          1979,
          1979,
          1978,
          1978,
          1976,
          1975,
          1973,
          1974,
          1973,
          1972,
          1972,
          1972,
          1971,
          1969,
          1968,
          1967,
          1964,
          1964,
          1964,
          1961,
          1960,
          1955,
          1951,
          1950,
          1948,
          1944,
          1944,
          1943,
          1940,
          1939,
          1938,
          1938,
          1938,
          1935,
          1935,
          1933,
          1931,
          2018,
          2018,
          2019,
          2017,
          2016,
          2017,
          2018,
          2016,
          2016,
          2016,
          2015,
          2014,
          2014,
          2014,
          2014,
          2015,
          2014,
          2013,
          2013,
          2016,
          2013,
          2012,
          2013,
          2019,
          2013,
          2012,
          2015,
          2011,
          2011,
          2010,
          2010,
          2014,
          2013,
          2013,
          2015,
          2011,
          2009,
          2020,
          2012,
          2020,
          2012,
          2009,
          2010,
          2008,
          2007,
          2008,
          2006,
          2010,
          2006,
          2006,
          2014,
          2006,
          2007,
          2006,
          2005,
          2005,
          2010,
          2006,
          2005,
          2007,
          2004,
          2004,
          2004,
          2004,
          2003,
          2003,
          2005,
          2004,
          2009,
          2002,
          2003,
          2004,
          2003,
          2002,
          2003,
          2002,
          2001,
          2002,
          2001,
          2000,
          2001,
          2002,
          2001,
          2001,
          2001,
          2000,
          2002,
          1999,
          1999,
          1998,
          1999,
          2001,
          1998,
          1997,
          1997,
          1997,
          1997,
          1997,
          1997,
          1997,
          1996,
          1996,
          1995,
          1995,
          1994,
          1994,
          1993,
          1993,
          1993,
          1993,
          1992,
          1992,
          1992,
          1992,
          1992,
          1992,
          1992,
          1991,
          1991,
          1991,
          1990,
          1990,
          1990,
          1989,
          1988,
          1988,
          1987,
          1987,
          1987,
          1986,
          1986,
          1986,
          1985,
          1985,
          1985,
          1983,
          1982,
          1982,
          1982,
          1980,
          1980,
          1978,
          1975,
          1975,
          1974,
          1973,
          1973,
          1973,
          1972,
          1971,
          1971,
          1967,
          1967,
          1967,
          1967,
          1966,
          1964,
          1964,
          1962,
          1962,
          1962,
          1960,
          1960,
          1956,
          1954,
          1952,
          1951,
          1948,
          1940,
          1932,
          2019,
          2021,
          2018,
          2019,
          2017,
          2015,
          2018,
          2016,
          2014,
          2015,
          2015,
          2014,
          2016,
          2013,
          2014,
          2011,
          2012,
          2018,
          2010,
          2010,
          2011,
          2010,
          2009,
          2011,
          2011,
          2009,
          2009,
          2008,
          2007,
          2008,
          2007,
          2007,
          2006,
          2006,
          2006,
          2007,
          2008,
          2007,
          2006,
          2005,
          2009,
          2005,
          2004,
          2004,
          2003,
          2002,
          2004,
          2001,
          2001,
          2001,
          2001,
          2000,
          2000,
          1998,
          2005,
          1998,
          1998,
          1997,
          1998,
          1998,
          1995,
          1995,
          1994,
          1992,
          1991,
          1990,
          1989,
          1988,
          1987,
          1987,
          1986,
          1985,
          1981,
          1977,
          1974,
          1973,
          1968,
          1967,
          1965,
          1963,
          1961,
          1960,
          1955,
          1954,
          1953,
          1937,
          1935,
          1933
         ],
         "xaxis": "x",
         "yaxis": "y"
        }
       ],
       "layout": {
        "bargap": 0.2,
        "barmode": "relative",
        "legend": {
         "tracegroupgap": 0
        },
        "template": {
         "data": {
          "bar": [
           {
            "error_x": {
             "color": "#2a3f5f"
            },
            "error_y": {
             "color": "#2a3f5f"
            },
            "marker": {
             "line": {
              "color": "#E5ECF6",
              "width": 0.5
             },
             "pattern": {
              "fillmode": "overlay",
              "size": 10,
              "solidity": 0.2
             }
            },
            "type": "bar"
           }
          ],
          "barpolar": [
           {
            "marker": {
             "line": {
              "color": "#E5ECF6",
              "width": 0.5
             },
             "pattern": {
              "fillmode": "overlay",
              "size": 10,
              "solidity": 0.2
             }
            },
            "type": "barpolar"
           }
          ],
          "carpet": [
           {
            "aaxis": {
             "endlinecolor": "#2a3f5f",
             "gridcolor": "white",
             "linecolor": "white",
             "minorgridcolor": "white",
             "startlinecolor": "#2a3f5f"
            },
            "baxis": {
             "endlinecolor": "#2a3f5f",
             "gridcolor": "white",
             "linecolor": "white",
             "minorgridcolor": "white",
             "startlinecolor": "#2a3f5f"
            },
            "type": "carpet"
           }
          ],
          "choropleth": [
           {
            "colorbar": {
             "outlinewidth": 0,
             "ticks": ""
            },
            "type": "choropleth"
           }
          ],
          "contour": [
           {
            "colorbar": {
             "outlinewidth": 0,
             "ticks": ""
            },
            "colorscale": [
             [
              0,
              "#0d0887"
             ],
             [
              0.1111111111111111,
              "#46039f"
             ],
             [
              0.2222222222222222,
              "#7201a8"
             ],
             [
              0.3333333333333333,
              "#9c179e"
             ],
             [
              0.4444444444444444,
              "#bd3786"
             ],
             [
              0.5555555555555556,
              "#d8576b"
             ],
             [
              0.6666666666666666,
              "#ed7953"
             ],
             [
              0.7777777777777778,
              "#fb9f3a"
             ],
             [
              0.8888888888888888,
              "#fdca26"
             ],
             [
              1,
              "#f0f921"
             ]
            ],
            "type": "contour"
           }
          ],
          "contourcarpet": [
           {
            "colorbar": {
             "outlinewidth": 0,
             "ticks": ""
            },
            "type": "contourcarpet"
           }
          ],
          "heatmap": [
           {
            "colorbar": {
             "outlinewidth": 0,
             "ticks": ""
            },
            "colorscale": [
             [
              0,
              "#0d0887"
             ],
             [
              0.1111111111111111,
              "#46039f"
             ],
             [
              0.2222222222222222,
              "#7201a8"
             ],
             [
              0.3333333333333333,
              "#9c179e"
             ],
             [
              0.4444444444444444,
              "#bd3786"
             ],
             [
              0.5555555555555556,
              "#d8576b"
             ],
             [
              0.6666666666666666,
              "#ed7953"
             ],
             [
              0.7777777777777778,
              "#fb9f3a"
             ],
             [
              0.8888888888888888,
              "#fdca26"
             ],
             [
              1,
              "#f0f921"
             ]
            ],
            "type": "heatmap"
           }
          ],
          "heatmapgl": [
           {
            "colorbar": {
             "outlinewidth": 0,
             "ticks": ""
            },
            "colorscale": [
             [
              0,
              "#0d0887"
             ],
             [
              0.1111111111111111,
              "#46039f"
             ],
             [
              0.2222222222222222,
              "#7201a8"
             ],
             [
              0.3333333333333333,
              "#9c179e"
             ],
             [
              0.4444444444444444,
              "#bd3786"
             ],
             [
              0.5555555555555556,
              "#d8576b"
             ],
             [
              0.6666666666666666,
              "#ed7953"
             ],
             [
              0.7777777777777778,
              "#fb9f3a"
             ],
             [
              0.8888888888888888,
              "#fdca26"
             ],
             [
              1,
              "#f0f921"
             ]
            ],
            "type": "heatmapgl"
           }
          ],
          "histogram": [
           {
            "marker": {
             "pattern": {
              "fillmode": "overlay",
              "size": 10,
              "solidity": 0.2
             }
            },
            "type": "histogram"
           }
          ],
          "histogram2d": [
           {
            "colorbar": {
             "outlinewidth": 0,
             "ticks": ""
            },
            "colorscale": [
             [
              0,
              "#0d0887"
             ],
             [
              0.1111111111111111,
              "#46039f"
             ],
             [
              0.2222222222222222,
              "#7201a8"
             ],
             [
              0.3333333333333333,
              "#9c179e"
             ],
             [
              0.4444444444444444,
              "#bd3786"
             ],
             [
              0.5555555555555556,
              "#d8576b"
             ],
             [
              0.6666666666666666,
              "#ed7953"
             ],
             [
              0.7777777777777778,
              "#fb9f3a"
             ],
             [
              0.8888888888888888,
              "#fdca26"
             ],
             [
              1,
              "#f0f921"
             ]
            ],
            "type": "histogram2d"
           }
          ],
          "histogram2dcontour": [
           {
            "colorbar": {
             "outlinewidth": 0,
             "ticks": ""
            },
            "colorscale": [
             [
              0,
              "#0d0887"
             ],
             [
              0.1111111111111111,
              "#46039f"
             ],
             [
              0.2222222222222222,
              "#7201a8"
             ],
             [
              0.3333333333333333,
              "#9c179e"
             ],
             [
              0.4444444444444444,
              "#bd3786"
             ],
             [
              0.5555555555555556,
              "#d8576b"
             ],
             [
              0.6666666666666666,
              "#ed7953"
             ],
             [
              0.7777777777777778,
              "#fb9f3a"
             ],
             [
              0.8888888888888888,
              "#fdca26"
             ],
             [
              1,
              "#f0f921"
             ]
            ],
            "type": "histogram2dcontour"
           }
          ],
          "mesh3d": [
           {
            "colorbar": {
             "outlinewidth": 0,
             "ticks": ""
            },
            "type": "mesh3d"
           }
          ],
          "parcoords": [
           {
            "line": {
             "colorbar": {
              "outlinewidth": 0,
              "ticks": ""
             }
            },
            "type": "parcoords"
           }
          ],
          "pie": [
           {
            "automargin": true,
            "type": "pie"
           }
          ],
          "scatter": [
           {
            "fillpattern": {
             "fillmode": "overlay",
             "size": 10,
             "solidity": 0.2
            },
            "type": "scatter"
           }
          ],
          "scatter3d": [
           {
            "line": {
             "colorbar": {
              "outlinewidth": 0,
              "ticks": ""
             }
            },
            "marker": {
             "colorbar": {
              "outlinewidth": 0,
              "ticks": ""
             }
            },
            "type": "scatter3d"
           }
          ],
          "scattercarpet": [
           {
            "marker": {
             "colorbar": {
              "outlinewidth": 0,
              "ticks": ""
             }
            },
            "type": "scattercarpet"
           }
          ],
          "scattergeo": [
           {
            "marker": {
             "colorbar": {
              "outlinewidth": 0,
              "ticks": ""
             }
            },
            "type": "scattergeo"
           }
          ],
          "scattergl": [
           {
            "marker": {
             "colorbar": {
              "outlinewidth": 0,
              "ticks": ""
             }
            },
            "type": "scattergl"
           }
          ],
          "scattermapbox": [
           {
            "marker": {
             "colorbar": {
              "outlinewidth": 0,
              "ticks": ""
             }
            },
            "type": "scattermapbox"
           }
          ],
          "scatterpolar": [
           {
            "marker": {
             "colorbar": {
              "outlinewidth": 0,
              "ticks": ""
             }
            },
            "type": "scatterpolar"
           }
          ],
          "scatterpolargl": [
           {
            "marker": {
             "colorbar": {
              "outlinewidth": 0,
              "ticks": ""
             }
            },
            "type": "scatterpolargl"
           }
          ],
          "scatterternary": [
           {
            "marker": {
             "colorbar": {
              "outlinewidth": 0,
              "ticks": ""
             }
            },
            "type": "scatterternary"
           }
          ],
          "surface": [
           {
            "colorbar": {
             "outlinewidth": 0,
             "ticks": ""
            },
            "colorscale": [
             [
              0,
              "#0d0887"
             ],
             [
              0.1111111111111111,
              "#46039f"
             ],
             [
              0.2222222222222222,
              "#7201a8"
             ],
             [
              0.3333333333333333,
              "#9c179e"
             ],
             [
              0.4444444444444444,
              "#bd3786"
             ],
             [
              0.5555555555555556,
              "#d8576b"
             ],
             [
              0.6666666666666666,
              "#ed7953"
             ],
             [
              0.7777777777777778,
              "#fb9f3a"
             ],
             [
              0.8888888888888888,
              "#fdca26"
             ],
             [
              1,
              "#f0f921"
             ]
            ],
            "type": "surface"
           }
          ],
          "table": [
           {
            "cells": {
             "fill": {
              "color": "#EBF0F8"
             },
             "line": {
              "color": "white"
             }
            },
            "header": {
             "fill": {
              "color": "#C8D4E3"
             },
             "line": {
              "color": "white"
             }
            },
            "type": "table"
           }
          ]
         },
         "layout": {
          "annotationdefaults": {
           "arrowcolor": "#2a3f5f",
           "arrowhead": 0,
           "arrowwidth": 1
          },
          "autotypenumbers": "strict",
          "coloraxis": {
           "colorbar": {
            "outlinewidth": 0,
            "ticks": ""
           }
          },
          "colorscale": {
           "diverging": [
            [
             0,
             "#8e0152"
            ],
            [
             0.1,
             "#c51b7d"
            ],
            [
             0.2,
             "#de77ae"
            ],
            [
             0.3,
             "#f1b6da"
            ],
            [
             0.4,
             "#fde0ef"
            ],
            [
             0.5,
             "#f7f7f7"
            ],
            [
             0.6,
             "#e6f5d0"
            ],
            [
             0.7,
             "#b8e186"
            ],
            [
             0.8,
             "#7fbc41"
            ],
            [
             0.9,
             "#4d9221"
            ],
            [
             1,
             "#276419"
            ]
           ],
           "sequential": [
            [
             0,
             "#0d0887"
            ],
            [
             0.1111111111111111,
             "#46039f"
            ],
            [
             0.2222222222222222,
             "#7201a8"
            ],
            [
             0.3333333333333333,
             "#9c179e"
            ],
            [
             0.4444444444444444,
             "#bd3786"
            ],
            [
             0.5555555555555556,
             "#d8576b"
            ],
            [
             0.6666666666666666,
             "#ed7953"
            ],
            [
             0.7777777777777778,
             "#fb9f3a"
            ],
            [
             0.8888888888888888,
             "#fdca26"
            ],
            [
             1,
             "#f0f921"
            ]
           ],
           "sequentialminus": [
            [
             0,
             "#0d0887"
            ],
            [
             0.1111111111111111,
             "#46039f"
            ],
            [
             0.2222222222222222,
             "#7201a8"
            ],
            [
             0.3333333333333333,
             "#9c179e"
            ],
            [
             0.4444444444444444,
             "#bd3786"
            ],
            [
             0.5555555555555556,
             "#d8576b"
            ],
            [
             0.6666666666666666,
             "#ed7953"
            ],
            [
             0.7777777777777778,
             "#fb9f3a"
            ],
            [
             0.8888888888888888,
             "#fdca26"
            ],
            [
             1,
             "#f0f921"
            ]
           ]
          },
          "colorway": [
           "#636efa",
           "#EF553B",
           "#00cc96",
           "#ab63fa",
           "#FFA15A",
           "#19d3f3",
           "#FF6692",
           "#B6E880",
           "#FF97FF",
           "#FECB52"
          ],
          "font": {
           "color": "#2a3f5f"
          },
          "geo": {
           "bgcolor": "white",
           "lakecolor": "white",
           "landcolor": "#E5ECF6",
           "showlakes": true,
           "showland": true,
           "subunitcolor": "white"
          },
          "hoverlabel": {
           "align": "left"
          },
          "hovermode": "closest",
          "mapbox": {
           "style": "light"
          },
          "paper_bgcolor": "white",
          "plot_bgcolor": "#E5ECF6",
          "polar": {
           "angularaxis": {
            "gridcolor": "white",
            "linecolor": "white",
            "ticks": ""
           },
           "bgcolor": "#E5ECF6",
           "radialaxis": {
            "gridcolor": "white",
            "linecolor": "white",
            "ticks": ""
           }
          },
          "scene": {
           "xaxis": {
            "backgroundcolor": "#E5ECF6",
            "gridcolor": "white",
            "gridwidth": 2,
            "linecolor": "white",
            "showbackground": true,
            "ticks": "",
            "zerolinecolor": "white"
           },
           "yaxis": {
            "backgroundcolor": "#E5ECF6",
            "gridcolor": "white",
            "gridwidth": 2,
            "linecolor": "white",
            "showbackground": true,
            "ticks": "",
            "zerolinecolor": "white"
           },
           "zaxis": {
            "backgroundcolor": "#E5ECF6",
            "gridcolor": "white",
            "gridwidth": 2,
            "linecolor": "white",
            "showbackground": true,
            "ticks": "",
            "zerolinecolor": "white"
           }
          },
          "shapedefaults": {
           "line": {
            "color": "#2a3f5f"
           }
          },
          "ternary": {
           "aaxis": {
            "gridcolor": "white",
            "linecolor": "white",
            "ticks": ""
           },
           "baxis": {
            "gridcolor": "white",
            "linecolor": "white",
            "ticks": ""
           },
           "bgcolor": "#E5ECF6",
           "caxis": {
            "gridcolor": "white",
            "linecolor": "white",
            "ticks": ""
           }
          },
          "title": {
           "x": 0.05
          },
          "xaxis": {
           "automargin": true,
           "gridcolor": "white",
           "linecolor": "white",
           "ticks": "",
           "title": {
            "standoff": 15
           },
           "zerolinecolor": "white",
           "zerolinewidth": 2
          },
          "yaxis": {
           "automargin": true,
           "gridcolor": "white",
           "linecolor": "white",
           "ticks": "",
           "title": {
            "standoff": 15
           },
           "zerolinecolor": "white",
           "zerolinewidth": 2
          }
         }
        },
        "title": {
         "text": "Distribution of movies throughout the years"
        },
        "xaxis": {
         "anchor": "y",
         "domain": [
          0,
          1
         ],
         "title": {
          "text": "release_year"
         }
        },
        "yaxis": {
         "anchor": "x",
         "domain": [
          0,
          1
         ],
         "title": {
          "text": "count"
         }
        }
       }
      },
      "text/html": [
       "<div>                            <div id=\"6cf05155-c71c-438f-90c6-ff2f033d92bd\" class=\"plotly-graph-div\" style=\"height:525px; width:100%;\"></div>            <script type=\"text/javascript\">                require([\"plotly\"], function(Plotly) {                    window.PLOTLYENV=window.PLOTLYENV || {};                                    if (document.getElementById(\"6cf05155-c71c-438f-90c6-ff2f033d92bd\")) {                    Plotly.newPlot(                        \"6cf05155-c71c-438f-90c6-ff2f033d92bd\",                        [{\"alignmentgroup\":\"True\",\"bingroup\":\"x\",\"hovertemplate\":\"release_year=%{x}<br>count=%{y}<extra></extra>\",\"legendgroup\":\"\",\"marker\":{\"color\":\"#636efa\",\"pattern\":{\"shape\":\"\"}},\"name\":\"\",\"offsetgroup\":\"\",\"orientation\":\"v\",\"showlegend\":false,\"x\":[1994,1972,2022,2008,2003,1993,1974,1957,2021,1994,2010,2002,1999,2001,1994,1966,2020,1999,1990,1980,1975,2022,2014,2002,2001,1998,1999,1997,1995,1991,1991,1977,1962,1954,1946,2019,2019,2022,2018,2019,2014,2011,2021,2006,2006,2002,2000,1998,1995,1994,1994,1988,1988,1985,1979,1979,1968,1960,1954,1942,1936,1931,2018,2019,2016,2018,2019,2018,2017,2012,2012,2021,2009,2022,2021,2008,2006,2003,2000,1999,1997,1995,1985,1986,1984,1981,1981,1980,1963,1964,1957,1957,1950,1940,2020,2018,2017,2016,2013,2012,2011,2010,2021,2009,2007,2010,2009,2004,2001,2000,2000,1997,1995,1995,1992,1987,1984,1983,1983,1973,1971,1968,1962,1962,1961,1960,1959,1958,1955,1952,1952,1948,1944,1941,1931,1927,1921,2019,2019,2019,2018,2018,2018,2018,2022,2017,2017,2015,2013,2015,2012,2012,2009,2011,2010,2020,2019,2019,2020,2013,2007,2005,2007,2006,2006,2005,2004,2004,2001,2003,2003,1999,1998,1998,1997,1997,1995,1993,1992,1989,1988,1985,1982,1980,1980,1976,1975,1975,1974,1969,1965,1963,1961,1959,1957,1954,1953,1953,1952,1950,1950,1948,1942,1939,1928,1926,1925,1924,2019,2016,2016,2017,2015,2019,2015,2016,2015,2014,2013,2017,2015,2014,2013,2014,2012,2014,2014,2012,2016,2012,2013,2013,2019,2015,2012,2010,2011,2011,2013,2015,2008,2008,2011,2009,2009,2010,2007,2007,2006,2004,2004,2007,2004,2005,2003,2004,2003,2003,2001,2002,1998,2000,2000,1999,2001,2001,1998,1999,1998,2000,1996,1996,1996,1995,1995,1995,1994,1993,1993,1993,1991,1988,1989,1988,1986,1986,1986,1984,1984,1982,1982,1982,1979,1978,1978,1976,1976,1976,1975,1975,1975,1973,1973,1971,1967,1966,1965,1966,1962,1960,1960,1959,1959,1958,1957,1957,1957,1957,1955,1954,1955,1951,1949,1949,1948,1946,1940,1940,1940,1939,1939,1937,1934,1930,1928,1927,2020,2022,2018,2020,2016,2016,2016,2015,2014,2020,2016,2014,2015,2013,2013,2014,2014,2014,2017,2013,2015,2012,2010,2010,2016,2021,2008,2021,2008,2021,2008,2010,2007,2012,2007,2006,2006,2006,2007,2004,2005,2007,2004,2004,2006,2004,2003,2004,2005,2002,2003,2004,2001,2003,2001,2001,1999,1997,1999,1997,1998,1998,1998,1996,1996,1995,1995,1994,1994,1992,1992,1991,1991,1990,1988,1988,1987,1987,1987,1986,1984,1983,1982,1982,1979,1979,1977,1975,1975,1974,1973,1972,1972,1972,1971,1971,1969,1968,1968,1967,1967,1966,1966,1963,1963,1962,1962,1962,1962,1961,1960,1959,1959,1958,1957,1956,1955,1954,1953,1953,1952,1949,1947,1945,1945,1945,1941,1925,1920,2019,2018,2019,2019,2018,2019,2016,2016,2015,2016,2017,2019,2017,2016,2019,2013,2014,2013,2014,2022,2018,2014,2011,2014,2012,2009,2009,2010,2009,2008,2009,2008,2007,2014,2007,2009,2013,2008,2007,2006,2012,2009,2004,2005,2003,2008,2004,2003,2004,2003,2004,2002,2002,2001,2002,2000,2006,2000,2000,2000,2001,2001,1999,1997,1997,1997,1995,1995,1994,1993,1993,1993,1993,1993,1990,1989,1989,1987,1986,1986,1985,1984,1983,1982,1980,1980,1979,1976,1973,1971,1970,1970,1970,1969,1968,1967,1967,1965,1964,1963,1962,1962,1960,1959,1958,1958,1956,1956,1953,1951,1951,1950,1950,1948,1947,1946,1946,1946,1945,1944,1944,1941,1940,1939,1938,1934,1933,1932,1922,2019,2018,2017,2017,2016,2018,2017,2016,2016,2017,2016,2015,2016,2022,2016,2016,2015,2019,2017,2014,2014,2015,2013,2012,2014,2013,2012,2013,2014,2011,2012,2014,2015,2010,2011,2013,2015,2019,2010,2009,2009,2008,2009,2013,2009,2009,2012,2021,2010,2008,2007,2012,2008,2007,2011,2007,2009,2009,2006,2006,2006,2007,2008,2004,2005,2005,2003,2005,2004,2004,2005,2004,2003,2004,2002,2001,2001,2000,2000,1999,2000,1999,1999,1999,1997,1996,1996,1994,1993,1993,1993,1993,1993,1993,1993,1991,1990,1990,1989,1989,1989,1989,1989,1988,1987,1986,1985,1984,1984,1983,1982,1979,1979,1978,1978,1976,1975,1973,1974,1973,1972,1972,1972,1971,1969,1968,1967,1964,1964,1964,1961,1960,1955,1951,1950,1948,1944,1944,1943,1940,1939,1938,1938,1938,1935,1935,1933,1931,2018,2018,2019,2017,2016,2017,2018,2016,2016,2016,2015,2014,2014,2014,2014,2015,2014,2013,2013,2016,2013,2012,2013,2019,2013,2012,2015,2011,2011,2010,2010,2014,2013,2013,2015,2011,2009,2020,2012,2020,2012,2009,2010,2008,2007,2008,2006,2010,2006,2006,2014,2006,2007,2006,2005,2005,2010,2006,2005,2007,2004,2004,2004,2004,2003,2003,2005,2004,2009,2002,2003,2004,2003,2002,2003,2002,2001,2002,2001,2000,2001,2002,2001,2001,2001,2000,2002,1999,1999,1998,1999,2001,1998,1997,1997,1997,1997,1997,1997,1997,1996,1996,1995,1995,1994,1994,1993,1993,1993,1993,1992,1992,1992,1992,1992,1992,1992,1991,1991,1991,1990,1990,1990,1989,1988,1988,1987,1987,1987,1986,1986,1986,1985,1985,1985,1983,1982,1982,1982,1980,1980,1978,1975,1975,1974,1973,1973,1973,1972,1971,1971,1967,1967,1967,1967,1966,1964,1964,1962,1962,1962,1960,1960,1956,1954,1952,1951,1948,1940,1932,2019,2021,2018,2019,2017,2015,2018,2016,2014,2015,2015,2014,2016,2013,2014,2011,2012,2018,2010,2010,2011,2010,2009,2011,2011,2009,2009,2008,2007,2008,2007,2007,2006,2006,2006,2007,2008,2007,2006,2005,2009,2005,2004,2004,2003,2002,2004,2001,2001,2001,2001,2000,2000,1998,2005,1998,1998,1997,1998,1998,1995,1995,1994,1992,1991,1990,1989,1988,1987,1987,1986,1985,1981,1977,1974,1973,1968,1967,1965,1963,1961,1960,1955,1954,1953,1937,1935,1933],\"xaxis\":\"x\",\"yaxis\":\"y\",\"type\":\"histogram\"}],                        {\"template\":{\"data\":{\"histogram2dcontour\":[{\"type\":\"histogram2dcontour\",\"colorbar\":{\"outlinewidth\":0,\"ticks\":\"\"},\"colorscale\":[[0.0,\"#0d0887\"],[0.1111111111111111,\"#46039f\"],[0.2222222222222222,\"#7201a8\"],[0.3333333333333333,\"#9c179e\"],[0.4444444444444444,\"#bd3786\"],[0.5555555555555556,\"#d8576b\"],[0.6666666666666666,\"#ed7953\"],[0.7777777777777778,\"#fb9f3a\"],[0.8888888888888888,\"#fdca26\"],[1.0,\"#f0f921\"]]}],\"choropleth\":[{\"type\":\"choropleth\",\"colorbar\":{\"outlinewidth\":0,\"ticks\":\"\"}}],\"histogram2d\":[{\"type\":\"histogram2d\",\"colorbar\":{\"outlinewidth\":0,\"ticks\":\"\"},\"colorscale\":[[0.0,\"#0d0887\"],[0.1111111111111111,\"#46039f\"],[0.2222222222222222,\"#7201a8\"],[0.3333333333333333,\"#9c179e\"],[0.4444444444444444,\"#bd3786\"],[0.5555555555555556,\"#d8576b\"],[0.6666666666666666,\"#ed7953\"],[0.7777777777777778,\"#fb9f3a\"],[0.8888888888888888,\"#fdca26\"],[1.0,\"#f0f921\"]]}],\"heatmap\":[{\"type\":\"heatmap\",\"colorbar\":{\"outlinewidth\":0,\"ticks\":\"\"},\"colorscale\":[[0.0,\"#0d0887\"],[0.1111111111111111,\"#46039f\"],[0.2222222222222222,\"#7201a8\"],[0.3333333333333333,\"#9c179e\"],[0.4444444444444444,\"#bd3786\"],[0.5555555555555556,\"#d8576b\"],[0.6666666666666666,\"#ed7953\"],[0.7777777777777778,\"#fb9f3a\"],[0.8888888888888888,\"#fdca26\"],[1.0,\"#f0f921\"]]}],\"heatmapgl\":[{\"type\":\"heatmapgl\",\"colorbar\":{\"outlinewidth\":0,\"ticks\":\"\"},\"colorscale\":[[0.0,\"#0d0887\"],[0.1111111111111111,\"#46039f\"],[0.2222222222222222,\"#7201a8\"],[0.3333333333333333,\"#9c179e\"],[0.4444444444444444,\"#bd3786\"],[0.5555555555555556,\"#d8576b\"],[0.6666666666666666,\"#ed7953\"],[0.7777777777777778,\"#fb9f3a\"],[0.8888888888888888,\"#fdca26\"],[1.0,\"#f0f921\"]]}],\"contourcarpet\":[{\"type\":\"contourcarpet\",\"colorbar\":{\"outlinewidth\":0,\"ticks\":\"\"}}],\"contour\":[{\"type\":\"contour\",\"colorbar\":{\"outlinewidth\":0,\"ticks\":\"\"},\"colorscale\":[[0.0,\"#0d0887\"],[0.1111111111111111,\"#46039f\"],[0.2222222222222222,\"#7201a8\"],[0.3333333333333333,\"#9c179e\"],[0.4444444444444444,\"#bd3786\"],[0.5555555555555556,\"#d8576b\"],[0.6666666666666666,\"#ed7953\"],[0.7777777777777778,\"#fb9f3a\"],[0.8888888888888888,\"#fdca26\"],[1.0,\"#f0f921\"]]}],\"surface\":[{\"type\":\"surface\",\"colorbar\":{\"outlinewidth\":0,\"ticks\":\"\"},\"colorscale\":[[0.0,\"#0d0887\"],[0.1111111111111111,\"#46039f\"],[0.2222222222222222,\"#7201a8\"],[0.3333333333333333,\"#9c179e\"],[0.4444444444444444,\"#bd3786\"],[0.5555555555555556,\"#d8576b\"],[0.6666666666666666,\"#ed7953\"],[0.7777777777777778,\"#fb9f3a\"],[0.8888888888888888,\"#fdca26\"],[1.0,\"#f0f921\"]]}],\"mesh3d\":[{\"type\":\"mesh3d\",\"colorbar\":{\"outlinewidth\":0,\"ticks\":\"\"}}],\"scatter\":[{\"fillpattern\":{\"fillmode\":\"overlay\",\"size\":10,\"solidity\":0.2},\"type\":\"scatter\"}],\"parcoords\":[{\"type\":\"parcoords\",\"line\":{\"colorbar\":{\"outlinewidth\":0,\"ticks\":\"\"}}}],\"scatterpolargl\":[{\"type\":\"scatterpolargl\",\"marker\":{\"colorbar\":{\"outlinewidth\":0,\"ticks\":\"\"}}}],\"bar\":[{\"error_x\":{\"color\":\"#2a3f5f\"},\"error_y\":{\"color\":\"#2a3f5f\"},\"marker\":{\"line\":{\"color\":\"#E5ECF6\",\"width\":0.5},\"pattern\":{\"fillmode\":\"overlay\",\"size\":10,\"solidity\":0.2}},\"type\":\"bar\"}],\"scattergeo\":[{\"type\":\"scattergeo\",\"marker\":{\"colorbar\":{\"outlinewidth\":0,\"ticks\":\"\"}}}],\"scatterpolar\":[{\"type\":\"scatterpolar\",\"marker\":{\"colorbar\":{\"outlinewidth\":0,\"ticks\":\"\"}}}],\"histogram\":[{\"marker\":{\"pattern\":{\"fillmode\":\"overlay\",\"size\":10,\"solidity\":0.2}},\"type\":\"histogram\"}],\"scattergl\":[{\"type\":\"scattergl\",\"marker\":{\"colorbar\":{\"outlinewidth\":0,\"ticks\":\"\"}}}],\"scatter3d\":[{\"type\":\"scatter3d\",\"line\":{\"colorbar\":{\"outlinewidth\":0,\"ticks\":\"\"}},\"marker\":{\"colorbar\":{\"outlinewidth\":0,\"ticks\":\"\"}}}],\"scattermapbox\":[{\"type\":\"scattermapbox\",\"marker\":{\"colorbar\":{\"outlinewidth\":0,\"ticks\":\"\"}}}],\"scatterternary\":[{\"type\":\"scatterternary\",\"marker\":{\"colorbar\":{\"outlinewidth\":0,\"ticks\":\"\"}}}],\"scattercarpet\":[{\"type\":\"scattercarpet\",\"marker\":{\"colorbar\":{\"outlinewidth\":0,\"ticks\":\"\"}}}],\"carpet\":[{\"aaxis\":{\"endlinecolor\":\"#2a3f5f\",\"gridcolor\":\"white\",\"linecolor\":\"white\",\"minorgridcolor\":\"white\",\"startlinecolor\":\"#2a3f5f\"},\"baxis\":{\"endlinecolor\":\"#2a3f5f\",\"gridcolor\":\"white\",\"linecolor\":\"white\",\"minorgridcolor\":\"white\",\"startlinecolor\":\"#2a3f5f\"},\"type\":\"carpet\"}],\"table\":[{\"cells\":{\"fill\":{\"color\":\"#EBF0F8\"},\"line\":{\"color\":\"white\"}},\"header\":{\"fill\":{\"color\":\"#C8D4E3\"},\"line\":{\"color\":\"white\"}},\"type\":\"table\"}],\"barpolar\":[{\"marker\":{\"line\":{\"color\":\"#E5ECF6\",\"width\":0.5},\"pattern\":{\"fillmode\":\"overlay\",\"size\":10,\"solidity\":0.2}},\"type\":\"barpolar\"}],\"pie\":[{\"automargin\":true,\"type\":\"pie\"}]},\"layout\":{\"autotypenumbers\":\"strict\",\"colorway\":[\"#636efa\",\"#EF553B\",\"#00cc96\",\"#ab63fa\",\"#FFA15A\",\"#19d3f3\",\"#FF6692\",\"#B6E880\",\"#FF97FF\",\"#FECB52\"],\"font\":{\"color\":\"#2a3f5f\"},\"hovermode\":\"closest\",\"hoverlabel\":{\"align\":\"left\"},\"paper_bgcolor\":\"white\",\"plot_bgcolor\":\"#E5ECF6\",\"polar\":{\"bgcolor\":\"#E5ECF6\",\"angularaxis\":{\"gridcolor\":\"white\",\"linecolor\":\"white\",\"ticks\":\"\"},\"radialaxis\":{\"gridcolor\":\"white\",\"linecolor\":\"white\",\"ticks\":\"\"}},\"ternary\":{\"bgcolor\":\"#E5ECF6\",\"aaxis\":{\"gridcolor\":\"white\",\"linecolor\":\"white\",\"ticks\":\"\"},\"baxis\":{\"gridcolor\":\"white\",\"linecolor\":\"white\",\"ticks\":\"\"},\"caxis\":{\"gridcolor\":\"white\",\"linecolor\":\"white\",\"ticks\":\"\"}},\"coloraxis\":{\"colorbar\":{\"outlinewidth\":0,\"ticks\":\"\"}},\"colorscale\":{\"sequential\":[[0.0,\"#0d0887\"],[0.1111111111111111,\"#46039f\"],[0.2222222222222222,\"#7201a8\"],[0.3333333333333333,\"#9c179e\"],[0.4444444444444444,\"#bd3786\"],[0.5555555555555556,\"#d8576b\"],[0.6666666666666666,\"#ed7953\"],[0.7777777777777778,\"#fb9f3a\"],[0.8888888888888888,\"#fdca26\"],[1.0,\"#f0f921\"]],\"sequentialminus\":[[0.0,\"#0d0887\"],[0.1111111111111111,\"#46039f\"],[0.2222222222222222,\"#7201a8\"],[0.3333333333333333,\"#9c179e\"],[0.4444444444444444,\"#bd3786\"],[0.5555555555555556,\"#d8576b\"],[0.6666666666666666,\"#ed7953\"],[0.7777777777777778,\"#fb9f3a\"],[0.8888888888888888,\"#fdca26\"],[1.0,\"#f0f921\"]],\"diverging\":[[0,\"#8e0152\"],[0.1,\"#c51b7d\"],[0.2,\"#de77ae\"],[0.3,\"#f1b6da\"],[0.4,\"#fde0ef\"],[0.5,\"#f7f7f7\"],[0.6,\"#e6f5d0\"],[0.7,\"#b8e186\"],[0.8,\"#7fbc41\"],[0.9,\"#4d9221\"],[1,\"#276419\"]]},\"xaxis\":{\"gridcolor\":\"white\",\"linecolor\":\"white\",\"ticks\":\"\",\"title\":{\"standoff\":15},\"zerolinecolor\":\"white\",\"automargin\":true,\"zerolinewidth\":2},\"yaxis\":{\"gridcolor\":\"white\",\"linecolor\":\"white\",\"ticks\":\"\",\"title\":{\"standoff\":15},\"zerolinecolor\":\"white\",\"automargin\":true,\"zerolinewidth\":2},\"scene\":{\"xaxis\":{\"backgroundcolor\":\"#E5ECF6\",\"gridcolor\":\"white\",\"linecolor\":\"white\",\"showbackground\":true,\"ticks\":\"\",\"zerolinecolor\":\"white\",\"gridwidth\":2},\"yaxis\":{\"backgroundcolor\":\"#E5ECF6\",\"gridcolor\":\"white\",\"linecolor\":\"white\",\"showbackground\":true,\"ticks\":\"\",\"zerolinecolor\":\"white\",\"gridwidth\":2},\"zaxis\":{\"backgroundcolor\":\"#E5ECF6\",\"gridcolor\":\"white\",\"linecolor\":\"white\",\"showbackground\":true,\"ticks\":\"\",\"zerolinecolor\":\"white\",\"gridwidth\":2}},\"shapedefaults\":{\"line\":{\"color\":\"#2a3f5f\"}},\"annotationdefaults\":{\"arrowcolor\":\"#2a3f5f\",\"arrowhead\":0,\"arrowwidth\":1},\"geo\":{\"bgcolor\":\"white\",\"landcolor\":\"#E5ECF6\",\"subunitcolor\":\"white\",\"showland\":true,\"showlakes\":true,\"lakecolor\":\"white\"},\"title\":{\"x\":0.05},\"mapbox\":{\"style\":\"light\"}}},\"xaxis\":{\"anchor\":\"y\",\"domain\":[0.0,1.0],\"title\":{\"text\":\"release_year\"}},\"yaxis\":{\"anchor\":\"x\",\"domain\":[0.0,1.0],\"title\":{\"text\":\"count\"}},\"legend\":{\"tracegroupgap\":0},\"title\":{\"text\":\"Distribution of movies throughout the years\"},\"barmode\":\"relative\",\"bargap\":0.2},                        {\"responsive\": true}                    ).then(function(){\n",
       "                            \n",
       "var gd = document.getElementById('6cf05155-c71c-438f-90c6-ff2f033d92bd');\n",
       "var x = new MutationObserver(function (mutations, observer) {{\n",
       "        var display = window.getComputedStyle(gd).display;\n",
       "        if (!display || display === 'none') {{\n",
       "            console.log([gd, 'removed!']);\n",
       "            Plotly.purge(gd);\n",
       "            observer.disconnect();\n",
       "        }}\n",
       "}});\n",
       "\n",
       "// Listen for the removal of the full notebook cells\n",
       "var notebookContainer = gd.closest('#notebook-container');\n",
       "if (notebookContainer) {{\n",
       "    x.observe(notebookContainer, {childList: true});\n",
       "}}\n",
       "\n",
       "// Listen for the clearing of the current output cell\n",
       "var outputEl = gd.closest('.output');\n",
       "if (outputEl) {{\n",
       "    x.observe(outputEl, {childList: true});\n",
       "}}\n",
       "\n",
       "                        })                };                });            </script>        </div>"
      ]
     },
     "metadata": {},
     "output_type": "display_data"
    }
   ],
   "source": [
    "!pip install plotly.express --quiet\n",
    "import plotly.express as px\n",
    "\n",
    "fig = px.histogram(movie_df,                    \n",
    "                   x = \"release_year\",\n",
    "                   title = \"Distribution of movies throughout the years\") \n",
    "fig.update_layout(bargap=0.2)"
   ]
  },
  {
   "cell_type": "code",
   "execution_count": 66,
   "metadata": {},
   "outputs": [
    {
     "data": {
      "application/vnd.plotly.v1+json": {
       "config": {
        "plotlyServerURL": "https://plot.ly"
       },
       "data": [
        {
         "alignmentgroup": "True",
         "bingroup": "x",
         "histfunc": "sum",
         "hovertemplate": "release_year=%{x}<br>sum of rating=%{y}<extra></extra>",
         "legendgroup": "",
         "marker": {
          "color": "#636efa",
          "pattern": {
           "shape": ""
          }
         },
         "name": "",
         "offsetgroup": "",
         "orientation": "v",
         "showlegend": false,
         "type": "histogram",
         "x": [
          1994,
          1972,
          2022,
          2008,
          2003,
          1993,
          1974,
          1957,
          2021,
          1994,
          2010,
          2002,
          1999,
          2001,
          1994,
          1966,
          2020,
          1999,
          1990,
          1980,
          1975,
          2022,
          2014,
          2002,
          2001,
          1998,
          1999,
          1997,
          1995,
          1991,
          1991,
          1977,
          1962,
          1954,
          1946,
          2019,
          2019,
          2022,
          2018,
          2019,
          2014,
          2011,
          2021,
          2006,
          2006,
          2002,
          2000,
          1998,
          1995,
          1994,
          1994,
          1988,
          1988,
          1985,
          1979,
          1979,
          1968,
          1960,
          1954,
          1942,
          1936,
          1931,
          2018,
          2019,
          2016,
          2018,
          2019,
          2018,
          2017,
          2012,
          2012,
          2021,
          2009,
          2022,
          2021,
          2008,
          2006,
          2003,
          2000,
          1999,
          1997,
          1995,
          1985,
          1986,
          1984,
          1981,
          1981,
          1980,
          1963,
          1964,
          1957,
          1957,
          1950,
          1940,
          2020,
          2018,
          2017,
          2016,
          2013,
          2012,
          2011,
          2010,
          2021,
          2009,
          2007,
          2010,
          2009,
          2004,
          2001,
          2000,
          2000,
          1997,
          1995,
          1995,
          1992,
          1987,
          1984,
          1983,
          1983,
          1973,
          1971,
          1968,
          1962,
          1962,
          1961,
          1960,
          1959,
          1958,
          1955,
          1952,
          1952,
          1948,
          1944,
          1941,
          1931,
          1927,
          1921,
          2019,
          2019,
          2019,
          2018,
          2018,
          2018,
          2018,
          2022,
          2017,
          2017,
          2015,
          2013,
          2015,
          2012,
          2012,
          2009,
          2011,
          2010,
          2020,
          2019,
          2019,
          2020,
          2013,
          2007,
          2005,
          2007,
          2006,
          2006,
          2005,
          2004,
          2004,
          2001,
          2003,
          2003,
          1999,
          1998,
          1998,
          1997,
          1997,
          1995,
          1993,
          1992,
          1989,
          1988,
          1985,
          1982,
          1980,
          1980,
          1976,
          1975,
          1975,
          1974,
          1969,
          1965,
          1963,
          1961,
          1959,
          1957,
          1954,
          1953,
          1953,
          1952,
          1950,
          1950,
          1948,
          1942,
          1939,
          1928,
          1926,
          1925,
          1924,
          2019,
          2016,
          2016,
          2017,
          2015,
          2019,
          2015,
          2016,
          2015,
          2014,
          2013,
          2017,
          2015,
          2014,
          2013,
          2014,
          2012,
          2014,
          2014,
          2012,
          2016,
          2012,
          2013,
          2013,
          2019,
          2015,
          2012,
          2010,
          2011,
          2011,
          2013,
          2015,
          2008,
          2008,
          2011,
          2009,
          2009,
          2010,
          2007,
          2007,
          2006,
          2004,
          2004,
          2007,
          2004,
          2005,
          2003,
          2004,
          2003,
          2003,
          2001,
          2002,
          1998,
          2000,
          2000,
          1999,
          2001,
          2001,
          1998,
          1999,
          1998,
          2000,
          1996,
          1996,
          1996,
          1995,
          1995,
          1995,
          1994,
          1993,
          1993,
          1993,
          1991,
          1988,
          1989,
          1988,
          1986,
          1986,
          1986,
          1984,
          1984,
          1982,
          1982,
          1982,
          1979,
          1978,
          1978,
          1976,
          1976,
          1976,
          1975,
          1975,
          1975,
          1973,
          1973,
          1971,
          1967,
          1966,
          1965,
          1966,
          1962,
          1960,
          1960,
          1959,
          1959,
          1958,
          1957,
          1957,
          1957,
          1957,
          1955,
          1954,
          1955,
          1951,
          1949,
          1949,
          1948,
          1946,
          1940,
          1940,
          1940,
          1939,
          1939,
          1937,
          1934,
          1930,
          1928,
          1927,
          2020,
          2022,
          2018,
          2020,
          2016,
          2016,
          2016,
          2015,
          2014,
          2020,
          2016,
          2014,
          2015,
          2013,
          2013,
          2014,
          2014,
          2014,
          2017,
          2013,
          2015,
          2012,
          2010,
          2010,
          2016,
          2021,
          2008,
          2021,
          2008,
          2021,
          2008,
          2010,
          2007,
          2012,
          2007,
          2006,
          2006,
          2006,
          2007,
          2004,
          2005,
          2007,
          2004,
          2004,
          2006,
          2004,
          2003,
          2004,
          2005,
          2002,
          2003,
          2004,
          2001,
          2003,
          2001,
          2001,
          1999,
          1997,
          1999,
          1997,
          1998,
          1998,
          1998,
          1996,
          1996,
          1995,
          1995,
          1994,
          1994,
          1992,
          1992,
          1991,
          1991,
          1990,
          1988,
          1988,
          1987,
          1987,
          1987,
          1986,
          1984,
          1983,
          1982,
          1982,
          1979,
          1979,
          1977,
          1975,
          1975,
          1974,
          1973,
          1972,
          1972,
          1972,
          1971,
          1971,
          1969,
          1968,
          1968,
          1967,
          1967,
          1966,
          1966,
          1963,
          1963,
          1962,
          1962,
          1962,
          1962,
          1961,
          1960,
          1959,
          1959,
          1958,
          1957,
          1956,
          1955,
          1954,
          1953,
          1953,
          1952,
          1949,
          1947,
          1945,
          1945,
          1945,
          1941,
          1925,
          1920,
          2019,
          2018,
          2019,
          2019,
          2018,
          2019,
          2016,
          2016,
          2015,
          2016,
          2017,
          2019,
          2017,
          2016,
          2019,
          2013,
          2014,
          2013,
          2014,
          2022,
          2018,
          2014,
          2011,
          2014,
          2012,
          2009,
          2009,
          2010,
          2009,
          2008,
          2009,
          2008,
          2007,
          2014,
          2007,
          2009,
          2013,
          2008,
          2007,
          2006,
          2012,
          2009,
          2004,
          2005,
          2003,
          2008,
          2004,
          2003,
          2004,
          2003,
          2004,
          2002,
          2002,
          2001,
          2002,
          2000,
          2006,
          2000,
          2000,
          2000,
          2001,
          2001,
          1999,
          1997,
          1997,
          1997,
          1995,
          1995,
          1994,
          1993,
          1993,
          1993,
          1993,
          1993,
          1990,
          1989,
          1989,
          1987,
          1986,
          1986,
          1985,
          1984,
          1983,
          1982,
          1980,
          1980,
          1979,
          1976,
          1973,
          1971,
          1970,
          1970,
          1970,
          1969,
          1968,
          1967,
          1967,
          1965,
          1964,
          1963,
          1962,
          1962,
          1960,
          1959,
          1958,
          1958,
          1956,
          1956,
          1953,
          1951,
          1951,
          1950,
          1950,
          1948,
          1947,
          1946,
          1946,
          1946,
          1945,
          1944,
          1944,
          1941,
          1940,
          1939,
          1938,
          1934,
          1933,
          1932,
          1922,
          2019,
          2018,
          2017,
          2017,
          2016,
          2018,
          2017,
          2016,
          2016,
          2017,
          2016,
          2015,
          2016,
          2022,
          2016,
          2016,
          2015,
          2019,
          2017,
          2014,
          2014,
          2015,
          2013,
          2012,
          2014,
          2013,
          2012,
          2013,
          2014,
          2011,
          2012,
          2014,
          2015,
          2010,
          2011,
          2013,
          2015,
          2019,
          2010,
          2009,
          2009,
          2008,
          2009,
          2013,
          2009,
          2009,
          2012,
          2021,
          2010,
          2008,
          2007,
          2012,
          2008,
          2007,
          2011,
          2007,
          2009,
          2009,
          2006,
          2006,
          2006,
          2007,
          2008,
          2004,
          2005,
          2005,
          2003,
          2005,
          2004,
          2004,
          2005,
          2004,
          2003,
          2004,
          2002,
          2001,
          2001,
          2000,
          2000,
          1999,
          2000,
          1999,
          1999,
          1999,
          1997,
          1996,
          1996,
          1994,
          1993,
          1993,
          1993,
          1993,
          1993,
          1993,
          1993,
          1991,
          1990,
          1990,
          1989,
          1989,
          1989,
          1989,
          1989,
          1988,
          1987,
          1986,
          1985,
          1984,
          1984,
          1983,
          1982,
          1979,
          1979,
          1978,
          1978,
          1976,
          1975,
          1973,
          1974,
          1973,
          1972,
          1972,
          1972,
          1971,
          1969,
          1968,
          1967,
          1964,
          1964,
          1964,
          1961,
          1960,
          1955,
          1951,
          1950,
          1948,
          1944,
          1944,
          1943,
          1940,
          1939,
          1938,
          1938,
          1938,
          1935,
          1935,
          1933,
          1931,
          2018,
          2018,
          2019,
          2017,
          2016,
          2017,
          2018,
          2016,
          2016,
          2016,
          2015,
          2014,
          2014,
          2014,
          2014,
          2015,
          2014,
          2013,
          2013,
          2016,
          2013,
          2012,
          2013,
          2019,
          2013,
          2012,
          2015,
          2011,
          2011,
          2010,
          2010,
          2014,
          2013,
          2013,
          2015,
          2011,
          2009,
          2020,
          2012,
          2020,
          2012,
          2009,
          2010,
          2008,
          2007,
          2008,
          2006,
          2010,
          2006,
          2006,
          2014,
          2006,
          2007,
          2006,
          2005,
          2005,
          2010,
          2006,
          2005,
          2007,
          2004,
          2004,
          2004,
          2004,
          2003,
          2003,
          2005,
          2004,
          2009,
          2002,
          2003,
          2004,
          2003,
          2002,
          2003,
          2002,
          2001,
          2002,
          2001,
          2000,
          2001,
          2002,
          2001,
          2001,
          2001,
          2000,
          2002,
          1999,
          1999,
          1998,
          1999,
          2001,
          1998,
          1997,
          1997,
          1997,
          1997,
          1997,
          1997,
          1997,
          1996,
          1996,
          1995,
          1995,
          1994,
          1994,
          1993,
          1993,
          1993,
          1993,
          1992,
          1992,
          1992,
          1992,
          1992,
          1992,
          1992,
          1991,
          1991,
          1991,
          1990,
          1990,
          1990,
          1989,
          1988,
          1988,
          1987,
          1987,
          1987,
          1986,
          1986,
          1986,
          1985,
          1985,
          1985,
          1983,
          1982,
          1982,
          1982,
          1980,
          1980,
          1978,
          1975,
          1975,
          1974,
          1973,
          1973,
          1973,
          1972,
          1971,
          1971,
          1967,
          1967,
          1967,
          1967,
          1966,
          1964,
          1964,
          1962,
          1962,
          1962,
          1960,
          1960,
          1956,
          1954,
          1952,
          1951,
          1948,
          1940,
          1932,
          2019,
          2021,
          2018,
          2019,
          2017,
          2015,
          2018,
          2016,
          2014,
          2015,
          2015,
          2014,
          2016,
          2013,
          2014,
          2011,
          2012,
          2018,
          2010,
          2010,
          2011,
          2010,
          2009,
          2011,
          2011,
          2009,
          2009,
          2008,
          2007,
          2008,
          2007,
          2007,
          2006,
          2006,
          2006,
          2007,
          2008,
          2007,
          2006,
          2005,
          2009,
          2005,
          2004,
          2004,
          2003,
          2002,
          2004,
          2001,
          2001,
          2001,
          2001,
          2000,
          2000,
          1998,
          2005,
          1998,
          1998,
          1997,
          1998,
          1998,
          1995,
          1995,
          1994,
          1992,
          1991,
          1990,
          1989,
          1988,
          1987,
          1987,
          1986,
          1985,
          1981,
          1977,
          1974,
          1973,
          1968,
          1967,
          1965,
          1963,
          1961,
          1960,
          1955,
          1954,
          1953,
          1937,
          1935,
          1933
         ],
         "xaxis": "x",
         "y": [
          9.3,
          9.2,
          9.1,
          9,
          9,
          9,
          9,
          9,
          8.9,
          8.9,
          8.8,
          8.8,
          8.8,
          8.8,
          8.8,
          8.8,
          8.7,
          8.7,
          8.7,
          8.7,
          8.7,
          8.6,
          8.6,
          8.6,
          8.6,
          8.6,
          8.6,
          8.6,
          8.6,
          8.6,
          8.6,
          8.6,
          8.6,
          8.6,
          8.6,
          8.5,
          8.5,
          8.5,
          8.5,
          8.5,
          8.5,
          8.5,
          8.5,
          8.5,
          8.5,
          8.5,
          8.5,
          8.5,
          8.5,
          8.5,
          8.5,
          8.5,
          8.5,
          8.5,
          8.5,
          8.5,
          8.5,
          8.5,
          8.5,
          8.5,
          8.5,
          8.5,
          8.4,
          8.4,
          8.4,
          8.4,
          8.4,
          8.4,
          8.4,
          8.4,
          8.4,
          8.4,
          8.4,
          8.4,
          8.4,
          8.4,
          8.4,
          8.4,
          8.4,
          8.4,
          8.4,
          8.4,
          8.4,
          8.4,
          8.4,
          8.4,
          8.4,
          8.4,
          8.4,
          8.4,
          8.4,
          8.4,
          8.4,
          8.4,
          8.3,
          8.3,
          8.3,
          8.3,
          8.3,
          8.3,
          8.3,
          8.3,
          8.3,
          8.3,
          8.3,
          8.3,
          8.3,
          8.3,
          8.3,
          8.3,
          8.3,
          8.3,
          8.3,
          8.3,
          8.3,
          8.3,
          8.3,
          8.3,
          8.3,
          8.3,
          8.3,
          8.3,
          8.3,
          8.3,
          8.3,
          8.3,
          8.3,
          8.3,
          8.3,
          8.3,
          8.3,
          8.3,
          8.3,
          8.3,
          8.3,
          8.3,
          8.3,
          8.2,
          8.2,
          8.2,
          8.2,
          8.2,
          8.2,
          8.2,
          8.2,
          8.2,
          8.2,
          8.2,
          8.2,
          8.2,
          8.2,
          8.2,
          8.2,
          8.2,
          8.2,
          8.2,
          8.2,
          8.2,
          8.2,
          8.2,
          8.2,
          8.2,
          8.2,
          8.2,
          8.2,
          8.2,
          8.2,
          8.2,
          8.2,
          8.2,
          8.2,
          8.2,
          8.2,
          8.2,
          8.2,
          8.2,
          8.2,
          8.2,
          8.2,
          8.2,
          8.2,
          8.2,
          8.2,
          8.2,
          8.2,
          8.2,
          8.2,
          8.2,
          8.2,
          8.2,
          8.2,
          8.2,
          8.2,
          8.2,
          8.2,
          8.2,
          8.2,
          8.2,
          8.2,
          8.2,
          8.2,
          8.2,
          8.2,
          8.2,
          8.2,
          8.2,
          8.2,
          8.2,
          8.1,
          8.1,
          8.1,
          8.1,
          8.1,
          8.1,
          8.1,
          8.1,
          8.1,
          8.1,
          8.1,
          8.1,
          8.1,
          8.1,
          8.1,
          8.1,
          8.1,
          8.1,
          8.1,
          8.1,
          8.1,
          8.1,
          8.1,
          8.1,
          8.1,
          8.1,
          8.1,
          8.1,
          8.1,
          8.1,
          8.1,
          8.1,
          8.1,
          8.1,
          8.1,
          8.1,
          8.1,
          8.1,
          8.1,
          8.1,
          8.1,
          8.1,
          8.1,
          8.1,
          8.1,
          8.1,
          8.1,
          8.1,
          8.1,
          8.1,
          8.1,
          8.1,
          8.1,
          8.1,
          8.1,
          8.1,
          8.1,
          8.1,
          8.1,
          8.1,
          8.1,
          8.1,
          8.1,
          8.1,
          8.1,
          8.1,
          8.1,
          8.1,
          8.1,
          8.1,
          8.1,
          8.1,
          8.1,
          8.1,
          8.1,
          8.1,
          8.1,
          8.1,
          8.1,
          8.1,
          8.1,
          8.1,
          8.1,
          8.1,
          8.1,
          8.1,
          8.1,
          8.1,
          8.1,
          8.1,
          8.1,
          8.1,
          8.1,
          8.1,
          8.1,
          8.1,
          8.1,
          8.1,
          8.1,
          8.1,
          8.1,
          8.1,
          8.1,
          8.1,
          8.1,
          8.1,
          8.1,
          8.1,
          8.1,
          8.1,
          8.1,
          8.1,
          8.1,
          8.1,
          8.1,
          8.1,
          8.1,
          8.1,
          8.1,
          8.1,
          8.1,
          8.1,
          8.1,
          8.1,
          8.1,
          8.1,
          8.1,
          8.1,
          8,
          8,
          8,
          8,
          8,
          8,
          8,
          8,
          8,
          8,
          8,
          8,
          8,
          8,
          8,
          8,
          8,
          8,
          8,
          8,
          8,
          8,
          8,
          8,
          8,
          8,
          8,
          8,
          8,
          8,
          8,
          8,
          8,
          8,
          8,
          8,
          8,
          8,
          8,
          8,
          8,
          8,
          8,
          8,
          8,
          8,
          8,
          8,
          8,
          8,
          8,
          8,
          8,
          8,
          8,
          8,
          8,
          8,
          8,
          8,
          8,
          8,
          8,
          8,
          8,
          8,
          8,
          8,
          8,
          8,
          8,
          8,
          8,
          8,
          8,
          8,
          8,
          8,
          8,
          8,
          8,
          8,
          8,
          8,
          8,
          8,
          8,
          8,
          8,
          8,
          8,
          8,
          8,
          8,
          8,
          8,
          8,
          8,
          8,
          8,
          8,
          8,
          8,
          8,
          8,
          8,
          8,
          8,
          8,
          8,
          8,
          8,
          8,
          8,
          8,
          8,
          8,
          8,
          8,
          8,
          8,
          8,
          8,
          8,
          8,
          8,
          8,
          8,
          8,
          7.9,
          7.9,
          7.9,
          7.9,
          7.9,
          7.9,
          7.9,
          7.9,
          7.9,
          7.9,
          7.9,
          7.9,
          7.9,
          7.9,
          7.9,
          7.9,
          7.9,
          7.9,
          7.9,
          7.9,
          7.9,
          7.9,
          7.9,
          7.9,
          7.9,
          7.9,
          7.9,
          7.9,
          7.9,
          7.9,
          7.9,
          7.9,
          7.9,
          7.9,
          7.9,
          7.9,
          7.9,
          7.9,
          7.9,
          7.9,
          7.9,
          7.9,
          7.9,
          7.9,
          7.9,
          7.9,
          7.9,
          7.9,
          7.9,
          7.9,
          7.9,
          7.9,
          7.9,
          7.9,
          7.9,
          7.9,
          7.9,
          7.9,
          7.9,
          7.9,
          7.9,
          7.9,
          7.9,
          7.9,
          7.9,
          7.9,
          7.9,
          7.9,
          7.9,
          7.9,
          7.9,
          7.9,
          7.9,
          7.9,
          7.9,
          7.9,
          7.9,
          7.9,
          7.9,
          7.9,
          7.9,
          7.9,
          7.9,
          7.9,
          7.9,
          7.9,
          7.9,
          7.9,
          7.9,
          7.9,
          7.9,
          7.9,
          7.9,
          7.9,
          7.9,
          7.9,
          7.9,
          7.9,
          7.9,
          7.9,
          7.9,
          7.9,
          7.9,
          7.9,
          7.9,
          7.9,
          7.9,
          7.9,
          7.9,
          7.9,
          7.9,
          7.9,
          7.9,
          7.9,
          7.9,
          7.9,
          7.9,
          7.9,
          7.9,
          7.9,
          7.9,
          7.9,
          7.9,
          7.9,
          7.9,
          7.9,
          7.9,
          7.9,
          7.9,
          7.8,
          7.8,
          7.8,
          7.8,
          7.8,
          7.8,
          7.8,
          7.8,
          7.8,
          7.8,
          7.8,
          7.8,
          7.8,
          7.8,
          7.8,
          7.8,
          7.8,
          7.8,
          7.8,
          7.8,
          7.8,
          7.8,
          7.8,
          7.8,
          7.8,
          7.8,
          7.8,
          7.8,
          7.8,
          7.8,
          7.8,
          7.8,
          7.8,
          7.8,
          7.8,
          7.8,
          7.8,
          7.8,
          7.8,
          7.8,
          7.8,
          7.8,
          7.8,
          7.8,
          7.8,
          7.8,
          7.8,
          7.8,
          7.8,
          7.8,
          7.8,
          7.8,
          7.8,
          7.8,
          7.8,
          7.8,
          7.8,
          7.8,
          7.8,
          7.8,
          7.8,
          7.8,
          7.8,
          7.8,
          7.8,
          7.8,
          7.8,
          7.8,
          7.8,
          7.8,
          7.8,
          7.8,
          7.8,
          7.8,
          7.8,
          7.8,
          7.8,
          7.8,
          7.8,
          7.8,
          7.8,
          7.8,
          7.8,
          7.8,
          7.8,
          7.8,
          7.8,
          7.8,
          7.8,
          7.8,
          7.8,
          7.8,
          7.8,
          7.8,
          7.8,
          7.8,
          7.8,
          7.8,
          7.8,
          7.8,
          7.8,
          7.8,
          7.8,
          7.8,
          7.8,
          7.8,
          7.8,
          7.8,
          7.8,
          7.8,
          7.8,
          7.8,
          7.8,
          7.8,
          7.8,
          7.8,
          7.8,
          7.8,
          7.8,
          7.8,
          7.8,
          7.8,
          7.8,
          7.8,
          7.8,
          7.8,
          7.8,
          7.8,
          7.8,
          7.8,
          7.8,
          7.8,
          7.8,
          7.8,
          7.8,
          7.8,
          7.8,
          7.8,
          7.8,
          7.8,
          7.8,
          7.8,
          7.8,
          7.8,
          7.8,
          7.8,
          7.8,
          7.8,
          7.7,
          7.7,
          7.7,
          7.7,
          7.7,
          7.7,
          7.7,
          7.7,
          7.7,
          7.7,
          7.7,
          7.7,
          7.7,
          7.7,
          7.7,
          7.7,
          7.7,
          7.7,
          7.7,
          7.7,
          7.7,
          7.7,
          7.7,
          7.7,
          7.7,
          7.7,
          7.7,
          7.7,
          7.7,
          7.7,
          7.7,
          7.7,
          7.7,
          7.7,
          7.7,
          7.7,
          7.7,
          7.7,
          7.7,
          7.7,
          7.7,
          7.7,
          7.7,
          7.7,
          7.7,
          7.7,
          7.7,
          7.7,
          7.7,
          7.7,
          7.7,
          7.7,
          7.7,
          7.7,
          7.7,
          7.7,
          7.7,
          7.7,
          7.7,
          7.7,
          7.7,
          7.7,
          7.7,
          7.7,
          7.7,
          7.7,
          7.7,
          7.7,
          7.7,
          7.7,
          7.7,
          7.7,
          7.7,
          7.7,
          7.7,
          7.7,
          7.7,
          7.7,
          7.7,
          7.7,
          7.7,
          7.7,
          7.7,
          7.7,
          7.7,
          7.7,
          7.7,
          7.7,
          7.7,
          7.7,
          7.7,
          7.7,
          7.7,
          7.7,
          7.7,
          7.7,
          7.7,
          7.7,
          7.7,
          7.7,
          7.7,
          7.7,
          7.7,
          7.7,
          7.7,
          7.7,
          7.7,
          7.7,
          7.7,
          7.7,
          7.7,
          7.7,
          7.7,
          7.7,
          7.7,
          7.7,
          7.7,
          7.7,
          7.7,
          7.7,
          7.7,
          7.7,
          7.7,
          7.7,
          7.7,
          7.7,
          7.7,
          7.7,
          7.7,
          7.7,
          7.7,
          7.7,
          7.7,
          7.7,
          7.7,
          7.7,
          7.7,
          7.7,
          7.7,
          7.7,
          7.7,
          7.7,
          7.7,
          7.7,
          7.7,
          7.7,
          7.7,
          7.7,
          7.7,
          7.7,
          7.7,
          7.7,
          7.7,
          7.7,
          7.7,
          7.7,
          7.7,
          7.7,
          7.7,
          7.7,
          7.7,
          7.7,
          7.7,
          7.7,
          7.7,
          7.7,
          7.7,
          7.7,
          7.7,
          7.7,
          7.6,
          7.6,
          7.6,
          7.6,
          7.6,
          7.6,
          7.6,
          7.6,
          7.6,
          7.6,
          7.6,
          7.6,
          7.6,
          7.6,
          7.6,
          7.6,
          7.6,
          7.6,
          7.6,
          7.6,
          7.6,
          7.6,
          7.6,
          7.6,
          7.6,
          7.6,
          7.6,
          7.6,
          7.6,
          7.6,
          7.6,
          7.6,
          7.6,
          7.6,
          7.6,
          7.6,
          7.6,
          7.6,
          7.6,
          7.6,
          7.6,
          7.6,
          7.6,
          7.6,
          7.6,
          7.6,
          7.6,
          7.6,
          7.6,
          7.6,
          7.6,
          7.6,
          7.6,
          7.6,
          7.6,
          7.6,
          7.6,
          7.6,
          7.6,
          7.6,
          7.6,
          7.6,
          7.6,
          7.6,
          7.6,
          7.6,
          7.6,
          7.6,
          7.6,
          7.6,
          7.6,
          7.6,
          7.6,
          7.6,
          7.6,
          7.6,
          7.6,
          7.6,
          7.6,
          7.6,
          7.6,
          7.6,
          7.6,
          7.6,
          7.6,
          7.6,
          7.6,
          7.6
         ],
         "yaxis": "y"
        }
       ],
       "layout": {
        "bargap": 0.2,
        "barmode": "relative",
        "legend": {
         "tracegroupgap": 0
        },
        "template": {
         "data": {
          "bar": [
           {
            "error_x": {
             "color": "#2a3f5f"
            },
            "error_y": {
             "color": "#2a3f5f"
            },
            "marker": {
             "line": {
              "color": "#E5ECF6",
              "width": 0.5
             },
             "pattern": {
              "fillmode": "overlay",
              "size": 10,
              "solidity": 0.2
             }
            },
            "type": "bar"
           }
          ],
          "barpolar": [
           {
            "marker": {
             "line": {
              "color": "#E5ECF6",
              "width": 0.5
             },
             "pattern": {
              "fillmode": "overlay",
              "size": 10,
              "solidity": 0.2
             }
            },
            "type": "barpolar"
           }
          ],
          "carpet": [
           {
            "aaxis": {
             "endlinecolor": "#2a3f5f",
             "gridcolor": "white",
             "linecolor": "white",
             "minorgridcolor": "white",
             "startlinecolor": "#2a3f5f"
            },
            "baxis": {
             "endlinecolor": "#2a3f5f",
             "gridcolor": "white",
             "linecolor": "white",
             "minorgridcolor": "white",
             "startlinecolor": "#2a3f5f"
            },
            "type": "carpet"
           }
          ],
          "choropleth": [
           {
            "colorbar": {
             "outlinewidth": 0,
             "ticks": ""
            },
            "type": "choropleth"
           }
          ],
          "contour": [
           {
            "colorbar": {
             "outlinewidth": 0,
             "ticks": ""
            },
            "colorscale": [
             [
              0,
              "#0d0887"
             ],
             [
              0.1111111111111111,
              "#46039f"
             ],
             [
              0.2222222222222222,
              "#7201a8"
             ],
             [
              0.3333333333333333,
              "#9c179e"
             ],
             [
              0.4444444444444444,
              "#bd3786"
             ],
             [
              0.5555555555555556,
              "#d8576b"
             ],
             [
              0.6666666666666666,
              "#ed7953"
             ],
             [
              0.7777777777777778,
              "#fb9f3a"
             ],
             [
              0.8888888888888888,
              "#fdca26"
             ],
             [
              1,
              "#f0f921"
             ]
            ],
            "type": "contour"
           }
          ],
          "contourcarpet": [
           {
            "colorbar": {
             "outlinewidth": 0,
             "ticks": ""
            },
            "type": "contourcarpet"
           }
          ],
          "heatmap": [
           {
            "colorbar": {
             "outlinewidth": 0,
             "ticks": ""
            },
            "colorscale": [
             [
              0,
              "#0d0887"
             ],
             [
              0.1111111111111111,
              "#46039f"
             ],
             [
              0.2222222222222222,
              "#7201a8"
             ],
             [
              0.3333333333333333,
              "#9c179e"
             ],
             [
              0.4444444444444444,
              "#bd3786"
             ],
             [
              0.5555555555555556,
              "#d8576b"
             ],
             [
              0.6666666666666666,
              "#ed7953"
             ],
             [
              0.7777777777777778,
              "#fb9f3a"
             ],
             [
              0.8888888888888888,
              "#fdca26"
             ],
             [
              1,
              "#f0f921"
             ]
            ],
            "type": "heatmap"
           }
          ],
          "heatmapgl": [
           {
            "colorbar": {
             "outlinewidth": 0,
             "ticks": ""
            },
            "colorscale": [
             [
              0,
              "#0d0887"
             ],
             [
              0.1111111111111111,
              "#46039f"
             ],
             [
              0.2222222222222222,
              "#7201a8"
             ],
             [
              0.3333333333333333,
              "#9c179e"
             ],
             [
              0.4444444444444444,
              "#bd3786"
             ],
             [
              0.5555555555555556,
              "#d8576b"
             ],
             [
              0.6666666666666666,
              "#ed7953"
             ],
             [
              0.7777777777777778,
              "#fb9f3a"
             ],
             [
              0.8888888888888888,
              "#fdca26"
             ],
             [
              1,
              "#f0f921"
             ]
            ],
            "type": "heatmapgl"
           }
          ],
          "histogram": [
           {
            "marker": {
             "pattern": {
              "fillmode": "overlay",
              "size": 10,
              "solidity": 0.2
             }
            },
            "type": "histogram"
           }
          ],
          "histogram2d": [
           {
            "colorbar": {
             "outlinewidth": 0,
             "ticks": ""
            },
            "colorscale": [
             [
              0,
              "#0d0887"
             ],
             [
              0.1111111111111111,
              "#46039f"
             ],
             [
              0.2222222222222222,
              "#7201a8"
             ],
             [
              0.3333333333333333,
              "#9c179e"
             ],
             [
              0.4444444444444444,
              "#bd3786"
             ],
             [
              0.5555555555555556,
              "#d8576b"
             ],
             [
              0.6666666666666666,
              "#ed7953"
             ],
             [
              0.7777777777777778,
              "#fb9f3a"
             ],
             [
              0.8888888888888888,
              "#fdca26"
             ],
             [
              1,
              "#f0f921"
             ]
            ],
            "type": "histogram2d"
           }
          ],
          "histogram2dcontour": [
           {
            "colorbar": {
             "outlinewidth": 0,
             "ticks": ""
            },
            "colorscale": [
             [
              0,
              "#0d0887"
             ],
             [
              0.1111111111111111,
              "#46039f"
             ],
             [
              0.2222222222222222,
              "#7201a8"
             ],
             [
              0.3333333333333333,
              "#9c179e"
             ],
             [
              0.4444444444444444,
              "#bd3786"
             ],
             [
              0.5555555555555556,
              "#d8576b"
             ],
             [
              0.6666666666666666,
              "#ed7953"
             ],
             [
              0.7777777777777778,
              "#fb9f3a"
             ],
             [
              0.8888888888888888,
              "#fdca26"
             ],
             [
              1,
              "#f0f921"
             ]
            ],
            "type": "histogram2dcontour"
           }
          ],
          "mesh3d": [
           {
            "colorbar": {
             "outlinewidth": 0,
             "ticks": ""
            },
            "type": "mesh3d"
           }
          ],
          "parcoords": [
           {
            "line": {
             "colorbar": {
              "outlinewidth": 0,
              "ticks": ""
             }
            },
            "type": "parcoords"
           }
          ],
          "pie": [
           {
            "automargin": true,
            "type": "pie"
           }
          ],
          "scatter": [
           {
            "fillpattern": {
             "fillmode": "overlay",
             "size": 10,
             "solidity": 0.2
            },
            "type": "scatter"
           }
          ],
          "scatter3d": [
           {
            "line": {
             "colorbar": {
              "outlinewidth": 0,
              "ticks": ""
             }
            },
            "marker": {
             "colorbar": {
              "outlinewidth": 0,
              "ticks": ""
             }
            },
            "type": "scatter3d"
           }
          ],
          "scattercarpet": [
           {
            "marker": {
             "colorbar": {
              "outlinewidth": 0,
              "ticks": ""
             }
            },
            "type": "scattercarpet"
           }
          ],
          "scattergeo": [
           {
            "marker": {
             "colorbar": {
              "outlinewidth": 0,
              "ticks": ""
             }
            },
            "type": "scattergeo"
           }
          ],
          "scattergl": [
           {
            "marker": {
             "colorbar": {
              "outlinewidth": 0,
              "ticks": ""
             }
            },
            "type": "scattergl"
           }
          ],
          "scattermapbox": [
           {
            "marker": {
             "colorbar": {
              "outlinewidth": 0,
              "ticks": ""
             }
            },
            "type": "scattermapbox"
           }
          ],
          "scatterpolar": [
           {
            "marker": {
             "colorbar": {
              "outlinewidth": 0,
              "ticks": ""
             }
            },
            "type": "scatterpolar"
           }
          ],
          "scatterpolargl": [
           {
            "marker": {
             "colorbar": {
              "outlinewidth": 0,
              "ticks": ""
             }
            },
            "type": "scatterpolargl"
           }
          ],
          "scatterternary": [
           {
            "marker": {
             "colorbar": {
              "outlinewidth": 0,
              "ticks": ""
             }
            },
            "type": "scatterternary"
           }
          ],
          "surface": [
           {
            "colorbar": {
             "outlinewidth": 0,
             "ticks": ""
            },
            "colorscale": [
             [
              0,
              "#0d0887"
             ],
             [
              0.1111111111111111,
              "#46039f"
             ],
             [
              0.2222222222222222,
              "#7201a8"
             ],
             [
              0.3333333333333333,
              "#9c179e"
             ],
             [
              0.4444444444444444,
              "#bd3786"
             ],
             [
              0.5555555555555556,
              "#d8576b"
             ],
             [
              0.6666666666666666,
              "#ed7953"
             ],
             [
              0.7777777777777778,
              "#fb9f3a"
             ],
             [
              0.8888888888888888,
              "#fdca26"
             ],
             [
              1,
              "#f0f921"
             ]
            ],
            "type": "surface"
           }
          ],
          "table": [
           {
            "cells": {
             "fill": {
              "color": "#EBF0F8"
             },
             "line": {
              "color": "white"
             }
            },
            "header": {
             "fill": {
              "color": "#C8D4E3"
             },
             "line": {
              "color": "white"
             }
            },
            "type": "table"
           }
          ]
         },
         "layout": {
          "annotationdefaults": {
           "arrowcolor": "#2a3f5f",
           "arrowhead": 0,
           "arrowwidth": 1
          },
          "autotypenumbers": "strict",
          "coloraxis": {
           "colorbar": {
            "outlinewidth": 0,
            "ticks": ""
           }
          },
          "colorscale": {
           "diverging": [
            [
             0,
             "#8e0152"
            ],
            [
             0.1,
             "#c51b7d"
            ],
            [
             0.2,
             "#de77ae"
            ],
            [
             0.3,
             "#f1b6da"
            ],
            [
             0.4,
             "#fde0ef"
            ],
            [
             0.5,
             "#f7f7f7"
            ],
            [
             0.6,
             "#e6f5d0"
            ],
            [
             0.7,
             "#b8e186"
            ],
            [
             0.8,
             "#7fbc41"
            ],
            [
             0.9,
             "#4d9221"
            ],
            [
             1,
             "#276419"
            ]
           ],
           "sequential": [
            [
             0,
             "#0d0887"
            ],
            [
             0.1111111111111111,
             "#46039f"
            ],
            [
             0.2222222222222222,
             "#7201a8"
            ],
            [
             0.3333333333333333,
             "#9c179e"
            ],
            [
             0.4444444444444444,
             "#bd3786"
            ],
            [
             0.5555555555555556,
             "#d8576b"
            ],
            [
             0.6666666666666666,
             "#ed7953"
            ],
            [
             0.7777777777777778,
             "#fb9f3a"
            ],
            [
             0.8888888888888888,
             "#fdca26"
            ],
            [
             1,
             "#f0f921"
            ]
           ],
           "sequentialminus": [
            [
             0,
             "#0d0887"
            ],
            [
             0.1111111111111111,
             "#46039f"
            ],
            [
             0.2222222222222222,
             "#7201a8"
            ],
            [
             0.3333333333333333,
             "#9c179e"
            ],
            [
             0.4444444444444444,
             "#bd3786"
            ],
            [
             0.5555555555555556,
             "#d8576b"
            ],
            [
             0.6666666666666666,
             "#ed7953"
            ],
            [
             0.7777777777777778,
             "#fb9f3a"
            ],
            [
             0.8888888888888888,
             "#fdca26"
            ],
            [
             1,
             "#f0f921"
            ]
           ]
          },
          "colorway": [
           "#636efa",
           "#EF553B",
           "#00cc96",
           "#ab63fa",
           "#FFA15A",
           "#19d3f3",
           "#FF6692",
           "#B6E880",
           "#FF97FF",
           "#FECB52"
          ],
          "font": {
           "color": "#2a3f5f"
          },
          "geo": {
           "bgcolor": "white",
           "lakecolor": "white",
           "landcolor": "#E5ECF6",
           "showlakes": true,
           "showland": true,
           "subunitcolor": "white"
          },
          "hoverlabel": {
           "align": "left"
          },
          "hovermode": "closest",
          "mapbox": {
           "style": "light"
          },
          "paper_bgcolor": "white",
          "plot_bgcolor": "#E5ECF6",
          "polar": {
           "angularaxis": {
            "gridcolor": "white",
            "linecolor": "white",
            "ticks": ""
           },
           "bgcolor": "#E5ECF6",
           "radialaxis": {
            "gridcolor": "white",
            "linecolor": "white",
            "ticks": ""
           }
          },
          "scene": {
           "xaxis": {
            "backgroundcolor": "#E5ECF6",
            "gridcolor": "white",
            "gridwidth": 2,
            "linecolor": "white",
            "showbackground": true,
            "ticks": "",
            "zerolinecolor": "white"
           },
           "yaxis": {
            "backgroundcolor": "#E5ECF6",
            "gridcolor": "white",
            "gridwidth": 2,
            "linecolor": "white",
            "showbackground": true,
            "ticks": "",
            "zerolinecolor": "white"
           },
           "zaxis": {
            "backgroundcolor": "#E5ECF6",
            "gridcolor": "white",
            "gridwidth": 2,
            "linecolor": "white",
            "showbackground": true,
            "ticks": "",
            "zerolinecolor": "white"
           }
          },
          "shapedefaults": {
           "line": {
            "color": "#2a3f5f"
           }
          },
          "ternary": {
           "aaxis": {
            "gridcolor": "white",
            "linecolor": "white",
            "ticks": ""
           },
           "baxis": {
            "gridcolor": "white",
            "linecolor": "white",
            "ticks": ""
           },
           "bgcolor": "#E5ECF6",
           "caxis": {
            "gridcolor": "white",
            "linecolor": "white",
            "ticks": ""
           }
          },
          "title": {
           "x": 0.05
          },
          "xaxis": {
           "automargin": true,
           "gridcolor": "white",
           "linecolor": "white",
           "ticks": "",
           "title": {
            "standoff": 15
           },
           "zerolinecolor": "white",
           "zerolinewidth": 2
          },
          "yaxis": {
           "automargin": true,
           "gridcolor": "white",
           "linecolor": "white",
           "ticks": "",
           "title": {
            "standoff": 15
           },
           "zerolinecolor": "white",
           "zerolinewidth": 2
          }
         }
        },
        "title": {
         "text": "Movie ratings throughout the years"
        },
        "xaxis": {
         "anchor": "y",
         "domain": [
          0,
          1
         ],
         "title": {
          "text": "release_year"
         }
        },
        "yaxis": {
         "anchor": "x",
         "domain": [
          0,
          1
         ],
         "title": {
          "text": "sum of rating"
         }
        }
       }
      },
      "text/html": [
       "<div>                            <div id=\"bdbb5bb0-3518-4d7d-b419-c6a096d09fc6\" class=\"plotly-graph-div\" style=\"height:525px; width:100%;\"></div>            <script type=\"text/javascript\">                require([\"plotly\"], function(Plotly) {                    window.PLOTLYENV=window.PLOTLYENV || {};                                    if (document.getElementById(\"bdbb5bb0-3518-4d7d-b419-c6a096d09fc6\")) {                    Plotly.newPlot(                        \"bdbb5bb0-3518-4d7d-b419-c6a096d09fc6\",                        [{\"alignmentgroup\":\"True\",\"bingroup\":\"x\",\"histfunc\":\"sum\",\"hovertemplate\":\"release_year=%{x}<br>sum of rating=%{y}<extra></extra>\",\"legendgroup\":\"\",\"marker\":{\"color\":\"#636efa\",\"pattern\":{\"shape\":\"\"}},\"name\":\"\",\"offsetgroup\":\"\",\"orientation\":\"v\",\"showlegend\":false,\"x\":[1994,1972,2022,2008,2003,1993,1974,1957,2021,1994,2010,2002,1999,2001,1994,1966,2020,1999,1990,1980,1975,2022,2014,2002,2001,1998,1999,1997,1995,1991,1991,1977,1962,1954,1946,2019,2019,2022,2018,2019,2014,2011,2021,2006,2006,2002,2000,1998,1995,1994,1994,1988,1988,1985,1979,1979,1968,1960,1954,1942,1936,1931,2018,2019,2016,2018,2019,2018,2017,2012,2012,2021,2009,2022,2021,2008,2006,2003,2000,1999,1997,1995,1985,1986,1984,1981,1981,1980,1963,1964,1957,1957,1950,1940,2020,2018,2017,2016,2013,2012,2011,2010,2021,2009,2007,2010,2009,2004,2001,2000,2000,1997,1995,1995,1992,1987,1984,1983,1983,1973,1971,1968,1962,1962,1961,1960,1959,1958,1955,1952,1952,1948,1944,1941,1931,1927,1921,2019,2019,2019,2018,2018,2018,2018,2022,2017,2017,2015,2013,2015,2012,2012,2009,2011,2010,2020,2019,2019,2020,2013,2007,2005,2007,2006,2006,2005,2004,2004,2001,2003,2003,1999,1998,1998,1997,1997,1995,1993,1992,1989,1988,1985,1982,1980,1980,1976,1975,1975,1974,1969,1965,1963,1961,1959,1957,1954,1953,1953,1952,1950,1950,1948,1942,1939,1928,1926,1925,1924,2019,2016,2016,2017,2015,2019,2015,2016,2015,2014,2013,2017,2015,2014,2013,2014,2012,2014,2014,2012,2016,2012,2013,2013,2019,2015,2012,2010,2011,2011,2013,2015,2008,2008,2011,2009,2009,2010,2007,2007,2006,2004,2004,2007,2004,2005,2003,2004,2003,2003,2001,2002,1998,2000,2000,1999,2001,2001,1998,1999,1998,2000,1996,1996,1996,1995,1995,1995,1994,1993,1993,1993,1991,1988,1989,1988,1986,1986,1986,1984,1984,1982,1982,1982,1979,1978,1978,1976,1976,1976,1975,1975,1975,1973,1973,1971,1967,1966,1965,1966,1962,1960,1960,1959,1959,1958,1957,1957,1957,1957,1955,1954,1955,1951,1949,1949,1948,1946,1940,1940,1940,1939,1939,1937,1934,1930,1928,1927,2020,2022,2018,2020,2016,2016,2016,2015,2014,2020,2016,2014,2015,2013,2013,2014,2014,2014,2017,2013,2015,2012,2010,2010,2016,2021,2008,2021,2008,2021,2008,2010,2007,2012,2007,2006,2006,2006,2007,2004,2005,2007,2004,2004,2006,2004,2003,2004,2005,2002,2003,2004,2001,2003,2001,2001,1999,1997,1999,1997,1998,1998,1998,1996,1996,1995,1995,1994,1994,1992,1992,1991,1991,1990,1988,1988,1987,1987,1987,1986,1984,1983,1982,1982,1979,1979,1977,1975,1975,1974,1973,1972,1972,1972,1971,1971,1969,1968,1968,1967,1967,1966,1966,1963,1963,1962,1962,1962,1962,1961,1960,1959,1959,1958,1957,1956,1955,1954,1953,1953,1952,1949,1947,1945,1945,1945,1941,1925,1920,2019,2018,2019,2019,2018,2019,2016,2016,2015,2016,2017,2019,2017,2016,2019,2013,2014,2013,2014,2022,2018,2014,2011,2014,2012,2009,2009,2010,2009,2008,2009,2008,2007,2014,2007,2009,2013,2008,2007,2006,2012,2009,2004,2005,2003,2008,2004,2003,2004,2003,2004,2002,2002,2001,2002,2000,2006,2000,2000,2000,2001,2001,1999,1997,1997,1997,1995,1995,1994,1993,1993,1993,1993,1993,1990,1989,1989,1987,1986,1986,1985,1984,1983,1982,1980,1980,1979,1976,1973,1971,1970,1970,1970,1969,1968,1967,1967,1965,1964,1963,1962,1962,1960,1959,1958,1958,1956,1956,1953,1951,1951,1950,1950,1948,1947,1946,1946,1946,1945,1944,1944,1941,1940,1939,1938,1934,1933,1932,1922,2019,2018,2017,2017,2016,2018,2017,2016,2016,2017,2016,2015,2016,2022,2016,2016,2015,2019,2017,2014,2014,2015,2013,2012,2014,2013,2012,2013,2014,2011,2012,2014,2015,2010,2011,2013,2015,2019,2010,2009,2009,2008,2009,2013,2009,2009,2012,2021,2010,2008,2007,2012,2008,2007,2011,2007,2009,2009,2006,2006,2006,2007,2008,2004,2005,2005,2003,2005,2004,2004,2005,2004,2003,2004,2002,2001,2001,2000,2000,1999,2000,1999,1999,1999,1997,1996,1996,1994,1993,1993,1993,1993,1993,1993,1993,1991,1990,1990,1989,1989,1989,1989,1989,1988,1987,1986,1985,1984,1984,1983,1982,1979,1979,1978,1978,1976,1975,1973,1974,1973,1972,1972,1972,1971,1969,1968,1967,1964,1964,1964,1961,1960,1955,1951,1950,1948,1944,1944,1943,1940,1939,1938,1938,1938,1935,1935,1933,1931,2018,2018,2019,2017,2016,2017,2018,2016,2016,2016,2015,2014,2014,2014,2014,2015,2014,2013,2013,2016,2013,2012,2013,2019,2013,2012,2015,2011,2011,2010,2010,2014,2013,2013,2015,2011,2009,2020,2012,2020,2012,2009,2010,2008,2007,2008,2006,2010,2006,2006,2014,2006,2007,2006,2005,2005,2010,2006,2005,2007,2004,2004,2004,2004,2003,2003,2005,2004,2009,2002,2003,2004,2003,2002,2003,2002,2001,2002,2001,2000,2001,2002,2001,2001,2001,2000,2002,1999,1999,1998,1999,2001,1998,1997,1997,1997,1997,1997,1997,1997,1996,1996,1995,1995,1994,1994,1993,1993,1993,1993,1992,1992,1992,1992,1992,1992,1992,1991,1991,1991,1990,1990,1990,1989,1988,1988,1987,1987,1987,1986,1986,1986,1985,1985,1985,1983,1982,1982,1982,1980,1980,1978,1975,1975,1974,1973,1973,1973,1972,1971,1971,1967,1967,1967,1967,1966,1964,1964,1962,1962,1962,1960,1960,1956,1954,1952,1951,1948,1940,1932,2019,2021,2018,2019,2017,2015,2018,2016,2014,2015,2015,2014,2016,2013,2014,2011,2012,2018,2010,2010,2011,2010,2009,2011,2011,2009,2009,2008,2007,2008,2007,2007,2006,2006,2006,2007,2008,2007,2006,2005,2009,2005,2004,2004,2003,2002,2004,2001,2001,2001,2001,2000,2000,1998,2005,1998,1998,1997,1998,1998,1995,1995,1994,1992,1991,1990,1989,1988,1987,1987,1986,1985,1981,1977,1974,1973,1968,1967,1965,1963,1961,1960,1955,1954,1953,1937,1935,1933],\"xaxis\":\"x\",\"y\":[9.3,9.2,9.1,9.0,9.0,9.0,9.0,9.0,8.9,8.9,8.8,8.8,8.8,8.8,8.8,8.8,8.7,8.7,8.7,8.7,8.7,8.6,8.6,8.6,8.6,8.6,8.6,8.6,8.6,8.6,8.6,8.6,8.6,8.6,8.6,8.5,8.5,8.5,8.5,8.5,8.5,8.5,8.5,8.5,8.5,8.5,8.5,8.5,8.5,8.5,8.5,8.5,8.5,8.5,8.5,8.5,8.5,8.5,8.5,8.5,8.5,8.5,8.4,8.4,8.4,8.4,8.4,8.4,8.4,8.4,8.4,8.4,8.4,8.4,8.4,8.4,8.4,8.4,8.4,8.4,8.4,8.4,8.4,8.4,8.4,8.4,8.4,8.4,8.4,8.4,8.4,8.4,8.4,8.4,8.3,8.3,8.3,8.3,8.3,8.3,8.3,8.3,8.3,8.3,8.3,8.3,8.3,8.3,8.3,8.3,8.3,8.3,8.3,8.3,8.3,8.3,8.3,8.3,8.3,8.3,8.3,8.3,8.3,8.3,8.3,8.3,8.3,8.3,8.3,8.3,8.3,8.3,8.3,8.3,8.3,8.3,8.3,8.2,8.2,8.2,8.2,8.2,8.2,8.2,8.2,8.2,8.2,8.2,8.2,8.2,8.2,8.2,8.2,8.2,8.2,8.2,8.2,8.2,8.2,8.2,8.2,8.2,8.2,8.2,8.2,8.2,8.2,8.2,8.2,8.2,8.2,8.2,8.2,8.2,8.2,8.2,8.2,8.2,8.2,8.2,8.2,8.2,8.2,8.2,8.2,8.2,8.2,8.2,8.2,8.2,8.2,8.2,8.2,8.2,8.2,8.2,8.2,8.2,8.2,8.2,8.2,8.2,8.2,8.2,8.2,8.2,8.2,8.2,8.1,8.1,8.1,8.1,8.1,8.1,8.1,8.1,8.1,8.1,8.1,8.1,8.1,8.1,8.1,8.1,8.1,8.1,8.1,8.1,8.1,8.1,8.1,8.1,8.1,8.1,8.1,8.1,8.1,8.1,8.1,8.1,8.1,8.1,8.1,8.1,8.1,8.1,8.1,8.1,8.1,8.1,8.1,8.1,8.1,8.1,8.1,8.1,8.1,8.1,8.1,8.1,8.1,8.1,8.1,8.1,8.1,8.1,8.1,8.1,8.1,8.1,8.1,8.1,8.1,8.1,8.1,8.1,8.1,8.1,8.1,8.1,8.1,8.1,8.1,8.1,8.1,8.1,8.1,8.1,8.1,8.1,8.1,8.1,8.1,8.1,8.1,8.1,8.1,8.1,8.1,8.1,8.1,8.1,8.1,8.1,8.1,8.1,8.1,8.1,8.1,8.1,8.1,8.1,8.1,8.1,8.1,8.1,8.1,8.1,8.1,8.1,8.1,8.1,8.1,8.1,8.1,8.1,8.1,8.1,8.1,8.1,8.1,8.1,8.1,8.1,8.1,8.1,8.0,8.0,8.0,8.0,8.0,8.0,8.0,8.0,8.0,8.0,8.0,8.0,8.0,8.0,8.0,8.0,8.0,8.0,8.0,8.0,8.0,8.0,8.0,8.0,8.0,8.0,8.0,8.0,8.0,8.0,8.0,8.0,8.0,8.0,8.0,8.0,8.0,8.0,8.0,8.0,8.0,8.0,8.0,8.0,8.0,8.0,8.0,8.0,8.0,8.0,8.0,8.0,8.0,8.0,8.0,8.0,8.0,8.0,8.0,8.0,8.0,8.0,8.0,8.0,8.0,8.0,8.0,8.0,8.0,8.0,8.0,8.0,8.0,8.0,8.0,8.0,8.0,8.0,8.0,8.0,8.0,8.0,8.0,8.0,8.0,8.0,8.0,8.0,8.0,8.0,8.0,8.0,8.0,8.0,8.0,8.0,8.0,8.0,8.0,8.0,8.0,8.0,8.0,8.0,8.0,8.0,8.0,8.0,8.0,8.0,8.0,8.0,8.0,8.0,8.0,8.0,8.0,8.0,8.0,8.0,8.0,8.0,8.0,8.0,8.0,8.0,8.0,8.0,8.0,7.9,7.9,7.9,7.9,7.9,7.9,7.9,7.9,7.9,7.9,7.9,7.9,7.9,7.9,7.9,7.9,7.9,7.9,7.9,7.9,7.9,7.9,7.9,7.9,7.9,7.9,7.9,7.9,7.9,7.9,7.9,7.9,7.9,7.9,7.9,7.9,7.9,7.9,7.9,7.9,7.9,7.9,7.9,7.9,7.9,7.9,7.9,7.9,7.9,7.9,7.9,7.9,7.9,7.9,7.9,7.9,7.9,7.9,7.9,7.9,7.9,7.9,7.9,7.9,7.9,7.9,7.9,7.9,7.9,7.9,7.9,7.9,7.9,7.9,7.9,7.9,7.9,7.9,7.9,7.9,7.9,7.9,7.9,7.9,7.9,7.9,7.9,7.9,7.9,7.9,7.9,7.9,7.9,7.9,7.9,7.9,7.9,7.9,7.9,7.9,7.9,7.9,7.9,7.9,7.9,7.9,7.9,7.9,7.9,7.9,7.9,7.9,7.9,7.9,7.9,7.9,7.9,7.9,7.9,7.9,7.9,7.9,7.9,7.9,7.9,7.9,7.9,7.9,7.9,7.8,7.8,7.8,7.8,7.8,7.8,7.8,7.8,7.8,7.8,7.8,7.8,7.8,7.8,7.8,7.8,7.8,7.8,7.8,7.8,7.8,7.8,7.8,7.8,7.8,7.8,7.8,7.8,7.8,7.8,7.8,7.8,7.8,7.8,7.8,7.8,7.8,7.8,7.8,7.8,7.8,7.8,7.8,7.8,7.8,7.8,7.8,7.8,7.8,7.8,7.8,7.8,7.8,7.8,7.8,7.8,7.8,7.8,7.8,7.8,7.8,7.8,7.8,7.8,7.8,7.8,7.8,7.8,7.8,7.8,7.8,7.8,7.8,7.8,7.8,7.8,7.8,7.8,7.8,7.8,7.8,7.8,7.8,7.8,7.8,7.8,7.8,7.8,7.8,7.8,7.8,7.8,7.8,7.8,7.8,7.8,7.8,7.8,7.8,7.8,7.8,7.8,7.8,7.8,7.8,7.8,7.8,7.8,7.8,7.8,7.8,7.8,7.8,7.8,7.8,7.8,7.8,7.8,7.8,7.8,7.8,7.8,7.8,7.8,7.8,7.8,7.8,7.8,7.8,7.8,7.8,7.8,7.8,7.8,7.8,7.8,7.8,7.8,7.8,7.8,7.8,7.8,7.8,7.8,7.8,7.8,7.8,7.8,7.7,7.7,7.7,7.7,7.7,7.7,7.7,7.7,7.7,7.7,7.7,7.7,7.7,7.7,7.7,7.7,7.7,7.7,7.7,7.7,7.7,7.7,7.7,7.7,7.7,7.7,7.7,7.7,7.7,7.7,7.7,7.7,7.7,7.7,7.7,7.7,7.7,7.7,7.7,7.7,7.7,7.7,7.7,7.7,7.7,7.7,7.7,7.7,7.7,7.7,7.7,7.7,7.7,7.7,7.7,7.7,7.7,7.7,7.7,7.7,7.7,7.7,7.7,7.7,7.7,7.7,7.7,7.7,7.7,7.7,7.7,7.7,7.7,7.7,7.7,7.7,7.7,7.7,7.7,7.7,7.7,7.7,7.7,7.7,7.7,7.7,7.7,7.7,7.7,7.7,7.7,7.7,7.7,7.7,7.7,7.7,7.7,7.7,7.7,7.7,7.7,7.7,7.7,7.7,7.7,7.7,7.7,7.7,7.7,7.7,7.7,7.7,7.7,7.7,7.7,7.7,7.7,7.7,7.7,7.7,7.7,7.7,7.7,7.7,7.7,7.7,7.7,7.7,7.7,7.7,7.7,7.7,7.7,7.7,7.7,7.7,7.7,7.7,7.7,7.7,7.7,7.7,7.7,7.7,7.7,7.7,7.7,7.7,7.7,7.7,7.7,7.7,7.7,7.7,7.7,7.7,7.7,7.7,7.7,7.7,7.7,7.7,7.7,7.7,7.7,7.7,7.7,7.7,7.7,7.7,7.6,7.6,7.6,7.6,7.6,7.6,7.6,7.6,7.6,7.6,7.6,7.6,7.6,7.6,7.6,7.6,7.6,7.6,7.6,7.6,7.6,7.6,7.6,7.6,7.6,7.6,7.6,7.6,7.6,7.6,7.6,7.6,7.6,7.6,7.6,7.6,7.6,7.6,7.6,7.6,7.6,7.6,7.6,7.6,7.6,7.6,7.6,7.6,7.6,7.6,7.6,7.6,7.6,7.6,7.6,7.6,7.6,7.6,7.6,7.6,7.6,7.6,7.6,7.6,7.6,7.6,7.6,7.6,7.6,7.6,7.6,7.6,7.6,7.6,7.6,7.6,7.6,7.6,7.6,7.6,7.6,7.6,7.6,7.6,7.6,7.6,7.6,7.6],\"yaxis\":\"y\",\"type\":\"histogram\"}],                        {\"template\":{\"data\":{\"histogram2dcontour\":[{\"type\":\"histogram2dcontour\",\"colorbar\":{\"outlinewidth\":0,\"ticks\":\"\"},\"colorscale\":[[0.0,\"#0d0887\"],[0.1111111111111111,\"#46039f\"],[0.2222222222222222,\"#7201a8\"],[0.3333333333333333,\"#9c179e\"],[0.4444444444444444,\"#bd3786\"],[0.5555555555555556,\"#d8576b\"],[0.6666666666666666,\"#ed7953\"],[0.7777777777777778,\"#fb9f3a\"],[0.8888888888888888,\"#fdca26\"],[1.0,\"#f0f921\"]]}],\"choropleth\":[{\"type\":\"choropleth\",\"colorbar\":{\"outlinewidth\":0,\"ticks\":\"\"}}],\"histogram2d\":[{\"type\":\"histogram2d\",\"colorbar\":{\"outlinewidth\":0,\"ticks\":\"\"},\"colorscale\":[[0.0,\"#0d0887\"],[0.1111111111111111,\"#46039f\"],[0.2222222222222222,\"#7201a8\"],[0.3333333333333333,\"#9c179e\"],[0.4444444444444444,\"#bd3786\"],[0.5555555555555556,\"#d8576b\"],[0.6666666666666666,\"#ed7953\"],[0.7777777777777778,\"#fb9f3a\"],[0.8888888888888888,\"#fdca26\"],[1.0,\"#f0f921\"]]}],\"heatmap\":[{\"type\":\"heatmap\",\"colorbar\":{\"outlinewidth\":0,\"ticks\":\"\"},\"colorscale\":[[0.0,\"#0d0887\"],[0.1111111111111111,\"#46039f\"],[0.2222222222222222,\"#7201a8\"],[0.3333333333333333,\"#9c179e\"],[0.4444444444444444,\"#bd3786\"],[0.5555555555555556,\"#d8576b\"],[0.6666666666666666,\"#ed7953\"],[0.7777777777777778,\"#fb9f3a\"],[0.8888888888888888,\"#fdca26\"],[1.0,\"#f0f921\"]]}],\"heatmapgl\":[{\"type\":\"heatmapgl\",\"colorbar\":{\"outlinewidth\":0,\"ticks\":\"\"},\"colorscale\":[[0.0,\"#0d0887\"],[0.1111111111111111,\"#46039f\"],[0.2222222222222222,\"#7201a8\"],[0.3333333333333333,\"#9c179e\"],[0.4444444444444444,\"#bd3786\"],[0.5555555555555556,\"#d8576b\"],[0.6666666666666666,\"#ed7953\"],[0.7777777777777778,\"#fb9f3a\"],[0.8888888888888888,\"#fdca26\"],[1.0,\"#f0f921\"]]}],\"contourcarpet\":[{\"type\":\"contourcarpet\",\"colorbar\":{\"outlinewidth\":0,\"ticks\":\"\"}}],\"contour\":[{\"type\":\"contour\",\"colorbar\":{\"outlinewidth\":0,\"ticks\":\"\"},\"colorscale\":[[0.0,\"#0d0887\"],[0.1111111111111111,\"#46039f\"],[0.2222222222222222,\"#7201a8\"],[0.3333333333333333,\"#9c179e\"],[0.4444444444444444,\"#bd3786\"],[0.5555555555555556,\"#d8576b\"],[0.6666666666666666,\"#ed7953\"],[0.7777777777777778,\"#fb9f3a\"],[0.8888888888888888,\"#fdca26\"],[1.0,\"#f0f921\"]]}],\"surface\":[{\"type\":\"surface\",\"colorbar\":{\"outlinewidth\":0,\"ticks\":\"\"},\"colorscale\":[[0.0,\"#0d0887\"],[0.1111111111111111,\"#46039f\"],[0.2222222222222222,\"#7201a8\"],[0.3333333333333333,\"#9c179e\"],[0.4444444444444444,\"#bd3786\"],[0.5555555555555556,\"#d8576b\"],[0.6666666666666666,\"#ed7953\"],[0.7777777777777778,\"#fb9f3a\"],[0.8888888888888888,\"#fdca26\"],[1.0,\"#f0f921\"]]}],\"mesh3d\":[{\"type\":\"mesh3d\",\"colorbar\":{\"outlinewidth\":0,\"ticks\":\"\"}}],\"scatter\":[{\"fillpattern\":{\"fillmode\":\"overlay\",\"size\":10,\"solidity\":0.2},\"type\":\"scatter\"}],\"parcoords\":[{\"type\":\"parcoords\",\"line\":{\"colorbar\":{\"outlinewidth\":0,\"ticks\":\"\"}}}],\"scatterpolargl\":[{\"type\":\"scatterpolargl\",\"marker\":{\"colorbar\":{\"outlinewidth\":0,\"ticks\":\"\"}}}],\"bar\":[{\"error_x\":{\"color\":\"#2a3f5f\"},\"error_y\":{\"color\":\"#2a3f5f\"},\"marker\":{\"line\":{\"color\":\"#E5ECF6\",\"width\":0.5},\"pattern\":{\"fillmode\":\"overlay\",\"size\":10,\"solidity\":0.2}},\"type\":\"bar\"}],\"scattergeo\":[{\"type\":\"scattergeo\",\"marker\":{\"colorbar\":{\"outlinewidth\":0,\"ticks\":\"\"}}}],\"scatterpolar\":[{\"type\":\"scatterpolar\",\"marker\":{\"colorbar\":{\"outlinewidth\":0,\"ticks\":\"\"}}}],\"histogram\":[{\"marker\":{\"pattern\":{\"fillmode\":\"overlay\",\"size\":10,\"solidity\":0.2}},\"type\":\"histogram\"}],\"scattergl\":[{\"type\":\"scattergl\",\"marker\":{\"colorbar\":{\"outlinewidth\":0,\"ticks\":\"\"}}}],\"scatter3d\":[{\"type\":\"scatter3d\",\"line\":{\"colorbar\":{\"outlinewidth\":0,\"ticks\":\"\"}},\"marker\":{\"colorbar\":{\"outlinewidth\":0,\"ticks\":\"\"}}}],\"scattermapbox\":[{\"type\":\"scattermapbox\",\"marker\":{\"colorbar\":{\"outlinewidth\":0,\"ticks\":\"\"}}}],\"scatterternary\":[{\"type\":\"scatterternary\",\"marker\":{\"colorbar\":{\"outlinewidth\":0,\"ticks\":\"\"}}}],\"scattercarpet\":[{\"type\":\"scattercarpet\",\"marker\":{\"colorbar\":{\"outlinewidth\":0,\"ticks\":\"\"}}}],\"carpet\":[{\"aaxis\":{\"endlinecolor\":\"#2a3f5f\",\"gridcolor\":\"white\",\"linecolor\":\"white\",\"minorgridcolor\":\"white\",\"startlinecolor\":\"#2a3f5f\"},\"baxis\":{\"endlinecolor\":\"#2a3f5f\",\"gridcolor\":\"white\",\"linecolor\":\"white\",\"minorgridcolor\":\"white\",\"startlinecolor\":\"#2a3f5f\"},\"type\":\"carpet\"}],\"table\":[{\"cells\":{\"fill\":{\"color\":\"#EBF0F8\"},\"line\":{\"color\":\"white\"}},\"header\":{\"fill\":{\"color\":\"#C8D4E3\"},\"line\":{\"color\":\"white\"}},\"type\":\"table\"}],\"barpolar\":[{\"marker\":{\"line\":{\"color\":\"#E5ECF6\",\"width\":0.5},\"pattern\":{\"fillmode\":\"overlay\",\"size\":10,\"solidity\":0.2}},\"type\":\"barpolar\"}],\"pie\":[{\"automargin\":true,\"type\":\"pie\"}]},\"layout\":{\"autotypenumbers\":\"strict\",\"colorway\":[\"#636efa\",\"#EF553B\",\"#00cc96\",\"#ab63fa\",\"#FFA15A\",\"#19d3f3\",\"#FF6692\",\"#B6E880\",\"#FF97FF\",\"#FECB52\"],\"font\":{\"color\":\"#2a3f5f\"},\"hovermode\":\"closest\",\"hoverlabel\":{\"align\":\"left\"},\"paper_bgcolor\":\"white\",\"plot_bgcolor\":\"#E5ECF6\",\"polar\":{\"bgcolor\":\"#E5ECF6\",\"angularaxis\":{\"gridcolor\":\"white\",\"linecolor\":\"white\",\"ticks\":\"\"},\"radialaxis\":{\"gridcolor\":\"white\",\"linecolor\":\"white\",\"ticks\":\"\"}},\"ternary\":{\"bgcolor\":\"#E5ECF6\",\"aaxis\":{\"gridcolor\":\"white\",\"linecolor\":\"white\",\"ticks\":\"\"},\"baxis\":{\"gridcolor\":\"white\",\"linecolor\":\"white\",\"ticks\":\"\"},\"caxis\":{\"gridcolor\":\"white\",\"linecolor\":\"white\",\"ticks\":\"\"}},\"coloraxis\":{\"colorbar\":{\"outlinewidth\":0,\"ticks\":\"\"}},\"colorscale\":{\"sequential\":[[0.0,\"#0d0887\"],[0.1111111111111111,\"#46039f\"],[0.2222222222222222,\"#7201a8\"],[0.3333333333333333,\"#9c179e\"],[0.4444444444444444,\"#bd3786\"],[0.5555555555555556,\"#d8576b\"],[0.6666666666666666,\"#ed7953\"],[0.7777777777777778,\"#fb9f3a\"],[0.8888888888888888,\"#fdca26\"],[1.0,\"#f0f921\"]],\"sequentialminus\":[[0.0,\"#0d0887\"],[0.1111111111111111,\"#46039f\"],[0.2222222222222222,\"#7201a8\"],[0.3333333333333333,\"#9c179e\"],[0.4444444444444444,\"#bd3786\"],[0.5555555555555556,\"#d8576b\"],[0.6666666666666666,\"#ed7953\"],[0.7777777777777778,\"#fb9f3a\"],[0.8888888888888888,\"#fdca26\"],[1.0,\"#f0f921\"]],\"diverging\":[[0,\"#8e0152\"],[0.1,\"#c51b7d\"],[0.2,\"#de77ae\"],[0.3,\"#f1b6da\"],[0.4,\"#fde0ef\"],[0.5,\"#f7f7f7\"],[0.6,\"#e6f5d0\"],[0.7,\"#b8e186\"],[0.8,\"#7fbc41\"],[0.9,\"#4d9221\"],[1,\"#276419\"]]},\"xaxis\":{\"gridcolor\":\"white\",\"linecolor\":\"white\",\"ticks\":\"\",\"title\":{\"standoff\":15},\"zerolinecolor\":\"white\",\"automargin\":true,\"zerolinewidth\":2},\"yaxis\":{\"gridcolor\":\"white\",\"linecolor\":\"white\",\"ticks\":\"\",\"title\":{\"standoff\":15},\"zerolinecolor\":\"white\",\"automargin\":true,\"zerolinewidth\":2},\"scene\":{\"xaxis\":{\"backgroundcolor\":\"#E5ECF6\",\"gridcolor\":\"white\",\"linecolor\":\"white\",\"showbackground\":true,\"ticks\":\"\",\"zerolinecolor\":\"white\",\"gridwidth\":2},\"yaxis\":{\"backgroundcolor\":\"#E5ECF6\",\"gridcolor\":\"white\",\"linecolor\":\"white\",\"showbackground\":true,\"ticks\":\"\",\"zerolinecolor\":\"white\",\"gridwidth\":2},\"zaxis\":{\"backgroundcolor\":\"#E5ECF6\",\"gridcolor\":\"white\",\"linecolor\":\"white\",\"showbackground\":true,\"ticks\":\"\",\"zerolinecolor\":\"white\",\"gridwidth\":2}},\"shapedefaults\":{\"line\":{\"color\":\"#2a3f5f\"}},\"annotationdefaults\":{\"arrowcolor\":\"#2a3f5f\",\"arrowhead\":0,\"arrowwidth\":1},\"geo\":{\"bgcolor\":\"white\",\"landcolor\":\"#E5ECF6\",\"subunitcolor\":\"white\",\"showland\":true,\"showlakes\":true,\"lakecolor\":\"white\"},\"title\":{\"x\":0.05},\"mapbox\":{\"style\":\"light\"}}},\"xaxis\":{\"anchor\":\"y\",\"domain\":[0.0,1.0],\"title\":{\"text\":\"release_year\"}},\"yaxis\":{\"anchor\":\"x\",\"domain\":[0.0,1.0],\"title\":{\"text\":\"sum of rating\"}},\"legend\":{\"tracegroupgap\":0},\"title\":{\"text\":\"Movie ratings throughout the years\"},\"barmode\":\"relative\",\"bargap\":0.2},                        {\"responsive\": true}                    ).then(function(){\n",
       "                            \n",
       "var gd = document.getElementById('bdbb5bb0-3518-4d7d-b419-c6a096d09fc6');\n",
       "var x = new MutationObserver(function (mutations, observer) {{\n",
       "        var display = window.getComputedStyle(gd).display;\n",
       "        if (!display || display === 'none') {{\n",
       "            console.log([gd, 'removed!']);\n",
       "            Plotly.purge(gd);\n",
       "            observer.disconnect();\n",
       "        }}\n",
       "}});\n",
       "\n",
       "// Listen for the removal of the full notebook cells\n",
       "var notebookContainer = gd.closest('#notebook-container');\n",
       "if (notebookContainer) {{\n",
       "    x.observe(notebookContainer, {childList: true});\n",
       "}}\n",
       "\n",
       "// Listen for the clearing of the current output cell\n",
       "var outputEl = gd.closest('.output');\n",
       "if (outputEl) {{\n",
       "    x.observe(outputEl, {childList: true});\n",
       "}}\n",
       "\n",
       "                        })                };                });            </script>        </div>"
      ]
     },
     "metadata": {},
     "output_type": "display_data"
    }
   ],
   "source": [
    "fig = px.histogram(movie_df, \n",
    "                   y = \"rating\",\n",
    "                   x = \"release_year\",\n",
    "                   title = \"Movie ratings throughout the years\") \n",
    "fig.update_layout(bargap=0.2)"
   ]
  },
  {
   "cell_type": "markdown",
   "metadata": {},
   "source": [
    "#### Movie with lowest and highest rating "
   ]
  },
  {
   "cell_type": "code",
   "execution_count": 81,
   "metadata": {},
   "outputs": [],
   "source": [
    "idx_min = movie_df.rating.idxmin()\n",
    "idx_max = movie_df.rating.idxmax()"
   ]
  },
  {
   "cell_type": "code",
   "execution_count": 92,
   "metadata": {},
   "outputs": [
    {
     "name": "stdout",
     "output_type": "stream",
     "text": [
      "Movie with lowest rating amongst the 1000 top rated movies:  Dark Waters - with rating of 7.6\n"
     ]
    }
   ],
   "source": [
    "print(r'Movie with lowest rating amongst the 1000 top rated movies: ', movie_df.title.loc[idx_min], '- with rating of {}'.format(movie_df.rating.loc[idx_min]))"
   ]
  },
  {
   "cell_type": "code",
   "execution_count": 93,
   "metadata": {},
   "outputs": [
    {
     "name": "stdout",
     "output_type": "stream",
     "text": [
      "Movie with highest rating amongst the 1000 top rated movies:  The Shawshank Redemption - with rating of 9.3\n"
     ]
    }
   ],
   "source": [
    "print(r'Movie with highest rating amongst the 1000 top rated movies: ', movie_df.title.loc[idx_max], '- with rating of {}'.format(movie_df.rating.loc[idx_max]))"
   ]
  },
  {
   "cell_type": "markdown",
   "metadata": {},
   "source": [
    "### What were the most frequent genre combinations?"
   ]
  },
  {
   "cell_type": "code",
   "execution_count": 54,
   "metadata": {
    "scrolled": false
   },
   "outputs": [
    {
     "data": {
      "text/plain": [
       "Drama                         83\n",
       "Drama, Romance                36\n",
       "Comedy, Drama                 35\n",
       "Comedy, Drama, Romance        33\n",
       "Action, Crime, Drama          31\n",
       "                              ..\n",
       "Drama, Fantasy, Mystery        1\n",
       "Action, Sci-Fi, Thriller       1\n",
       "Action, Adventure, Mystery     1\n",
       "Mystery, Romance, Thriller     1\n",
       "Action, Crime, Sci-Fi          1\n",
       "Name: genre, Length: 202, dtype: int64"
      ]
     },
     "execution_count": 54,
     "metadata": {},
     "output_type": "execute_result"
    }
   ],
   "source": [
    "movie_df['genre'].value_counts()"
   ]
  },
  {
   "cell_type": "code",
   "execution_count": 55,
   "metadata": {
    "scrolled": true
   },
   "outputs": [
    {
     "data": {
      "text/plain": [
       "0    Drama\n",
       "dtype: object"
      ]
     },
     "execution_count": 55,
     "metadata": {},
     "output_type": "execute_result"
    }
   ],
   "source": [
    "movie_df.genre.mode()\n",
    "# same result with: movie_df['genre'].value_counts().idxmax()"
   ]
  },
  {
   "cell_type": "code",
   "execution_count": 52,
   "metadata": {},
   "outputs": [
    {
     "name": "stdout",
     "output_type": "stream",
     "text": [
      "('Comedy', ' Drama', ' Romance') 34\n",
      "('Action', ' Crime', ' Drama') 31\n",
      "('Animation', ' Adventure', ' Comedy') 30\n",
      "('Crime', ' Drama', ' Mystery') 29\n",
      "('Crime', ' Drama', ' Thriller') 29\n",
      "('Biography', ' Drama', ' History') 25\n",
      "('Action', ' Adventure', ' Sci-Fi') 20\n",
      "('Action', ' Adventure', ' Drama') 15\n",
      "('Biography', ' Crime', ' Drama') 14\n",
      "('Animation', ' Action', ' Adventure') 14\n",
      "('Comedy', ' Crime', ' Drama') 12\n",
      "('Action', ' Crime', ' Thriller') 11\n",
      "('Action', ' Adventure', ' Comedy') 11\n",
      "('Drama', ' Mystery', ' Thriller') 9\n",
      "('Action', ' Adventure', ' Fantasy') 8\n"
     ]
    }
   ],
   "source": [
    "from itertools import combinations\n",
    "from collections import Counter\n",
    "\n",
    "count = Counter()\n",
    "\n",
    "for row in movie_df.genre:\n",
    "    row_list = row.split(',')\n",
    "    count.update(Counter(combinations(row_list, 3)))\n",
    "\n",
    "for key,value in count.most_common(15):\n",
    "    print(key, value)"
   ]
  },
  {
   "cell_type": "markdown",
   "metadata": {},
   "source": [
    "### Movies with highest rating (threshold at 8.5)"
   ]
  },
  {
   "cell_type": "code",
   "execution_count": 53,
   "metadata": {},
   "outputs": [
    {
     "name": "stderr",
     "output_type": "stream",
     "text": [
      "/tmp/ipykernel_81/4232640116.py:1: UserWarning:\n",
      "\n",
      "Boolean Series key will be reindexed to match DataFrame index.\n",
      "\n"
     ]
    },
    {
     "data": {
      "text/html": [
       "<div>\n",
       "<style scoped>\n",
       "    .dataframe tbody tr th:only-of-type {\n",
       "        vertical-align: middle;\n",
       "    }\n",
       "\n",
       "    .dataframe tbody tr th {\n",
       "        vertical-align: top;\n",
       "    }\n",
       "\n",
       "    .dataframe thead th {\n",
       "        text-align: right;\n",
       "    }\n",
       "</style>\n",
       "<table border=\"1\" class=\"dataframe\">\n",
       "  <thead>\n",
       "    <tr style=\"text-align: right;\">\n",
       "      <th></th>\n",
       "      <th>title</th>\n",
       "      <th>genre</th>\n",
       "      <th>rating</th>\n",
       "    </tr>\n",
       "  </thead>\n",
       "  <tbody>\n",
       "    <tr>\n",
       "      <th>9</th>\n",
       "      <td>Inception</td>\n",
       "      <td>Action, Adventure, Sci-Fi</td>\n",
       "      <td>8.8</td>\n",
       "    </tr>\n",
       "    <tr>\n",
       "      <th>10</th>\n",
       "      <td>The Lord of the Rings: The Two Towers</td>\n",
       "      <td>Action, Adventure, Drama</td>\n",
       "      <td>8.8</td>\n",
       "    </tr>\n",
       "    <tr>\n",
       "      <th>11</th>\n",
       "      <td>Fight Club</td>\n",
       "      <td>Drama</td>\n",
       "      <td>8.8</td>\n",
       "    </tr>\n",
       "    <tr>\n",
       "      <th>12</th>\n",
       "      <td>The Lord of the Rings: The Fellowship of the Ring</td>\n",
       "      <td>Action, Adventure, Drama</td>\n",
       "      <td>8.8</td>\n",
       "    </tr>\n",
       "    <tr>\n",
       "      <th>13</th>\n",
       "      <td>Forrest Gump</td>\n",
       "      <td>Drama, Romance</td>\n",
       "      <td>8.8</td>\n",
       "    </tr>\n",
       "    <tr>\n",
       "      <th>14</th>\n",
       "      <td>The Good, the Bad and the Ugly</td>\n",
       "      <td>Adventure, Western</td>\n",
       "      <td>8.8</td>\n",
       "    </tr>\n",
       "    <tr>\n",
       "      <th>15</th>\n",
       "      <td>Soorarai Pottru</td>\n",
       "      <td>Drama</td>\n",
       "      <td>8.7</td>\n",
       "    </tr>\n",
       "    <tr>\n",
       "      <th>16</th>\n",
       "      <td>The Matrix</td>\n",
       "      <td>Action, Sci-Fi</td>\n",
       "      <td>8.7</td>\n",
       "    </tr>\n",
       "    <tr>\n",
       "      <th>17</th>\n",
       "      <td>Goodfellas</td>\n",
       "      <td>Biography, Crime, Drama</td>\n",
       "      <td>8.7</td>\n",
       "    </tr>\n",
       "    <tr>\n",
       "      <th>18</th>\n",
       "      <td>Star Wars: Episode V - The Empire Strikes Back</td>\n",
       "      <td>Action, Adventure, Fantasy</td>\n",
       "      <td>8.7</td>\n",
       "    </tr>\n",
       "    <tr>\n",
       "      <th>19</th>\n",
       "      <td>One Flew Over the Cuckoo's Nest</td>\n",
       "      <td>Drama</td>\n",
       "      <td>8.7</td>\n",
       "    </tr>\n",
       "    <tr>\n",
       "      <th>20</th>\n",
       "      <td>Top Gun: Maverick</td>\n",
       "      <td>Action, Drama</td>\n",
       "      <td>8.6</td>\n",
       "    </tr>\n",
       "    <tr>\n",
       "      <th>21</th>\n",
       "      <td>Interstellar</td>\n",
       "      <td>Adventure, Drama, Sci-Fi</td>\n",
       "      <td>8.6</td>\n",
       "    </tr>\n",
       "    <tr>\n",
       "      <th>22</th>\n",
       "      <td>City of God</td>\n",
       "      <td>Crime, Drama</td>\n",
       "      <td>8.6</td>\n",
       "    </tr>\n",
       "    <tr>\n",
       "      <th>23</th>\n",
       "      <td>Spirited Away</td>\n",
       "      <td>Animation, Adventure, Family</td>\n",
       "      <td>8.6</td>\n",
       "    </tr>\n",
       "    <tr>\n",
       "      <th>24</th>\n",
       "      <td>Saving Private Ryan</td>\n",
       "      <td>Drama, War</td>\n",
       "      <td>8.6</td>\n",
       "    </tr>\n",
       "    <tr>\n",
       "      <th>25</th>\n",
       "      <td>The Green Mile</td>\n",
       "      <td>Crime, Drama, Fantasy</td>\n",
       "      <td>8.6</td>\n",
       "    </tr>\n",
       "    <tr>\n",
       "      <th>26</th>\n",
       "      <td>Life Is Beautiful</td>\n",
       "      <td>Comedy, Drama, Romance</td>\n",
       "      <td>8.6</td>\n",
       "    </tr>\n",
       "    <tr>\n",
       "      <th>27</th>\n",
       "      <td>Se7en</td>\n",
       "      <td>Crime, Drama, Mystery</td>\n",
       "      <td>8.6</td>\n",
       "    </tr>\n",
       "    <tr>\n",
       "      <th>28</th>\n",
       "      <td>Terminator 2: Judgment Day</td>\n",
       "      <td>Action, Sci-Fi</td>\n",
       "      <td>8.6</td>\n",
       "    </tr>\n",
       "    <tr>\n",
       "      <th>29</th>\n",
       "      <td>The Silence of the Lambs</td>\n",
       "      <td>Crime, Drama, Thriller</td>\n",
       "      <td>8.6</td>\n",
       "    </tr>\n",
       "    <tr>\n",
       "      <th>30</th>\n",
       "      <td>Star Wars</td>\n",
       "      <td>Action, Adventure, Fantasy</td>\n",
       "      <td>8.6</td>\n",
       "    </tr>\n",
       "    <tr>\n",
       "      <th>31</th>\n",
       "      <td>Harakiri</td>\n",
       "      <td>Action, Drama, Mystery</td>\n",
       "      <td>8.6</td>\n",
       "    </tr>\n",
       "    <tr>\n",
       "      <th>32</th>\n",
       "      <td>Seven Samurai</td>\n",
       "      <td>Action, Drama</td>\n",
       "      <td>8.6</td>\n",
       "    </tr>\n",
       "    <tr>\n",
       "      <th>33</th>\n",
       "      <td>It's a Wonderful Life</td>\n",
       "      <td>Drama, Family, Fantasy</td>\n",
       "      <td>8.6</td>\n",
       "    </tr>\n",
       "  </tbody>\n",
       "</table>\n",
       "</div>"
      ],
      "text/plain": [
       "                                                title  \\\n",
       "9                                           Inception   \n",
       "10              The Lord of the Rings: The Two Towers   \n",
       "11                                         Fight Club   \n",
       "12  The Lord of the Rings: The Fellowship of the Ring   \n",
       "13                                       Forrest Gump   \n",
       "14                     The Good, the Bad and the Ugly   \n",
       "15                                    Soorarai Pottru   \n",
       "16                                         The Matrix   \n",
       "17                                         Goodfellas   \n",
       "18     Star Wars: Episode V - The Empire Strikes Back   \n",
       "19                    One Flew Over the Cuckoo's Nest   \n",
       "20                                  Top Gun: Maverick   \n",
       "21                                       Interstellar   \n",
       "22                                        City of God   \n",
       "23                                      Spirited Away   \n",
       "24                                Saving Private Ryan   \n",
       "25                                     The Green Mile   \n",
       "26                                  Life Is Beautiful   \n",
       "27                                              Se7en   \n",
       "28                         Terminator 2: Judgment Day   \n",
       "29                           The Silence of the Lambs   \n",
       "30                                          Star Wars   \n",
       "31                                           Harakiri   \n",
       "32                                      Seven Samurai   \n",
       "33                              It's a Wonderful Life   \n",
       "\n",
       "                           genre  rating  \n",
       "9      Action, Adventure, Sci-Fi     8.8  \n",
       "10      Action, Adventure, Drama     8.8  \n",
       "11                         Drama     8.8  \n",
       "12      Action, Adventure, Drama     8.8  \n",
       "13                Drama, Romance     8.8  \n",
       "14            Adventure, Western     8.8  \n",
       "15                         Drama     8.7  \n",
       "16                Action, Sci-Fi     8.7  \n",
       "17       Biography, Crime, Drama     8.7  \n",
       "18    Action, Adventure, Fantasy     8.7  \n",
       "19                         Drama     8.7  \n",
       "20                 Action, Drama     8.6  \n",
       "21      Adventure, Drama, Sci-Fi     8.6  \n",
       "22                  Crime, Drama     8.6  \n",
       "23  Animation, Adventure, Family     8.6  \n",
       "24                    Drama, War     8.6  \n",
       "25         Crime, Drama, Fantasy     8.6  \n",
       "26        Comedy, Drama, Romance     8.6  \n",
       "27         Crime, Drama, Mystery     8.6  \n",
       "28                Action, Sci-Fi     8.6  \n",
       "29        Crime, Drama, Thriller     8.6  \n",
       "30    Action, Adventure, Fantasy     8.6  \n",
       "31        Action, Drama, Mystery     8.6  \n",
       "32                 Action, Drama     8.6  \n",
       "33        Drama, Family, Fantasy     8.6  "
      ]
     },
     "execution_count": 53,
     "metadata": {},
     "output_type": "execute_result"
    }
   ],
   "source": [
    "movie_df[(movie_df.rating.sort_values(ascending = False)>8.5) & \n",
    "         (movie_df.rating.sort_values(ascending = False)< 8.9)][['title', 'genre', 'rating']]"
   ]
  },
  {
   "cell_type": "markdown",
   "metadata": {},
   "source": [
    "### A different way to filter pandas df: `nlargest` & `nsmallest` methods"
   ]
  },
  {
   "cell_type": "code",
   "execution_count": 55,
   "metadata": {},
   "outputs": [
    {
     "data": {
      "text/html": [
       "<div>\n",
       "<style scoped>\n",
       "    .dataframe tbody tr th:only-of-type {\n",
       "        vertical-align: middle;\n",
       "    }\n",
       "\n",
       "    .dataframe tbody tr th {\n",
       "        vertical-align: top;\n",
       "    }\n",
       "\n",
       "    .dataframe thead th {\n",
       "        text-align: right;\n",
       "    }\n",
       "</style>\n",
       "<table border=\"1\" class=\"dataframe\">\n",
       "  <thead>\n",
       "    <tr style=\"text-align: right;\">\n",
       "      <th></th>\n",
       "      <th>title</th>\n",
       "      <th>duration</th>\n",
       "      <th>release_year</th>\n",
       "      <th>genre</th>\n",
       "      <th>rating</th>\n",
       "      <th>url</th>\n",
       "    </tr>\n",
       "  </thead>\n",
       "  <tbody>\n",
       "    <tr>\n",
       "      <th>0</th>\n",
       "      <td>The Shawshank Redemption</td>\n",
       "      <td>142</td>\n",
       "      <td>1994</td>\n",
       "      <td>Drama</td>\n",
       "      <td>9.3</td>\n",
       "      <td>https://www.imdb.com/title/tt0111161/</td>\n",
       "    </tr>\n",
       "    <tr>\n",
       "      <th>1</th>\n",
       "      <td>The Godfather</td>\n",
       "      <td>175</td>\n",
       "      <td>1972</td>\n",
       "      <td>Crime, Drama</td>\n",
       "      <td>9.2</td>\n",
       "      <td>https://www.imdb.com/title/tt0068646/</td>\n",
       "    </tr>\n",
       "    <tr>\n",
       "      <th>2</th>\n",
       "      <td>The Dark Knight</td>\n",
       "      <td>152</td>\n",
       "      <td>2008</td>\n",
       "      <td>Action, Crime, Drama</td>\n",
       "      <td>9.0</td>\n",
       "      <td>https://www.imdb.com/title/tt0468569/</td>\n",
       "    </tr>\n",
       "    <tr>\n",
       "      <th>3</th>\n",
       "      <td>The Lord of the Rings: The Return of the King</td>\n",
       "      <td>201</td>\n",
       "      <td>2003</td>\n",
       "      <td>Action, Adventure, Drama</td>\n",
       "      <td>9.0</td>\n",
       "      <td>https://www.imdb.com/title/tt0167260/</td>\n",
       "    </tr>\n",
       "    <tr>\n",
       "      <th>4</th>\n",
       "      <td>Schindler's List</td>\n",
       "      <td>195</td>\n",
       "      <td>1993</td>\n",
       "      <td>Biography, Drama, History</td>\n",
       "      <td>9.0</td>\n",
       "      <td>https://www.imdb.com/title/tt0108052/</td>\n",
       "    </tr>\n",
       "  </tbody>\n",
       "</table>\n",
       "</div>"
      ],
      "text/plain": [
       "                                           title  duration  release_year  \\\n",
       "0                       The Shawshank Redemption       142          1994   \n",
       "1                                  The Godfather       175          1972   \n",
       "2                                The Dark Knight       152          2008   \n",
       "3  The Lord of the Rings: The Return of the King       201          2003   \n",
       "4                               Schindler's List       195          1993   \n",
       "\n",
       "                       genre  rating                                    url  \n",
       "0                      Drama     9.3  https://www.imdb.com/title/tt0111161/  \n",
       "1               Crime, Drama     9.2  https://www.imdb.com/title/tt0068646/  \n",
       "2       Action, Crime, Drama     9.0  https://www.imdb.com/title/tt0468569/  \n",
       "3   Action, Adventure, Drama     9.0  https://www.imdb.com/title/tt0167260/  \n",
       "4  Biography, Drama, History     9.0  https://www.imdb.com/title/tt0108052/  "
      ]
     },
     "execution_count": 55,
     "metadata": {},
     "output_type": "execute_result"
    }
   ],
   "source": [
    "movie_df.nlargest(5,'rating')"
   ]
  },
  {
   "cell_type": "code",
   "execution_count": 56,
   "metadata": {},
   "outputs": [
    {
     "data": {
      "text/html": [
       "<div>\n",
       "<style scoped>\n",
       "    .dataframe tbody tr th:only-of-type {\n",
       "        vertical-align: middle;\n",
       "    }\n",
       "\n",
       "    .dataframe tbody tr th {\n",
       "        vertical-align: top;\n",
       "    }\n",
       "\n",
       "    .dataframe thead th {\n",
       "        text-align: right;\n",
       "    }\n",
       "</style>\n",
       "<table border=\"1\" class=\"dataframe\">\n",
       "  <thead>\n",
       "    <tr style=\"text-align: right;\">\n",
       "      <th></th>\n",
       "      <th>title</th>\n",
       "      <th>duration</th>\n",
       "      <th>release_year</th>\n",
       "      <th>genre</th>\n",
       "      <th>rating</th>\n",
       "      <th>url</th>\n",
       "    </tr>\n",
       "  </thead>\n",
       "  <tbody>\n",
       "    <tr>\n",
       "      <th>910</th>\n",
       "      <td>Dark Waters</td>\n",
       "      <td>126</td>\n",
       "      <td>2019</td>\n",
       "      <td>Biography, Drama, History</td>\n",
       "      <td>7.6</td>\n",
       "      <td>https://www.imdb.com/title/tt9071322/</td>\n",
       "    </tr>\n",
       "    <tr>\n",
       "      <th>911</th>\n",
       "      <td>The Mitchells vs the Machines</td>\n",
       "      <td>114</td>\n",
       "      <td>2021</td>\n",
       "      <td>Animation, Adventure, Comedy</td>\n",
       "      <td>7.6</td>\n",
       "      <td>https://www.imdb.com/title/tt7979580/</td>\n",
       "    </tr>\n",
       "    <tr>\n",
       "      <th>912</th>\n",
       "      <td>Searching</td>\n",
       "      <td>102</td>\n",
       "      <td>2018</td>\n",
       "      <td>Drama, Horror, Mystery</td>\n",
       "      <td>7.6</td>\n",
       "      <td>https://www.imdb.com/title/tt7668870/</td>\n",
       "    </tr>\n",
       "    <tr>\n",
       "      <th>913</th>\n",
       "      <td>Once Upon a Time... In Hollywood</td>\n",
       "      <td>161</td>\n",
       "      <td>2019</td>\n",
       "      <td>Comedy, Drama</td>\n",
       "      <td>7.6</td>\n",
       "      <td>https://www.imdb.com/title/tt7131622/</td>\n",
       "    </tr>\n",
       "    <tr>\n",
       "      <th>914</th>\n",
       "      <td>Guardians of the Galaxy Vol. 2</td>\n",
       "      <td>136</td>\n",
       "      <td>2017</td>\n",
       "      <td>Action, Adventure, Comedy</td>\n",
       "      <td>7.6</td>\n",
       "      <td>https://www.imdb.com/title/tt3896198/</td>\n",
       "    </tr>\n",
       "  </tbody>\n",
       "</table>\n",
       "</div>"
      ],
      "text/plain": [
       "                                title  duration  release_year  \\\n",
       "910                       Dark Waters       126          2019   \n",
       "911     The Mitchells vs the Machines       114          2021   \n",
       "912                         Searching       102          2018   \n",
       "913  Once Upon a Time... In Hollywood       161          2019   \n",
       "914    Guardians of the Galaxy Vol. 2       136          2017   \n",
       "\n",
       "                            genre  rating  \\\n",
       "910     Biography, Drama, History     7.6   \n",
       "911  Animation, Adventure, Comedy     7.6   \n",
       "912        Drama, Horror, Mystery     7.6   \n",
       "913                 Comedy, Drama     7.6   \n",
       "914     Action, Adventure, Comedy     7.6   \n",
       "\n",
       "                                       url  \n",
       "910  https://www.imdb.com/title/tt9071322/  \n",
       "911  https://www.imdb.com/title/tt7979580/  \n",
       "912  https://www.imdb.com/title/tt7668870/  \n",
       "913  https://www.imdb.com/title/tt7131622/  \n",
       "914  https://www.imdb.com/title/tt3896198/  "
      ]
     },
     "execution_count": 56,
     "metadata": {},
     "output_type": "execute_result"
    }
   ],
   "source": [
    "movie_df.nsmallest(5,'rating')"
   ]
  },
  {
   "cell_type": "markdown",
   "metadata": {},
   "source": [
    "### Longest duration films filtered with sorting values"
   ]
  },
  {
   "cell_type": "code",
   "execution_count": 59,
   "metadata": {
    "scrolled": true
   },
   "outputs": [
    {
     "data": {
      "text/html": [
       "<div>\n",
       "<style scoped>\n",
       "    .dataframe tbody tr th:only-of-type {\n",
       "        vertical-align: middle;\n",
       "    }\n",
       "\n",
       "    .dataframe tbody tr th {\n",
       "        vertical-align: top;\n",
       "    }\n",
       "\n",
       "    .dataframe thead th {\n",
       "        text-align: right;\n",
       "    }\n",
       "</style>\n",
       "<table border=\"1\" class=\"dataframe\">\n",
       "  <thead>\n",
       "    <tr style=\"text-align: right;\">\n",
       "      <th></th>\n",
       "      <th>title</th>\n",
       "      <th>duration</th>\n",
       "      <th>release_year</th>\n",
       "      <th>genre</th>\n",
       "      <th>rating</th>\n",
       "      <th>url</th>\n",
       "    </tr>\n",
       "  </thead>\n",
       "  <tbody>\n",
       "    <tr>\n",
       "      <th>149</th>\n",
       "      <td>Gangs of Wasseypur</td>\n",
       "      <td>321</td>\n",
       "      <td>2012</td>\n",
       "      <td>Action, Comedy, Crime</td>\n",
       "      <td>8.2</td>\n",
       "      <td>https://www.imdb.com/title/tt1954470/</td>\n",
       "    </tr>\n",
       "    <tr>\n",
       "      <th>678</th>\n",
       "      <td>Hamlet</td>\n",
       "      <td>242</td>\n",
       "      <td>1996</td>\n",
       "      <td>Drama</td>\n",
       "      <td>7.8</td>\n",
       "      <td>https://www.imdb.com/title/tt0116477/</td>\n",
       "    </tr>\n",
       "    <tr>\n",
       "      <th>360</th>\n",
       "      <td>Zack Snyder's Justice League</td>\n",
       "      <td>242</td>\n",
       "      <td>2021</td>\n",
       "      <td>Action, Adventure, Fantasy</td>\n",
       "      <td>8.0</td>\n",
       "      <td>https://www.imdb.com/title/tt12361974/</td>\n",
       "    </tr>\n",
       "    <tr>\n",
       "      <th>202</th>\n",
       "      <td>Gone with the Wind</td>\n",
       "      <td>238</td>\n",
       "      <td>1939</td>\n",
       "      <td>Drama, Romance, War</td>\n",
       "      <td>8.2</td>\n",
       "      <td>https://www.imdb.com/title/tt0031381/</td>\n",
       "    </tr>\n",
       "    <tr>\n",
       "      <th>115</th>\n",
       "      <td>Once Upon a Time in America</td>\n",
       "      <td>229</td>\n",
       "      <td>1984</td>\n",
       "      <td>Crime, Drama</td>\n",
       "      <td>8.3</td>\n",
       "      <td>https://www.imdb.com/title/tt0087843/</td>\n",
       "    </tr>\n",
       "  </tbody>\n",
       "</table>\n",
       "</div>"
      ],
      "text/plain": [
       "                            title  duration  release_year  \\\n",
       "149            Gangs of Wasseypur       321          2012   \n",
       "678                        Hamlet       242          1996   \n",
       "360  Zack Snyder's Justice League       242          2021   \n",
       "202            Gone with the Wind       238          1939   \n",
       "115   Once Upon a Time in America       229          1984   \n",
       "\n",
       "                          genre  rating  \\\n",
       "149       Action, Comedy, Crime     8.2   \n",
       "678                       Drama     7.8   \n",
       "360  Action, Adventure, Fantasy     8.0   \n",
       "202         Drama, Romance, War     8.2   \n",
       "115                Crime, Drama     8.3   \n",
       "\n",
       "                                        url  \n",
       "149   https://www.imdb.com/title/tt1954470/  \n",
       "678   https://www.imdb.com/title/tt0116477/  \n",
       "360  https://www.imdb.com/title/tt12361974/  \n",
       "202   https://www.imdb.com/title/tt0031381/  \n",
       "115   https://www.imdb.com/title/tt0087843/  "
      ]
     },
     "execution_count": 59,
     "metadata": {},
     "output_type": "execute_result"
    }
   ],
   "source": [
    "movie_df.sort_values(by='duration', ascending = False)[:5]"
   ]
  },
  {
   "cell_type": "code",
   "execution_count": 100,
   "metadata": {},
   "outputs": [
    {
     "data": {
      "application/vnd.plotly.v1+json": {
       "config": {
        "plotlyServerURL": "https://plot.ly"
       },
       "data": [
        {
         "alignmentgroup": "True",
         "bingroup": "x",
         "histfunc": "sum",
         "hovertemplate": "duration=321<br>title=%{x}<br>sum of duration=%{y}<extra></extra>",
         "legendgroup": "321",
         "marker": {
          "color": "#636efa",
          "pattern": {
           "shape": ""
          }
         },
         "name": "321",
         "offsetgroup": "321",
         "orientation": "v",
         "showlegend": true,
         "type": "histogram",
         "x": [
          "Gangs of Wasseypur"
         ],
         "xaxis": "x",
         "y": [
          321
         ],
         "yaxis": "y"
        },
        {
         "alignmentgroup": "True",
         "bingroup": "x",
         "histfunc": "sum",
         "hovertemplate": "duration=242<br>title=%{x}<br>sum of duration=%{y}<extra></extra>",
         "legendgroup": "242",
         "marker": {
          "color": "#EF553B",
          "pattern": {
           "shape": ""
          }
         },
         "name": "242",
         "offsetgroup": "242",
         "orientation": "v",
         "showlegend": true,
         "type": "histogram",
         "x": [
          "Hamlet",
          "Zack Snyder's Justice League"
         ],
         "xaxis": "x",
         "y": [
          242,
          242
         ],
         "yaxis": "y"
        },
        {
         "alignmentgroup": "True",
         "bingroup": "x",
         "histfunc": "sum",
         "hovertemplate": "duration=238<br>title=%{x}<br>sum of duration=%{y}<extra></extra>",
         "legendgroup": "238",
         "marker": {
          "color": "#00cc96",
          "pattern": {
           "shape": ""
          }
         },
         "name": "238",
         "offsetgroup": "238",
         "orientation": "v",
         "showlegend": true,
         "type": "histogram",
         "x": [
          "Gone with the Wind"
         ],
         "xaxis": "x",
         "y": [
          238
         ],
         "yaxis": "y"
        },
        {
         "alignmentgroup": "True",
         "bingroup": "x",
         "histfunc": "sum",
         "hovertemplate": "duration=229<br>title=%{x}<br>sum of duration=%{y}<extra></extra>",
         "legendgroup": "229",
         "marker": {
          "color": "#ab63fa",
          "pattern": {
           "shape": ""
          }
         },
         "name": "229",
         "offsetgroup": "229",
         "orientation": "v",
         "showlegend": true,
         "type": "histogram",
         "x": [
          "Once Upon a Time in America"
         ],
         "xaxis": "x",
         "y": [
          229
         ],
         "yaxis": "y"
        },
        {
         "alignmentgroup": "True",
         "bingroup": "x",
         "histfunc": "sum",
         "hovertemplate": "duration=224<br>title=%{x}<br>sum of duration=%{y}<extra></extra>",
         "legendgroup": "224",
         "marker": {
          "color": "#FFA15A",
          "pattern": {
           "shape": ""
          }
         },
         "name": "224",
         "offsetgroup": "224",
         "orientation": "v",
         "showlegend": true,
         "type": "histogram",
         "x": [
          "Lagaan: Once Upon a Time in India"
         ],
         "xaxis": "x",
         "y": [
          224
         ],
         "yaxis": "y"
        },
        {
         "alignmentgroup": "True",
         "bingroup": "x",
         "histfunc": "sum",
         "hovertemplate": "duration=220<br>title=%{x}<br>sum of duration=%{y}<extra></extra>",
         "legendgroup": "220",
         "marker": {
          "color": "#19d3f3",
          "pattern": {
           "shape": ""
          }
         },
         "name": "220",
         "offsetgroup": "220",
         "orientation": "v",
         "showlegend": true,
         "type": "histogram",
         "x": [
          "The Ten Commandments"
         ],
         "xaxis": "x",
         "y": [
          220
         ],
         "yaxis": "y"
        },
        {
         "alignmentgroup": "True",
         "bingroup": "x",
         "histfunc": "sum",
         "hovertemplate": "duration=218<br>title=%{x}<br>sum of duration=%{y}<extra></extra>",
         "legendgroup": "218",
         "marker": {
          "color": "#FF6692",
          "pattern": {
           "shape": ""
          }
         },
         "name": "218",
         "offsetgroup": "218",
         "orientation": "v",
         "showlegend": true,
         "type": "histogram",
         "x": [
          "Lawrence of Arabia"
         ],
         "xaxis": "x",
         "y": [
          218
         ],
         "yaxis": "y"
        },
        {
         "alignmentgroup": "True",
         "bingroup": "x",
         "histfunc": "sum",
         "hovertemplate": "duration=212<br>title=%{x}<br>sum of duration=%{y}<extra></extra>",
         "legendgroup": "212",
         "marker": {
          "color": "#B6E880",
          "pattern": {
           "shape": ""
          }
         },
         "name": "212",
         "offsetgroup": "212",
         "orientation": "v",
         "showlegend": true,
         "type": "histogram",
         "x": [
          "Ben-Hur"
         ],
         "xaxis": "x",
         "y": [
          212
         ],
         "yaxis": "y"
        },
        {
         "alignmentgroup": "True",
         "bingroup": "x",
         "histfunc": "sum",
         "hovertemplate": "duration=209<br>title=%{x}<br>sum of duration=%{y}<extra></extra>",
         "legendgroup": "209",
         "marker": {
          "color": "#FF97FF",
          "pattern": {
           "shape": ""
          }
         },
         "name": "209",
         "offsetgroup": "209",
         "orientation": "v",
         "showlegend": true,
         "type": "histogram",
         "x": [
          "The Irishman"
         ],
         "xaxis": "x",
         "y": [
          209
         ],
         "yaxis": "y"
        }
       ],
       "layout": {
        "bargap": 0.2,
        "barmode": "relative",
        "legend": {
         "title": {
          "text": "duration"
         },
         "tracegroupgap": 0
        },
        "template": {
         "data": {
          "bar": [
           {
            "error_x": {
             "color": "#2a3f5f"
            },
            "error_y": {
             "color": "#2a3f5f"
            },
            "marker": {
             "line": {
              "color": "#E5ECF6",
              "width": 0.5
             },
             "pattern": {
              "fillmode": "overlay",
              "size": 10,
              "solidity": 0.2
             }
            },
            "type": "bar"
           }
          ],
          "barpolar": [
           {
            "marker": {
             "line": {
              "color": "#E5ECF6",
              "width": 0.5
             },
             "pattern": {
              "fillmode": "overlay",
              "size": 10,
              "solidity": 0.2
             }
            },
            "type": "barpolar"
           }
          ],
          "carpet": [
           {
            "aaxis": {
             "endlinecolor": "#2a3f5f",
             "gridcolor": "white",
             "linecolor": "white",
             "minorgridcolor": "white",
             "startlinecolor": "#2a3f5f"
            },
            "baxis": {
             "endlinecolor": "#2a3f5f",
             "gridcolor": "white",
             "linecolor": "white",
             "minorgridcolor": "white",
             "startlinecolor": "#2a3f5f"
            },
            "type": "carpet"
           }
          ],
          "choropleth": [
           {
            "colorbar": {
             "outlinewidth": 0,
             "ticks": ""
            },
            "type": "choropleth"
           }
          ],
          "contour": [
           {
            "colorbar": {
             "outlinewidth": 0,
             "ticks": ""
            },
            "colorscale": [
             [
              0,
              "#0d0887"
             ],
             [
              0.1111111111111111,
              "#46039f"
             ],
             [
              0.2222222222222222,
              "#7201a8"
             ],
             [
              0.3333333333333333,
              "#9c179e"
             ],
             [
              0.4444444444444444,
              "#bd3786"
             ],
             [
              0.5555555555555556,
              "#d8576b"
             ],
             [
              0.6666666666666666,
              "#ed7953"
             ],
             [
              0.7777777777777778,
              "#fb9f3a"
             ],
             [
              0.8888888888888888,
              "#fdca26"
             ],
             [
              1,
              "#f0f921"
             ]
            ],
            "type": "contour"
           }
          ],
          "contourcarpet": [
           {
            "colorbar": {
             "outlinewidth": 0,
             "ticks": ""
            },
            "type": "contourcarpet"
           }
          ],
          "heatmap": [
           {
            "colorbar": {
             "outlinewidth": 0,
             "ticks": ""
            },
            "colorscale": [
             [
              0,
              "#0d0887"
             ],
             [
              0.1111111111111111,
              "#46039f"
             ],
             [
              0.2222222222222222,
              "#7201a8"
             ],
             [
              0.3333333333333333,
              "#9c179e"
             ],
             [
              0.4444444444444444,
              "#bd3786"
             ],
             [
              0.5555555555555556,
              "#d8576b"
             ],
             [
              0.6666666666666666,
              "#ed7953"
             ],
             [
              0.7777777777777778,
              "#fb9f3a"
             ],
             [
              0.8888888888888888,
              "#fdca26"
             ],
             [
              1,
              "#f0f921"
             ]
            ],
            "type": "heatmap"
           }
          ],
          "heatmapgl": [
           {
            "colorbar": {
             "outlinewidth": 0,
             "ticks": ""
            },
            "colorscale": [
             [
              0,
              "#0d0887"
             ],
             [
              0.1111111111111111,
              "#46039f"
             ],
             [
              0.2222222222222222,
              "#7201a8"
             ],
             [
              0.3333333333333333,
              "#9c179e"
             ],
             [
              0.4444444444444444,
              "#bd3786"
             ],
             [
              0.5555555555555556,
              "#d8576b"
             ],
             [
              0.6666666666666666,
              "#ed7953"
             ],
             [
              0.7777777777777778,
              "#fb9f3a"
             ],
             [
              0.8888888888888888,
              "#fdca26"
             ],
             [
              1,
              "#f0f921"
             ]
            ],
            "type": "heatmapgl"
           }
          ],
          "histogram": [
           {
            "marker": {
             "pattern": {
              "fillmode": "overlay",
              "size": 10,
              "solidity": 0.2
             }
            },
            "type": "histogram"
           }
          ],
          "histogram2d": [
           {
            "colorbar": {
             "outlinewidth": 0,
             "ticks": ""
            },
            "colorscale": [
             [
              0,
              "#0d0887"
             ],
             [
              0.1111111111111111,
              "#46039f"
             ],
             [
              0.2222222222222222,
              "#7201a8"
             ],
             [
              0.3333333333333333,
              "#9c179e"
             ],
             [
              0.4444444444444444,
              "#bd3786"
             ],
             [
              0.5555555555555556,
              "#d8576b"
             ],
             [
              0.6666666666666666,
              "#ed7953"
             ],
             [
              0.7777777777777778,
              "#fb9f3a"
             ],
             [
              0.8888888888888888,
              "#fdca26"
             ],
             [
              1,
              "#f0f921"
             ]
            ],
            "type": "histogram2d"
           }
          ],
          "histogram2dcontour": [
           {
            "colorbar": {
             "outlinewidth": 0,
             "ticks": ""
            },
            "colorscale": [
             [
              0,
              "#0d0887"
             ],
             [
              0.1111111111111111,
              "#46039f"
             ],
             [
              0.2222222222222222,
              "#7201a8"
             ],
             [
              0.3333333333333333,
              "#9c179e"
             ],
             [
              0.4444444444444444,
              "#bd3786"
             ],
             [
              0.5555555555555556,
              "#d8576b"
             ],
             [
              0.6666666666666666,
              "#ed7953"
             ],
             [
              0.7777777777777778,
              "#fb9f3a"
             ],
             [
              0.8888888888888888,
              "#fdca26"
             ],
             [
              1,
              "#f0f921"
             ]
            ],
            "type": "histogram2dcontour"
           }
          ],
          "mesh3d": [
           {
            "colorbar": {
             "outlinewidth": 0,
             "ticks": ""
            },
            "type": "mesh3d"
           }
          ],
          "parcoords": [
           {
            "line": {
             "colorbar": {
              "outlinewidth": 0,
              "ticks": ""
             }
            },
            "type": "parcoords"
           }
          ],
          "pie": [
           {
            "automargin": true,
            "type": "pie"
           }
          ],
          "scatter": [
           {
            "fillpattern": {
             "fillmode": "overlay",
             "size": 10,
             "solidity": 0.2
            },
            "type": "scatter"
           }
          ],
          "scatter3d": [
           {
            "line": {
             "colorbar": {
              "outlinewidth": 0,
              "ticks": ""
             }
            },
            "marker": {
             "colorbar": {
              "outlinewidth": 0,
              "ticks": ""
             }
            },
            "type": "scatter3d"
           }
          ],
          "scattercarpet": [
           {
            "marker": {
             "colorbar": {
              "outlinewidth": 0,
              "ticks": ""
             }
            },
            "type": "scattercarpet"
           }
          ],
          "scattergeo": [
           {
            "marker": {
             "colorbar": {
              "outlinewidth": 0,
              "ticks": ""
             }
            },
            "type": "scattergeo"
           }
          ],
          "scattergl": [
           {
            "marker": {
             "colorbar": {
              "outlinewidth": 0,
              "ticks": ""
             }
            },
            "type": "scattergl"
           }
          ],
          "scattermapbox": [
           {
            "marker": {
             "colorbar": {
              "outlinewidth": 0,
              "ticks": ""
             }
            },
            "type": "scattermapbox"
           }
          ],
          "scatterpolar": [
           {
            "marker": {
             "colorbar": {
              "outlinewidth": 0,
              "ticks": ""
             }
            },
            "type": "scatterpolar"
           }
          ],
          "scatterpolargl": [
           {
            "marker": {
             "colorbar": {
              "outlinewidth": 0,
              "ticks": ""
             }
            },
            "type": "scatterpolargl"
           }
          ],
          "scatterternary": [
           {
            "marker": {
             "colorbar": {
              "outlinewidth": 0,
              "ticks": ""
             }
            },
            "type": "scatterternary"
           }
          ],
          "surface": [
           {
            "colorbar": {
             "outlinewidth": 0,
             "ticks": ""
            },
            "colorscale": [
             [
              0,
              "#0d0887"
             ],
             [
              0.1111111111111111,
              "#46039f"
             ],
             [
              0.2222222222222222,
              "#7201a8"
             ],
             [
              0.3333333333333333,
              "#9c179e"
             ],
             [
              0.4444444444444444,
              "#bd3786"
             ],
             [
              0.5555555555555556,
              "#d8576b"
             ],
             [
              0.6666666666666666,
              "#ed7953"
             ],
             [
              0.7777777777777778,
              "#fb9f3a"
             ],
             [
              0.8888888888888888,
              "#fdca26"
             ],
             [
              1,
              "#f0f921"
             ]
            ],
            "type": "surface"
           }
          ],
          "table": [
           {
            "cells": {
             "fill": {
              "color": "#EBF0F8"
             },
             "line": {
              "color": "white"
             }
            },
            "header": {
             "fill": {
              "color": "#C8D4E3"
             },
             "line": {
              "color": "white"
             }
            },
            "type": "table"
           }
          ]
         },
         "layout": {
          "annotationdefaults": {
           "arrowcolor": "#2a3f5f",
           "arrowhead": 0,
           "arrowwidth": 1
          },
          "autotypenumbers": "strict",
          "coloraxis": {
           "colorbar": {
            "outlinewidth": 0,
            "ticks": ""
           }
          },
          "colorscale": {
           "diverging": [
            [
             0,
             "#8e0152"
            ],
            [
             0.1,
             "#c51b7d"
            ],
            [
             0.2,
             "#de77ae"
            ],
            [
             0.3,
             "#f1b6da"
            ],
            [
             0.4,
             "#fde0ef"
            ],
            [
             0.5,
             "#f7f7f7"
            ],
            [
             0.6,
             "#e6f5d0"
            ],
            [
             0.7,
             "#b8e186"
            ],
            [
             0.8,
             "#7fbc41"
            ],
            [
             0.9,
             "#4d9221"
            ],
            [
             1,
             "#276419"
            ]
           ],
           "sequential": [
            [
             0,
             "#0d0887"
            ],
            [
             0.1111111111111111,
             "#46039f"
            ],
            [
             0.2222222222222222,
             "#7201a8"
            ],
            [
             0.3333333333333333,
             "#9c179e"
            ],
            [
             0.4444444444444444,
             "#bd3786"
            ],
            [
             0.5555555555555556,
             "#d8576b"
            ],
            [
             0.6666666666666666,
             "#ed7953"
            ],
            [
             0.7777777777777778,
             "#fb9f3a"
            ],
            [
             0.8888888888888888,
             "#fdca26"
            ],
            [
             1,
             "#f0f921"
            ]
           ],
           "sequentialminus": [
            [
             0,
             "#0d0887"
            ],
            [
             0.1111111111111111,
             "#46039f"
            ],
            [
             0.2222222222222222,
             "#7201a8"
            ],
            [
             0.3333333333333333,
             "#9c179e"
            ],
            [
             0.4444444444444444,
             "#bd3786"
            ],
            [
             0.5555555555555556,
             "#d8576b"
            ],
            [
             0.6666666666666666,
             "#ed7953"
            ],
            [
             0.7777777777777778,
             "#fb9f3a"
            ],
            [
             0.8888888888888888,
             "#fdca26"
            ],
            [
             1,
             "#f0f921"
            ]
           ]
          },
          "colorway": [
           "#636efa",
           "#EF553B",
           "#00cc96",
           "#ab63fa",
           "#FFA15A",
           "#19d3f3",
           "#FF6692",
           "#B6E880",
           "#FF97FF",
           "#FECB52"
          ],
          "font": {
           "color": "#2a3f5f"
          },
          "geo": {
           "bgcolor": "white",
           "lakecolor": "white",
           "landcolor": "#E5ECF6",
           "showlakes": true,
           "showland": true,
           "subunitcolor": "white"
          },
          "hoverlabel": {
           "align": "left"
          },
          "hovermode": "closest",
          "mapbox": {
           "style": "light"
          },
          "paper_bgcolor": "white",
          "plot_bgcolor": "#E5ECF6",
          "polar": {
           "angularaxis": {
            "gridcolor": "white",
            "linecolor": "white",
            "ticks": ""
           },
           "bgcolor": "#E5ECF6",
           "radialaxis": {
            "gridcolor": "white",
            "linecolor": "white",
            "ticks": ""
           }
          },
          "scene": {
           "xaxis": {
            "backgroundcolor": "#E5ECF6",
            "gridcolor": "white",
            "gridwidth": 2,
            "linecolor": "white",
            "showbackground": true,
            "ticks": "",
            "zerolinecolor": "white"
           },
           "yaxis": {
            "backgroundcolor": "#E5ECF6",
            "gridcolor": "white",
            "gridwidth": 2,
            "linecolor": "white",
            "showbackground": true,
            "ticks": "",
            "zerolinecolor": "white"
           },
           "zaxis": {
            "backgroundcolor": "#E5ECF6",
            "gridcolor": "white",
            "gridwidth": 2,
            "linecolor": "white",
            "showbackground": true,
            "ticks": "",
            "zerolinecolor": "white"
           }
          },
          "shapedefaults": {
           "line": {
            "color": "#2a3f5f"
           }
          },
          "ternary": {
           "aaxis": {
            "gridcolor": "white",
            "linecolor": "white",
            "ticks": ""
           },
           "baxis": {
            "gridcolor": "white",
            "linecolor": "white",
            "ticks": ""
           },
           "bgcolor": "#E5ECF6",
           "caxis": {
            "gridcolor": "white",
            "linecolor": "white",
            "ticks": ""
           }
          },
          "title": {
           "x": 0.05
          },
          "xaxis": {
           "automargin": true,
           "gridcolor": "white",
           "linecolor": "white",
           "ticks": "",
           "title": {
            "standoff": 15
           },
           "zerolinecolor": "white",
           "zerolinewidth": 2
          },
          "yaxis": {
           "automargin": true,
           "gridcolor": "white",
           "linecolor": "white",
           "ticks": "",
           "title": {
            "standoff": 15
           },
           "zerolinecolor": "white",
           "zerolinewidth": 2
          }
         }
        },
        "title": {
         "text": "Longest duration (in minutes) of top 10 rated movies"
        },
        "xaxis": {
         "anchor": "y",
         "domain": [
          0,
          1
         ],
         "title": {
          "text": "title"
         }
        },
        "yaxis": {
         "anchor": "x",
         "categoryarray": [
          209,
          212,
          218,
          220,
          224,
          229,
          238,
          242,
          321
         ],
         "categoryorder": "array",
         "domain": [
          0,
          1
         ],
         "title": {
          "text": "sum of duration"
         }
        }
       }
      },
      "text/html": [
       "<div>                            <div id=\"aeb018de-3d8d-489f-a290-5c11dc5ac5bd\" class=\"plotly-graph-div\" style=\"height:525px; width:100%;\"></div>            <script type=\"text/javascript\">                require([\"plotly\"], function(Plotly) {                    window.PLOTLYENV=window.PLOTLYENV || {};                                    if (document.getElementById(\"aeb018de-3d8d-489f-a290-5c11dc5ac5bd\")) {                    Plotly.newPlot(                        \"aeb018de-3d8d-489f-a290-5c11dc5ac5bd\",                        [{\"alignmentgroup\":\"True\",\"bingroup\":\"x\",\"histfunc\":\"sum\",\"hovertemplate\":\"duration=321<br>title=%{x}<br>sum of duration=%{y}<extra></extra>\",\"legendgroup\":\"321\",\"marker\":{\"color\":\"#636efa\",\"pattern\":{\"shape\":\"\"}},\"name\":\"321\",\"offsetgroup\":\"321\",\"orientation\":\"v\",\"showlegend\":true,\"x\":[\"Gangs of Wasseypur\"],\"xaxis\":\"x\",\"y\":[321],\"yaxis\":\"y\",\"type\":\"histogram\"},{\"alignmentgroup\":\"True\",\"bingroup\":\"x\",\"histfunc\":\"sum\",\"hovertemplate\":\"duration=242<br>title=%{x}<br>sum of duration=%{y}<extra></extra>\",\"legendgroup\":\"242\",\"marker\":{\"color\":\"#EF553B\",\"pattern\":{\"shape\":\"\"}},\"name\":\"242\",\"offsetgroup\":\"242\",\"orientation\":\"v\",\"showlegend\":true,\"x\":[\"Hamlet\",\"Zack Snyder's Justice League\"],\"xaxis\":\"x\",\"y\":[242,242],\"yaxis\":\"y\",\"type\":\"histogram\"},{\"alignmentgroup\":\"True\",\"bingroup\":\"x\",\"histfunc\":\"sum\",\"hovertemplate\":\"duration=238<br>title=%{x}<br>sum of duration=%{y}<extra></extra>\",\"legendgroup\":\"238\",\"marker\":{\"color\":\"#00cc96\",\"pattern\":{\"shape\":\"\"}},\"name\":\"238\",\"offsetgroup\":\"238\",\"orientation\":\"v\",\"showlegend\":true,\"x\":[\"Gone with the Wind\"],\"xaxis\":\"x\",\"y\":[238],\"yaxis\":\"y\",\"type\":\"histogram\"},{\"alignmentgroup\":\"True\",\"bingroup\":\"x\",\"histfunc\":\"sum\",\"hovertemplate\":\"duration=229<br>title=%{x}<br>sum of duration=%{y}<extra></extra>\",\"legendgroup\":\"229\",\"marker\":{\"color\":\"#ab63fa\",\"pattern\":{\"shape\":\"\"}},\"name\":\"229\",\"offsetgroup\":\"229\",\"orientation\":\"v\",\"showlegend\":true,\"x\":[\"Once Upon a Time in America\"],\"xaxis\":\"x\",\"y\":[229],\"yaxis\":\"y\",\"type\":\"histogram\"},{\"alignmentgroup\":\"True\",\"bingroup\":\"x\",\"histfunc\":\"sum\",\"hovertemplate\":\"duration=224<br>title=%{x}<br>sum of duration=%{y}<extra></extra>\",\"legendgroup\":\"224\",\"marker\":{\"color\":\"#FFA15A\",\"pattern\":{\"shape\":\"\"}},\"name\":\"224\",\"offsetgroup\":\"224\",\"orientation\":\"v\",\"showlegend\":true,\"x\":[\"Lagaan: Once Upon a Time in India\"],\"xaxis\":\"x\",\"y\":[224],\"yaxis\":\"y\",\"type\":\"histogram\"},{\"alignmentgroup\":\"True\",\"bingroup\":\"x\",\"histfunc\":\"sum\",\"hovertemplate\":\"duration=220<br>title=%{x}<br>sum of duration=%{y}<extra></extra>\",\"legendgroup\":\"220\",\"marker\":{\"color\":\"#19d3f3\",\"pattern\":{\"shape\":\"\"}},\"name\":\"220\",\"offsetgroup\":\"220\",\"orientation\":\"v\",\"showlegend\":true,\"x\":[\"The Ten Commandments\"],\"xaxis\":\"x\",\"y\":[220],\"yaxis\":\"y\",\"type\":\"histogram\"},{\"alignmentgroup\":\"True\",\"bingroup\":\"x\",\"histfunc\":\"sum\",\"hovertemplate\":\"duration=218<br>title=%{x}<br>sum of duration=%{y}<extra></extra>\",\"legendgroup\":\"218\",\"marker\":{\"color\":\"#FF6692\",\"pattern\":{\"shape\":\"\"}},\"name\":\"218\",\"offsetgroup\":\"218\",\"orientation\":\"v\",\"showlegend\":true,\"x\":[\"Lawrence of Arabia\"],\"xaxis\":\"x\",\"y\":[218],\"yaxis\":\"y\",\"type\":\"histogram\"},{\"alignmentgroup\":\"True\",\"bingroup\":\"x\",\"histfunc\":\"sum\",\"hovertemplate\":\"duration=212<br>title=%{x}<br>sum of duration=%{y}<extra></extra>\",\"legendgroup\":\"212\",\"marker\":{\"color\":\"#B6E880\",\"pattern\":{\"shape\":\"\"}},\"name\":\"212\",\"offsetgroup\":\"212\",\"orientation\":\"v\",\"showlegend\":true,\"x\":[\"Ben-Hur\"],\"xaxis\":\"x\",\"y\":[212],\"yaxis\":\"y\",\"type\":\"histogram\"},{\"alignmentgroup\":\"True\",\"bingroup\":\"x\",\"histfunc\":\"sum\",\"hovertemplate\":\"duration=209<br>title=%{x}<br>sum of duration=%{y}<extra></extra>\",\"legendgroup\":\"209\",\"marker\":{\"color\":\"#FF97FF\",\"pattern\":{\"shape\":\"\"}},\"name\":\"209\",\"offsetgroup\":\"209\",\"orientation\":\"v\",\"showlegend\":true,\"x\":[\"The Irishman\"],\"xaxis\":\"x\",\"y\":[209],\"yaxis\":\"y\",\"type\":\"histogram\"}],                        {\"template\":{\"data\":{\"histogram2dcontour\":[{\"type\":\"histogram2dcontour\",\"colorbar\":{\"outlinewidth\":0,\"ticks\":\"\"},\"colorscale\":[[0.0,\"#0d0887\"],[0.1111111111111111,\"#46039f\"],[0.2222222222222222,\"#7201a8\"],[0.3333333333333333,\"#9c179e\"],[0.4444444444444444,\"#bd3786\"],[0.5555555555555556,\"#d8576b\"],[0.6666666666666666,\"#ed7953\"],[0.7777777777777778,\"#fb9f3a\"],[0.8888888888888888,\"#fdca26\"],[1.0,\"#f0f921\"]]}],\"choropleth\":[{\"type\":\"choropleth\",\"colorbar\":{\"outlinewidth\":0,\"ticks\":\"\"}}],\"histogram2d\":[{\"type\":\"histogram2d\",\"colorbar\":{\"outlinewidth\":0,\"ticks\":\"\"},\"colorscale\":[[0.0,\"#0d0887\"],[0.1111111111111111,\"#46039f\"],[0.2222222222222222,\"#7201a8\"],[0.3333333333333333,\"#9c179e\"],[0.4444444444444444,\"#bd3786\"],[0.5555555555555556,\"#d8576b\"],[0.6666666666666666,\"#ed7953\"],[0.7777777777777778,\"#fb9f3a\"],[0.8888888888888888,\"#fdca26\"],[1.0,\"#f0f921\"]]}],\"heatmap\":[{\"type\":\"heatmap\",\"colorbar\":{\"outlinewidth\":0,\"ticks\":\"\"},\"colorscale\":[[0.0,\"#0d0887\"],[0.1111111111111111,\"#46039f\"],[0.2222222222222222,\"#7201a8\"],[0.3333333333333333,\"#9c179e\"],[0.4444444444444444,\"#bd3786\"],[0.5555555555555556,\"#d8576b\"],[0.6666666666666666,\"#ed7953\"],[0.7777777777777778,\"#fb9f3a\"],[0.8888888888888888,\"#fdca26\"],[1.0,\"#f0f921\"]]}],\"heatmapgl\":[{\"type\":\"heatmapgl\",\"colorbar\":{\"outlinewidth\":0,\"ticks\":\"\"},\"colorscale\":[[0.0,\"#0d0887\"],[0.1111111111111111,\"#46039f\"],[0.2222222222222222,\"#7201a8\"],[0.3333333333333333,\"#9c179e\"],[0.4444444444444444,\"#bd3786\"],[0.5555555555555556,\"#d8576b\"],[0.6666666666666666,\"#ed7953\"],[0.7777777777777778,\"#fb9f3a\"],[0.8888888888888888,\"#fdca26\"],[1.0,\"#f0f921\"]]}],\"contourcarpet\":[{\"type\":\"contourcarpet\",\"colorbar\":{\"outlinewidth\":0,\"ticks\":\"\"}}],\"contour\":[{\"type\":\"contour\",\"colorbar\":{\"outlinewidth\":0,\"ticks\":\"\"},\"colorscale\":[[0.0,\"#0d0887\"],[0.1111111111111111,\"#46039f\"],[0.2222222222222222,\"#7201a8\"],[0.3333333333333333,\"#9c179e\"],[0.4444444444444444,\"#bd3786\"],[0.5555555555555556,\"#d8576b\"],[0.6666666666666666,\"#ed7953\"],[0.7777777777777778,\"#fb9f3a\"],[0.8888888888888888,\"#fdca26\"],[1.0,\"#f0f921\"]]}],\"surface\":[{\"type\":\"surface\",\"colorbar\":{\"outlinewidth\":0,\"ticks\":\"\"},\"colorscale\":[[0.0,\"#0d0887\"],[0.1111111111111111,\"#46039f\"],[0.2222222222222222,\"#7201a8\"],[0.3333333333333333,\"#9c179e\"],[0.4444444444444444,\"#bd3786\"],[0.5555555555555556,\"#d8576b\"],[0.6666666666666666,\"#ed7953\"],[0.7777777777777778,\"#fb9f3a\"],[0.8888888888888888,\"#fdca26\"],[1.0,\"#f0f921\"]]}],\"mesh3d\":[{\"type\":\"mesh3d\",\"colorbar\":{\"outlinewidth\":0,\"ticks\":\"\"}}],\"scatter\":[{\"fillpattern\":{\"fillmode\":\"overlay\",\"size\":10,\"solidity\":0.2},\"type\":\"scatter\"}],\"parcoords\":[{\"type\":\"parcoords\",\"line\":{\"colorbar\":{\"outlinewidth\":0,\"ticks\":\"\"}}}],\"scatterpolargl\":[{\"type\":\"scatterpolargl\",\"marker\":{\"colorbar\":{\"outlinewidth\":0,\"ticks\":\"\"}}}],\"bar\":[{\"error_x\":{\"color\":\"#2a3f5f\"},\"error_y\":{\"color\":\"#2a3f5f\"},\"marker\":{\"line\":{\"color\":\"#E5ECF6\",\"width\":0.5},\"pattern\":{\"fillmode\":\"overlay\",\"size\":10,\"solidity\":0.2}},\"type\":\"bar\"}],\"scattergeo\":[{\"type\":\"scattergeo\",\"marker\":{\"colorbar\":{\"outlinewidth\":0,\"ticks\":\"\"}}}],\"scatterpolar\":[{\"type\":\"scatterpolar\",\"marker\":{\"colorbar\":{\"outlinewidth\":0,\"ticks\":\"\"}}}],\"histogram\":[{\"marker\":{\"pattern\":{\"fillmode\":\"overlay\",\"size\":10,\"solidity\":0.2}},\"type\":\"histogram\"}],\"scattergl\":[{\"type\":\"scattergl\",\"marker\":{\"colorbar\":{\"outlinewidth\":0,\"ticks\":\"\"}}}],\"scatter3d\":[{\"type\":\"scatter3d\",\"line\":{\"colorbar\":{\"outlinewidth\":0,\"ticks\":\"\"}},\"marker\":{\"colorbar\":{\"outlinewidth\":0,\"ticks\":\"\"}}}],\"scattermapbox\":[{\"type\":\"scattermapbox\",\"marker\":{\"colorbar\":{\"outlinewidth\":0,\"ticks\":\"\"}}}],\"scatterternary\":[{\"type\":\"scatterternary\",\"marker\":{\"colorbar\":{\"outlinewidth\":0,\"ticks\":\"\"}}}],\"scattercarpet\":[{\"type\":\"scattercarpet\",\"marker\":{\"colorbar\":{\"outlinewidth\":0,\"ticks\":\"\"}}}],\"carpet\":[{\"aaxis\":{\"endlinecolor\":\"#2a3f5f\",\"gridcolor\":\"white\",\"linecolor\":\"white\",\"minorgridcolor\":\"white\",\"startlinecolor\":\"#2a3f5f\"},\"baxis\":{\"endlinecolor\":\"#2a3f5f\",\"gridcolor\":\"white\",\"linecolor\":\"white\",\"minorgridcolor\":\"white\",\"startlinecolor\":\"#2a3f5f\"},\"type\":\"carpet\"}],\"table\":[{\"cells\":{\"fill\":{\"color\":\"#EBF0F8\"},\"line\":{\"color\":\"white\"}},\"header\":{\"fill\":{\"color\":\"#C8D4E3\"},\"line\":{\"color\":\"white\"}},\"type\":\"table\"}],\"barpolar\":[{\"marker\":{\"line\":{\"color\":\"#E5ECF6\",\"width\":0.5},\"pattern\":{\"fillmode\":\"overlay\",\"size\":10,\"solidity\":0.2}},\"type\":\"barpolar\"}],\"pie\":[{\"automargin\":true,\"type\":\"pie\"}]},\"layout\":{\"autotypenumbers\":\"strict\",\"colorway\":[\"#636efa\",\"#EF553B\",\"#00cc96\",\"#ab63fa\",\"#FFA15A\",\"#19d3f3\",\"#FF6692\",\"#B6E880\",\"#FF97FF\",\"#FECB52\"],\"font\":{\"color\":\"#2a3f5f\"},\"hovermode\":\"closest\",\"hoverlabel\":{\"align\":\"left\"},\"paper_bgcolor\":\"white\",\"plot_bgcolor\":\"#E5ECF6\",\"polar\":{\"bgcolor\":\"#E5ECF6\",\"angularaxis\":{\"gridcolor\":\"white\",\"linecolor\":\"white\",\"ticks\":\"\"},\"radialaxis\":{\"gridcolor\":\"white\",\"linecolor\":\"white\",\"ticks\":\"\"}},\"ternary\":{\"bgcolor\":\"#E5ECF6\",\"aaxis\":{\"gridcolor\":\"white\",\"linecolor\":\"white\",\"ticks\":\"\"},\"baxis\":{\"gridcolor\":\"white\",\"linecolor\":\"white\",\"ticks\":\"\"},\"caxis\":{\"gridcolor\":\"white\",\"linecolor\":\"white\",\"ticks\":\"\"}},\"coloraxis\":{\"colorbar\":{\"outlinewidth\":0,\"ticks\":\"\"}},\"colorscale\":{\"sequential\":[[0.0,\"#0d0887\"],[0.1111111111111111,\"#46039f\"],[0.2222222222222222,\"#7201a8\"],[0.3333333333333333,\"#9c179e\"],[0.4444444444444444,\"#bd3786\"],[0.5555555555555556,\"#d8576b\"],[0.6666666666666666,\"#ed7953\"],[0.7777777777777778,\"#fb9f3a\"],[0.8888888888888888,\"#fdca26\"],[1.0,\"#f0f921\"]],\"sequentialminus\":[[0.0,\"#0d0887\"],[0.1111111111111111,\"#46039f\"],[0.2222222222222222,\"#7201a8\"],[0.3333333333333333,\"#9c179e\"],[0.4444444444444444,\"#bd3786\"],[0.5555555555555556,\"#d8576b\"],[0.6666666666666666,\"#ed7953\"],[0.7777777777777778,\"#fb9f3a\"],[0.8888888888888888,\"#fdca26\"],[1.0,\"#f0f921\"]],\"diverging\":[[0,\"#8e0152\"],[0.1,\"#c51b7d\"],[0.2,\"#de77ae\"],[0.3,\"#f1b6da\"],[0.4,\"#fde0ef\"],[0.5,\"#f7f7f7\"],[0.6,\"#e6f5d0\"],[0.7,\"#b8e186\"],[0.8,\"#7fbc41\"],[0.9,\"#4d9221\"],[1,\"#276419\"]]},\"xaxis\":{\"gridcolor\":\"white\",\"linecolor\":\"white\",\"ticks\":\"\",\"title\":{\"standoff\":15},\"zerolinecolor\":\"white\",\"automargin\":true,\"zerolinewidth\":2},\"yaxis\":{\"gridcolor\":\"white\",\"linecolor\":\"white\",\"ticks\":\"\",\"title\":{\"standoff\":15},\"zerolinecolor\":\"white\",\"automargin\":true,\"zerolinewidth\":2},\"scene\":{\"xaxis\":{\"backgroundcolor\":\"#E5ECF6\",\"gridcolor\":\"white\",\"linecolor\":\"white\",\"showbackground\":true,\"ticks\":\"\",\"zerolinecolor\":\"white\",\"gridwidth\":2},\"yaxis\":{\"backgroundcolor\":\"#E5ECF6\",\"gridcolor\":\"white\",\"linecolor\":\"white\",\"showbackground\":true,\"ticks\":\"\",\"zerolinecolor\":\"white\",\"gridwidth\":2},\"zaxis\":{\"backgroundcolor\":\"#E5ECF6\",\"gridcolor\":\"white\",\"linecolor\":\"white\",\"showbackground\":true,\"ticks\":\"\",\"zerolinecolor\":\"white\",\"gridwidth\":2}},\"shapedefaults\":{\"line\":{\"color\":\"#2a3f5f\"}},\"annotationdefaults\":{\"arrowcolor\":\"#2a3f5f\",\"arrowhead\":0,\"arrowwidth\":1},\"geo\":{\"bgcolor\":\"white\",\"landcolor\":\"#E5ECF6\",\"subunitcolor\":\"white\",\"showland\":true,\"showlakes\":true,\"lakecolor\":\"white\"},\"title\":{\"x\":0.05},\"mapbox\":{\"style\":\"light\"}}},\"xaxis\":{\"anchor\":\"y\",\"domain\":[0.0,1.0],\"title\":{\"text\":\"title\"}},\"yaxis\":{\"anchor\":\"x\",\"domain\":[0.0,1.0],\"title\":{\"text\":\"sum of duration\"},\"categoryorder\":\"array\",\"categoryarray\":[209,212,218,220,224,229,238,242,321]},\"legend\":{\"title\":{\"text\":\"duration\"},\"tracegroupgap\":0},\"title\":{\"text\":\"Longest duration (in minutes) of top 10 rated movies\"},\"barmode\":\"relative\",\"bargap\":0.2},                        {\"responsive\": true}                    ).then(function(){\n",
       "                            \n",
       "var gd = document.getElementById('aeb018de-3d8d-489f-a290-5c11dc5ac5bd');\n",
       "var x = new MutationObserver(function (mutations, observer) {{\n",
       "        var display = window.getComputedStyle(gd).display;\n",
       "        if (!display || display === 'none') {{\n",
       "            console.log([gd, 'removed!']);\n",
       "            Plotly.purge(gd);\n",
       "            observer.disconnect();\n",
       "        }}\n",
       "}});\n",
       "\n",
       "// Listen for the removal of the full notebook cells\n",
       "var notebookContainer = gd.closest('#notebook-container');\n",
       "if (notebookContainer) {{\n",
       "    x.observe(notebookContainer, {childList: true});\n",
       "}}\n",
       "\n",
       "// Listen for the clearing of the current output cell\n",
       "var outputEl = gd.closest('.output');\n",
       "if (outputEl) {{\n",
       "    x.observe(outputEl, {childList: true});\n",
       "}}\n",
       "\n",
       "                        })                };                });            </script>        </div>"
      ]
     },
     "metadata": {},
     "output_type": "display_data"
    }
   ],
   "source": [
    "fig = px.histogram(movie_df.sort_values(by='duration', ascending = False)[:10], \n",
    "                   y = \"duration\",\n",
    "                   x = \"title\",\n",
    "                   title = \"Longest duration (in minutes) of top 10 rated movies\",\n",
    "                   color = 'duration') \n",
    "fig.update_layout(bargap=0.2)"
   ]
  },
  {
   "cell_type": "markdown",
   "metadata": {},
   "source": [
    "### Movies released after 2015 filtered by using `query()`"
   ]
  },
  {
   "cell_type": "code",
   "execution_count": 62,
   "metadata": {
    "scrolled": true
   },
   "outputs": [
    {
     "data": {
      "text/html": [
       "<div>\n",
       "<style scoped>\n",
       "    .dataframe tbody tr th:only-of-type {\n",
       "        vertical-align: middle;\n",
       "    }\n",
       "\n",
       "    .dataframe tbody tr th {\n",
       "        vertical-align: top;\n",
       "    }\n",
       "\n",
       "    .dataframe thead th {\n",
       "        text-align: right;\n",
       "    }\n",
       "</style>\n",
       "<table border=\"1\" class=\"dataframe\">\n",
       "  <thead>\n",
       "    <tr style=\"text-align: right;\">\n",
       "      <th></th>\n",
       "      <th>title</th>\n",
       "      <th>duration</th>\n",
       "      <th>release_year</th>\n",
       "      <th>genre</th>\n",
       "      <th>rating</th>\n",
       "      <th>url</th>\n",
       "    </tr>\n",
       "  </thead>\n",
       "  <tbody>\n",
       "    <tr>\n",
       "      <th>611</th>\n",
       "      <td>Loving Vincent</td>\n",
       "      <td>94</td>\n",
       "      <td>2017</td>\n",
       "      <td>Animation, Biography, Crime</td>\n",
       "      <td>7.8</td>\n",
       "      <td>https://www.imdb.com/title/tt3262342/</td>\n",
       "    </tr>\n",
       "    <tr>\n",
       "      <th>748</th>\n",
       "      <td>Perfect Strangers</td>\n",
       "      <td>96</td>\n",
       "      <td>2016</td>\n",
       "      <td>Comedy, Drama</td>\n",
       "      <td>7.7</td>\n",
       "      <td>https://www.imdb.com/title/tt4901306/</td>\n",
       "    </tr>\n",
       "    <tr>\n",
       "      <th>212</th>\n",
       "      <td>Klaus</td>\n",
       "      <td>96</td>\n",
       "      <td>2019</td>\n",
       "      <td>Animation, Adventure, Comedy</td>\n",
       "      <td>8.1</td>\n",
       "      <td>https://www.imdb.com/title/tt4729430/</td>\n",
       "    </tr>\n",
       "    <tr>\n",
       "      <th>157</th>\n",
       "      <td>The Father</td>\n",
       "      <td>97</td>\n",
       "      <td>2020</td>\n",
       "      <td>Drama, Mystery</td>\n",
       "      <td>8.2</td>\n",
       "      <td>https://www.imdb.com/title/tt10272386/</td>\n",
       "    </tr>\n",
       "    <tr>\n",
       "      <th>594</th>\n",
       "      <td>Dragon Ball Super: Broly</td>\n",
       "      <td>100</td>\n",
       "      <td>2018</td>\n",
       "      <td>Animation, Action, Adventure</td>\n",
       "      <td>7.8</td>\n",
       "      <td>https://www.imdb.com/title/tt7961060/</td>\n",
       "    </tr>\n",
       "    <tr>\n",
       "      <th>344</th>\n",
       "      <td>Soul</td>\n",
       "      <td>100</td>\n",
       "      <td>2020</td>\n",
       "      <td>Animation, Adventure, Comedy</td>\n",
       "      <td>8.0</td>\n",
       "      <td>https://www.imdb.com/title/tt2948372/</td>\n",
       "    </tr>\n",
       "    <tr>\n",
       "      <th>597</th>\n",
       "      <td>I, Daniel Blake</td>\n",
       "      <td>100</td>\n",
       "      <td>2016</td>\n",
       "      <td>Drama</td>\n",
       "      <td>7.8</td>\n",
       "      <td>https://www.imdb.com/title/tt5168192/</td>\n",
       "    </tr>\n",
       "    <tr>\n",
       "      <th>763</th>\n",
       "      <td>Toy Story 4</td>\n",
       "      <td>100</td>\n",
       "      <td>2019</td>\n",
       "      <td>Animation, Adventure, Comedy</td>\n",
       "      <td>7.7</td>\n",
       "      <td>https://www.imdb.com/title/tt1979376/</td>\n",
       "    </tr>\n",
       "    <tr>\n",
       "      <th>335</th>\n",
       "      <td>Quo Vadis, Aida?</td>\n",
       "      <td>101</td>\n",
       "      <td>2020</td>\n",
       "      <td>Drama, History, War</td>\n",
       "      <td>8.0</td>\n",
       "      <td>https://www.imdb.com/title/tt8633462/</td>\n",
       "    </tr>\n",
       "    <tr>\n",
       "      <th>598</th>\n",
       "      <td>Isle of Dogs</td>\n",
       "      <td>101</td>\n",
       "      <td>2018</td>\n",
       "      <td>Animation, Adventure, Comedy</td>\n",
       "      <td>7.8</td>\n",
       "      <td>https://www.imdb.com/title/tt5104604/</td>\n",
       "    </tr>\n",
       "  </tbody>\n",
       "</table>\n",
       "</div>"
      ],
      "text/plain": [
       "                        title  duration  release_year  \\\n",
       "611            Loving Vincent        94          2017   \n",
       "748         Perfect Strangers        96          2016   \n",
       "212                     Klaus        96          2019   \n",
       "157                The Father        97          2020   \n",
       "594  Dragon Ball Super: Broly       100          2018   \n",
       "344                      Soul       100          2020   \n",
       "597           I, Daniel Blake       100          2016   \n",
       "763               Toy Story 4       100          2019   \n",
       "335          Quo Vadis, Aida?       101          2020   \n",
       "598              Isle of Dogs       101          2018   \n",
       "\n",
       "                            genre  rating  \\\n",
       "611   Animation, Biography, Crime     7.8   \n",
       "748                 Comedy, Drama     7.7   \n",
       "212  Animation, Adventure, Comedy     8.1   \n",
       "157                Drama, Mystery     8.2   \n",
       "594  Animation, Action, Adventure     7.8   \n",
       "344  Animation, Adventure, Comedy     8.0   \n",
       "597                         Drama     7.8   \n",
       "763  Animation, Adventure, Comedy     7.7   \n",
       "335           Drama, History, War     8.0   \n",
       "598  Animation, Adventure, Comedy     7.8   \n",
       "\n",
       "                                        url  \n",
       "611   https://www.imdb.com/title/tt3262342/  \n",
       "748   https://www.imdb.com/title/tt4901306/  \n",
       "212   https://www.imdb.com/title/tt4729430/  \n",
       "157  https://www.imdb.com/title/tt10272386/  \n",
       "594   https://www.imdb.com/title/tt7961060/  \n",
       "344   https://www.imdb.com/title/tt2948372/  \n",
       "597   https://www.imdb.com/title/tt5168192/  \n",
       "763   https://www.imdb.com/title/tt1979376/  \n",
       "335   https://www.imdb.com/title/tt8633462/  \n",
       "598   https://www.imdb.com/title/tt5104604/  "
      ]
     },
     "execution_count": 62,
     "metadata": {},
     "output_type": "execute_result"
    }
   ],
   "source": [
    "movie_df.query('release_year > 2015').sort_values(by = 'duration')[:10]"
   ]
  }
 ],
 "metadata": {
  "kernelspec": {
   "display_name": "Python 3 (ipykernel)",
   "language": "python",
   "name": "python3"
  },
  "language_info": {
   "codemirror_mode": {
    "name": "ipython",
    "version": 3
   },
   "file_extension": ".py",
   "mimetype": "text/x-python",
   "name": "python",
   "nbconvert_exporter": "python",
   "pygments_lexer": "ipython3",
   "version": "3.9.6"
  }
 },
 "nbformat": 4,
 "nbformat_minor": 2
}
